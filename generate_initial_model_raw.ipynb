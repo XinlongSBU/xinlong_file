{
 "cells": [
  {
   "cell_type": "code",
   "execution_count": 13,
   "metadata": {
    "scrolled": true
   },
   "outputs": [
    {
     "data": {
      "text/html": [
       "<div>\n",
       "<style scoped>\n",
       "    .dataframe tbody tr th:only-of-type {\n",
       "        vertical-align: middle;\n",
       "    }\n",
       "\n",
       "    .dataframe tbody tr th {\n",
       "        vertical-align: top;\n",
       "    }\n",
       "\n",
       "    .dataframe thead th {\n",
       "        text-align: right;\n",
       "    }\n",
       "</style>\n",
       "<table border=\"1\" class=\"dataframe\">\n",
       "  <thead>\n",
       "    <tr style=\"text-align: right;\">\n",
       "      <th></th>\n",
       "      <th>radius</th>\n",
       "      <th>density</th>\n",
       "      <th>temperature</th>\n",
       "      <th>pressure</th>\n",
       "      <th>ne20</th>\n",
       "      <th>o16</th>\n",
       "      <th>o20</th>\n",
       "      <th>mg24</th>\n",
       "      <th>f29</th>\n",
       "      <th>he4</th>\n",
       "      <th>al27</th>\n",
       "      <th>si28</th>\n",
       "      <th>s32</th>\n",
       "      <th>p31</th>\n",
       "      <th>h1</th>\n",
       "    </tr>\n",
       "  </thead>\n",
       "  <tbody>\n",
       "    <tr>\n",
       "      <th>0</th>\n",
       "      <td>24414.0625</td>\n",
       "      <td>8.357081e+09</td>\n",
       "      <td>6.566095e+08</td>\n",
       "      <td>8.216986e+27</td>\n",
       "      <td>0.4</td>\n",
       "      <td>0.6</td>\n",
       "      <td>1.000000e-10</td>\n",
       "      <td>1.000000e-10</td>\n",
       "      <td>1.000000e-10</td>\n",
       "      <td>1.000000e-10</td>\n",
       "      <td>1.000000e-10</td>\n",
       "      <td>1.000000e-10</td>\n",
       "      <td>1.000000e-10</td>\n",
       "      <td>1.000000e-10</td>\n",
       "      <td>1.000000e-10</td>\n",
       "    </tr>\n",
       "    <tr>\n",
       "      <th>1</th>\n",
       "      <td>73242.1875</td>\n",
       "      <td>8.357045e+09</td>\n",
       "      <td>6.566367e+08</td>\n",
       "      <td>8.216939e+27</td>\n",
       "      <td>0.4</td>\n",
       "      <td>0.6</td>\n",
       "      <td>1.000000e-10</td>\n",
       "      <td>1.000000e-10</td>\n",
       "      <td>1.000000e-10</td>\n",
       "      <td>1.000000e-10</td>\n",
       "      <td>1.000000e-10</td>\n",
       "      <td>1.000000e-10</td>\n",
       "      <td>1.000000e-10</td>\n",
       "      <td>1.000000e-10</td>\n",
       "      <td>1.000000e-10</td>\n",
       "    </tr>\n",
       "    <tr>\n",
       "      <th>2</th>\n",
       "      <td>122070.3125</td>\n",
       "      <td>8.356971e+09</td>\n",
       "      <td>6.566911e+08</td>\n",
       "      <td>8.216846e+27</td>\n",
       "      <td>0.4</td>\n",
       "      <td>0.6</td>\n",
       "      <td>1.000000e-10</td>\n",
       "      <td>1.000000e-10</td>\n",
       "      <td>1.000000e-10</td>\n",
       "      <td>1.000000e-10</td>\n",
       "      <td>1.000000e-10</td>\n",
       "      <td>1.000000e-10</td>\n",
       "      <td>1.000000e-10</td>\n",
       "      <td>1.000000e-10</td>\n",
       "      <td>1.000000e-10</td>\n",
       "    </tr>\n",
       "    <tr>\n",
       "      <th>3</th>\n",
       "      <td>170898.4375</td>\n",
       "      <td>8.356861e+09</td>\n",
       "      <td>6.567727e+08</td>\n",
       "      <td>8.216706e+27</td>\n",
       "      <td>0.4</td>\n",
       "      <td>0.6</td>\n",
       "      <td>1.000000e-10</td>\n",
       "      <td>1.000000e-10</td>\n",
       "      <td>1.000000e-10</td>\n",
       "      <td>1.000000e-10</td>\n",
       "      <td>1.000000e-10</td>\n",
       "      <td>1.000000e-10</td>\n",
       "      <td>1.000000e-10</td>\n",
       "      <td>1.000000e-10</td>\n",
       "      <td>1.000000e-10</td>\n",
       "    </tr>\n",
       "    <tr>\n",
       "      <th>4</th>\n",
       "      <td>219726.5625</td>\n",
       "      <td>8.356714e+09</td>\n",
       "      <td>6.568815e+08</td>\n",
       "      <td>8.216520e+27</td>\n",
       "      <td>0.4</td>\n",
       "      <td>0.6</td>\n",
       "      <td>1.000000e-10</td>\n",
       "      <td>1.000000e-10</td>\n",
       "      <td>1.000000e-10</td>\n",
       "      <td>1.000000e-10</td>\n",
       "      <td>1.000000e-10</td>\n",
       "      <td>1.000000e-10</td>\n",
       "      <td>1.000000e-10</td>\n",
       "      <td>1.000000e-10</td>\n",
       "      <td>1.000000e-10</td>\n",
       "    </tr>\n",
       "  </tbody>\n",
       "</table>\n",
       "</div>"
      ],
      "text/plain": [
       "        radius       density   temperature      pressure  ne20  o16  \\\n",
       "0   24414.0625  8.357081e+09  6.566095e+08  8.216986e+27   0.4  0.6   \n",
       "1   73242.1875  8.357045e+09  6.566367e+08  8.216939e+27   0.4  0.6   \n",
       "2  122070.3125  8.356971e+09  6.566911e+08  8.216846e+27   0.4  0.6   \n",
       "3  170898.4375  8.356861e+09  6.567727e+08  8.216706e+27   0.4  0.6   \n",
       "4  219726.5625  8.356714e+09  6.568815e+08  8.216520e+27   0.4  0.6   \n",
       "\n",
       "            o20          mg24           f29           he4          al27  \\\n",
       "0  1.000000e-10  1.000000e-10  1.000000e-10  1.000000e-10  1.000000e-10   \n",
       "1  1.000000e-10  1.000000e-10  1.000000e-10  1.000000e-10  1.000000e-10   \n",
       "2  1.000000e-10  1.000000e-10  1.000000e-10  1.000000e-10  1.000000e-10   \n",
       "3  1.000000e-10  1.000000e-10  1.000000e-10  1.000000e-10  1.000000e-10   \n",
       "4  1.000000e-10  1.000000e-10  1.000000e-10  1.000000e-10  1.000000e-10   \n",
       "\n",
       "           si28           s32           p31            h1  \n",
       "0  1.000000e-10  1.000000e-10  1.000000e-10  1.000000e-10  \n",
       "1  1.000000e-10  1.000000e-10  1.000000e-10  1.000000e-10  \n",
       "2  1.000000e-10  1.000000e-10  1.000000e-10  1.000000e-10  \n",
       "3  1.000000e-10  1.000000e-10  1.000000e-10  1.000000e-10  \n",
       "4  1.000000e-10  1.000000e-10  1.000000e-10  1.000000e-10  "
      ]
     },
     "execution_count": 13,
     "metadata": {},
     "output_type": "execute_result"
    }
   ],
   "source": [
    "import pandas as pd\n",
    "import numpy as np\n",
    "import matplotlib.pyplot as plt\n",
    "import re\n",
    "\n",
    "# Read data from mesa data: \n",
    "a = pd.read_excel(\"Workbook1.xlsx\")\n",
    "\n",
    "# Read data after the initial module\n",
    "f = open(\"kepler_xinlong_ONe6040-final.hse.5120\",\"r\")\n",
    "data = f.readlines()  # data is a list. each element is a line of \"23Ne...dat\"\n",
    "f.close()\n",
    "del data[0:16]\n",
    "\n",
    "data2d = []\n",
    "for i in range(len(data)):\n",
    "    data2d.append(re.split(r\"[ ]\",data[i].strip('\\n')))\n",
    "\n",
    "for i in range(len(data2d)):\n",
    "        while '' in data2d[i]:\n",
    "            data2d[i].remove('')\n",
    "\n",
    "for i in range(len(data2d)-1,-1,-1):\n",
    "    if len(data2d[i]) == 3:\n",
    "        data2d.pop(i)\n",
    "        #ll.append(i)\n",
    "        i+=1\n",
    "    else:\n",
    "        data2d[i].append('0.9999999989999999E-10')\n",
    "        data2d[i].append('0.9999999989999999E-10')\n",
    "        data2d[i].append('0.9999999989999999E-10')\n",
    "        #data2d[i].append('0.9999999989999999E-10')\n",
    "        #mm.append(i)\n",
    "\n",
    "data3d = np.array(data2d).astype(np.float)\n",
    "\n",
    "df = pd.DataFrame(data3d)\n",
    "df.columns = ['radius','density','temperature','pressure','ne20','o16','o20','mg24','f29','he4','al27','si28','s32','p31','h1']\n",
    "df.head()"
   ]
  },
  {
   "cell_type": "code",
   "execution_count": 14,
   "metadata": {},
   "outputs": [
    {
     "data": {
      "text/html": [
       "<div>\n",
       "<style scoped>\n",
       "    .dataframe tbody tr th:only-of-type {\n",
       "        vertical-align: middle;\n",
       "    }\n",
       "\n",
       "    .dataframe tbody tr th {\n",
       "        vertical-align: top;\n",
       "    }\n",
       "\n",
       "    .dataframe thead th {\n",
       "        text-align: right;\n",
       "    }\n",
       "</style>\n",
       "<table border=\"1\" class=\"dataframe\">\n",
       "  <thead>\n",
       "    <tr style=\"text-align: right;\">\n",
       "      <th></th>\n",
       "      <th>zone</th>\n",
       "      <th>logT</th>\n",
       "      <th>logRho</th>\n",
       "      <th>logP</th>\n",
       "      <th>logR</th>\n",
       "      <th>luminosity</th>\n",
       "      <th>conv_vel</th>\n",
       "      <th>grav</th>\n",
       "      <th>eps_grav</th>\n",
       "      <th>log_abs_eps_grav_dm_div_L</th>\n",
       "      <th>...</th>\n",
       "      <th>brunt_nonB</th>\n",
       "      <th>delta_r</th>\n",
       "      <th>delta_L</th>\n",
       "      <th>delta_cell_vol</th>\n",
       "      <th>delta_entropy</th>\n",
       "      <th>delta_T</th>\n",
       "      <th>delta_rho</th>\n",
       "      <th>delta_eps_nuc</th>\n",
       "      <th>delta_mu</th>\n",
       "      <th>nz_minus_k</th>\n",
       "    </tr>\n",
       "  </thead>\n",
       "  <tbody>\n",
       "    <tr>\n",
       "      <th>0</th>\n",
       "      <td>1</td>\n",
       "      <td>6.449001</td>\n",
       "      <td>-2.050754</td>\n",
       "      <td>12.114770</td>\n",
       "      <td>-2.673357</td>\n",
       "      <td>724.013527</td>\n",
       "      <td>0.0</td>\n",
       "      <td>8.450847e+09</td>\n",
       "      <td>3.454532e+13</td>\n",
       "      <td>-3.174188</td>\n",
       "      <td>...</td>\n",
       "      <td>0.019453</td>\n",
       "      <td>-509.176636</td>\n",
       "      <td>-140013192951860991742996111163392</td>\n",
       "      <td>-63812375843638000</td>\n",
       "      <td>-0.000020</td>\n",
       "      <td>-17.959033</td>\n",
       "      <td>9.370495e-08</td>\n",
       "      <td>-1.564110e-198</td>\n",
       "      <td>3.688741e-08</td>\n",
       "      <td>1903</td>\n",
       "    </tr>\n",
       "    <tr>\n",
       "      <th>1</th>\n",
       "      <td>2</td>\n",
       "      <td>6.541620</td>\n",
       "      <td>-1.787840</td>\n",
       "      <td>12.472254</td>\n",
       "      <td>-2.673422</td>\n",
       "      <td>723.528731</td>\n",
       "      <td>0.0</td>\n",
       "      <td>8.453379e+09</td>\n",
       "      <td>4.324352e+13</td>\n",
       "      <td>-3.076365</td>\n",
       "      <td>...</td>\n",
       "      <td>0.043563</td>\n",
       "      <td>-509.096255</td>\n",
       "      <td>-139975143253671006284438925475840</td>\n",
       "      <td>-49360147323616600</td>\n",
       "      <td>-0.000020</td>\n",
       "      <td>-12.742761</td>\n",
       "      <td>2.432423e-07</td>\n",
       "      <td>-3.179911e-190</td>\n",
       "      <td>1.892295e-08</td>\n",
       "      <td>1902</td>\n",
       "    </tr>\n",
       "    <tr>\n",
       "      <th>2</th>\n",
       "      <td>3</td>\n",
       "      <td>6.582557</td>\n",
       "      <td>-1.631117</td>\n",
       "      <td>12.665693</td>\n",
       "      <td>-2.673458</td>\n",
       "      <td>722.921868</td>\n",
       "      <td>0.0</td>\n",
       "      <td>8.454763e+09</td>\n",
       "      <td>4.454301e+13</td>\n",
       "      <td>-3.063142</td>\n",
       "      <td>...</td>\n",
       "      <td>0.102150</td>\n",
       "      <td>-508.999316</td>\n",
       "      <td>-139953306672743993624491613749248</td>\n",
       "      <td>-37492417973472000</td>\n",
       "      <td>-0.000019</td>\n",
       "      <td>-11.966833</td>\n",
       "      <td>3.802286e-07</td>\n",
       "      <td>-1.172476e-186</td>\n",
       "      <td>1.784207e-08</td>\n",
       "      <td>1901</td>\n",
       "    </tr>\n",
       "    <tr>\n",
       "      <th>3</th>\n",
       "      <td>4</td>\n",
       "      <td>6.609343</td>\n",
       "      <td>-1.521033</td>\n",
       "      <td>12.799079</td>\n",
       "      <td>-2.673483</td>\n",
       "      <td>722.296768</td>\n",
       "      <td>0.0</td>\n",
       "      <td>8.455728e+09</td>\n",
       "      <td>3.710949e+13</td>\n",
       "      <td>-3.142061</td>\n",
       "      <td>...</td>\n",
       "      <td>0.117716</td>\n",
       "      <td>-508.920462</td>\n",
       "      <td>-139938718259105996545987681714176</td>\n",
       "      <td>-30213396388202000</td>\n",
       "      <td>-0.000019</td>\n",
       "      <td>-11.906908</td>\n",
       "      <td>5.087084e-07</td>\n",
       "      <td>-2.334145e-184</td>\n",
       "      <td>1.814348e-08</td>\n",
       "      <td>1900</td>\n",
       "    </tr>\n",
       "    <tr>\n",
       "      <th>4</th>\n",
       "      <td>5</td>\n",
       "      <td>6.629321</td>\n",
       "      <td>-1.436337</td>\n",
       "      <td>12.900996</td>\n",
       "      <td>-2.673502</td>\n",
       "      <td>721.775987</td>\n",
       "      <td>0.0</td>\n",
       "      <td>8.456476e+09</td>\n",
       "      <td>3.139292e+13</td>\n",
       "      <td>-3.214401</td>\n",
       "      <td>...</td>\n",
       "      <td>0.125661</td>\n",
       "      <td>-508.855178</td>\n",
       "      <td>-139926906601091006699462320979968</td>\n",
       "      <td>-25375485709962600</td>\n",
       "      <td>-0.000019</td>\n",
       "      <td>-12.046699</td>\n",
       "      <td>6.310639e-07</td>\n",
       "      <td>-1.156119e-182</td>\n",
       "      <td>1.877611e-08</td>\n",
       "      <td>1899</td>\n",
       "    </tr>\n",
       "  </tbody>\n",
       "</table>\n",
       "<p>5 rows × 143 columns</p>\n",
       "</div>"
      ],
      "text/plain": [
       "   zone      logT    logRho       logP      logR  luminosity  conv_vel  \\\n",
       "0     1  6.449001 -2.050754  12.114770 -2.673357  724.013527       0.0   \n",
       "1     2  6.541620 -1.787840  12.472254 -2.673422  723.528731       0.0   \n",
       "2     3  6.582557 -1.631117  12.665693 -2.673458  722.921868       0.0   \n",
       "3     4  6.609343 -1.521033  12.799079 -2.673483  722.296768       0.0   \n",
       "4     5  6.629321 -1.436337  12.900996 -2.673502  721.775987       0.0   \n",
       "\n",
       "           grav      eps_grav  log_abs_eps_grav_dm_div_L     ...      \\\n",
       "0  8.450847e+09  3.454532e+13                  -3.174188     ...       \n",
       "1  8.453379e+09  4.324352e+13                  -3.076365     ...       \n",
       "2  8.454763e+09  4.454301e+13                  -3.063142     ...       \n",
       "3  8.455728e+09  3.710949e+13                  -3.142061     ...       \n",
       "4  8.456476e+09  3.139292e+13                  -3.214401     ...       \n",
       "\n",
       "   brunt_nonB     delta_r                             delta_L  \\\n",
       "0    0.019453 -509.176636  -140013192951860991742996111163392   \n",
       "1    0.043563 -509.096255  -139975143253671006284438925475840   \n",
       "2    0.102150 -508.999316  -139953306672743993624491613749248   \n",
       "3    0.117716 -508.920462  -139938718259105996545987681714176   \n",
       "4    0.125661 -508.855178  -139926906601091006699462320979968   \n",
       "\n",
       "       delta_cell_vol  delta_entropy    delta_T     delta_rho  delta_eps_nuc  \\\n",
       "0  -63812375843638000      -0.000020 -17.959033  9.370495e-08 -1.564110e-198   \n",
       "1  -49360147323616600      -0.000020 -12.742761  2.432423e-07 -3.179911e-190   \n",
       "2  -37492417973472000      -0.000019 -11.966833  3.802286e-07 -1.172476e-186   \n",
       "3  -30213396388202000      -0.000019 -11.906908  5.087084e-07 -2.334145e-184   \n",
       "4  -25375485709962600      -0.000019 -12.046699  6.310639e-07 -1.156119e-182   \n",
       "\n",
       "       delta_mu  nz_minus_k  \n",
       "0  3.688741e-08        1903  \n",
       "1  1.892295e-08        1902  \n",
       "2  1.784207e-08        1901  \n",
       "3  1.814348e-08        1900  \n",
       "4  1.877611e-08        1899  \n",
       "\n",
       "[5 rows x 143 columns]"
      ]
     },
     "execution_count": 14,
     "metadata": {},
     "output_type": "execute_result"
    }
   ],
   "source": [
    "a.head()"
   ]
  },
  {
   "cell_type": "code",
   "execution_count": 15,
   "metadata": {
    "scrolled": true
   },
   "outputs": [
    {
     "data": {
      "image/png": "[encoded data removed]",
      "text/plain": [
       "<Figure size 432x288 with 1 Axes>"
      ]
     },
     "metadata": {},
     "output_type": "display_data"
    }
   ],
   "source": [
    "r_sun = 6.955e10  # cm\n",
    "m_sun = 1.989e33  # gram\n",
    "radius = np.array(a[\"radius\"])\n",
    "R = np.power(10,np.array(a[\"logR\"]))\n",
    "r_cm = np.array(a[\"radius_cm\"])\n",
    "\n",
    "r_interp = np.linspace(radius[-1], radius[0], 2000)\n",
    "\n",
    "plt.plot(radius*r_sun, label='radius')\n",
    "plt.plot(R*r_sun, label='R')\n",
    "plt.plot(r_cm, label='r_cm')\n",
    "plt.plot(r_interp*r_sun, label='r_interp')\n",
    "\n",
    "\n",
    "plt.plot(np.array(df['radius']), label='IM')\n",
    "\n",
    "\n",
    "plt.legend()\n",
    "plt.xlabel(\"\")\n",
    "plt.ylabel(\"radius [R_sun]\")\n",
    "plt.grid()\n",
    "plt.show()"
   ]
  },
  {
   "cell_type": "code",
   "execution_count": 23,
   "metadata": {
    "scrolled": true
   },
   "outputs": [
    {
     "data": {
      "image/png": "[encoded data removed]",
      "text/plain": [
       "<Figure size 432x288 with 1 Axes>"
      ]
     },
     "metadata": {},
     "output_type": "display_data"
    }
   ],
   "source": [
    "temp = np.array(a[\"temperature\"])\n",
    "T = np.power(10,np.array(a[\"logT\"]))\n",
    "\n",
    "T_interp = np.interp(r_interp, radius[::-1], temp[::-1])\n",
    "\n",
    "plt.plot(radius*r_sun,temp,label='mesa')\n",
    "#plt.plot(R*r_sun,T,\":\")\n",
    "#plt.plot(r_interp*r_sun,T_interp)\n",
    "\n",
    "plt.plot(np.array(df['radius']),np.array(df['temperature']),\"o\",label='IM')\n",
    "\n",
    "plt.xlabel(\"radius [cm]\")\n",
    "plt.ylabel(\"temperature [K]\")\n",
    "\n",
    "plt.xlim(0,1000000)\n",
    "\n",
    "\n",
    "plt.grid()\n",
    "plt.legend()\n",
    "plt.show()"
   ]
  },
  {
   "cell_type": "code",
   "execution_count": 14,
   "metadata": {},
   "outputs": [
    {
     "data": {
      "image/png": "[encoded data removed]",
      "text/plain": [
       "<Figure size 432x288 with 1 Axes>"
      ]
     },
     "metadata": {},
     "output_type": "display_data"
    }
   ],
   "source": [
    "temp = np.array(a[\"temperature\"])\n",
    "T = np.power(10,np.array(a[\"logT\"]))\n",
    "\n",
    "T_interp = np.interp(r_interp, radius[::-1], temp[::-1])\n",
    "\n",
    "plt.semilogy(radius*r_sun,temp,label='mesa')\n",
    "#plt.semilogy(R*r_sun,T,\":\")\n",
    "#plt.semilogy(r_interp,T_interp)\n",
    "\n",
    "plt.semilogy(np.array(df['radius']),np.array(df['temperature']),label='hse')\n",
    "\n",
    "plt.xlabel(\"radius [cm]\")\n",
    "plt.ylabel(\"temperature [K]\")\n",
    "plt.legend()\n",
    "plt.grid()\n",
    "#plt.show()\n",
    "plt.savefig(\"temp_initial model\")"
   ]
  },
  {
   "cell_type": "code",
   "execution_count": 15,
   "metadata": {},
   "outputs": [
    {
     "data": {
      "image/png": "[encoded data removed]",
      "text/plain": [
       "<Figure size 432x288 with 1 Axes>"
      ]
     },
     "metadata": {},
     "output_type": "display_data"
    }
   ],
   "source": [
    "mass = np.array(a['mass'])\n",
    "dm = np.array(a['dm'])\n",
    "M = (np.add.accumulate(dm[::-1]))[::-1]\n",
    "#rho = np.power(10,np.array(a[\"logRho\"]))\n",
    "\n",
    "m_interp = np.interp(r_interp, radius[::-1], mass[::-1])\n",
    "\n",
    "plt.plot(R,mass*m_sun)\n",
    "#plt.plot(R,dm)\n",
    "plt.plot(R,M)\n",
    "plt.plot(r_interp,m_interp*m_sun)\n",
    "plt.xlabel(\"radius [R_sun]\")\n",
    "plt.ylabel(\"mass [g]\")\n",
    "plt.grid()\n",
    "plt.show()"
   ]
  },
  {
   "cell_type": "code",
   "execution_count": 26,
   "metadata": {},
   "outputs": [
    {
     "data": {
      "image/png": "[encoded data removed]",
      "text/plain": [
       "<Figure size 432x288 with 1 Axes>"
      ]
     },
     "metadata": {},
     "output_type": "display_data"
    }
   ],
   "source": [
    "pressure = np.array(a['pressure'])\n",
    "P = np.power(10,np.array(a[\"logP\"]))\n",
    "\n",
    "p_interp = np.interp(r_interp, radius[::-1], pressure[::-1])\n",
    "\n",
    "plt.plot(R*r_sun,pressure,label='mesa')\n",
    "plt.plot(R*r_sun,P)\n",
    "plt.plot(r_interp*r_sun,p_interp)\n",
    "\n",
    "plt.plot(np.array(df['radius']),np.array(df['pressure']),\"o\",label='hse')\n",
    "\n",
    "plt.xlabel(\"radius [cm]\")\n",
    "plt.ylabel(\"pressure [Pa]\")\n",
    "\n",
    "plt.xlim(0,1000000)\n",
    "plt.ylim(7e27,9e27)\n",
    "plt.legend()\n",
    "plt.grid()\n",
    "#plt.show()\n",
    "plt.savefig(\"pressure_initial_model\")"
   ]
  },
  {
   "cell_type": "code",
   "execution_count": 17,
   "metadata": {},
   "outputs": [
    {
     "data": {
      "image/png": "[encoded data removed]",
      "text/plain": [
       "<Figure size 432x288 with 1 Axes>"
      ]
     },
     "metadata": {},
     "output_type": "display_data"
    }
   ],
   "source": [
    "pressure = np.array(a['pressure'])\n",
    "P = np.power(10,np.array(a[\"logP\"]))\n",
    "\n",
    "p_interp = np.interp(r_interp, radius[::-1], pressure[::-1])\n",
    "\n",
    "plt.semilogy(R*r_sun,pressure,label='mesa')\n",
    "#plt.semilogy(R*r_sun,P)\n",
    "#plt.semilogy(r_interp*r_sun,p_interp)\n",
    "\n",
    "plt.semilogy(np.array(df['radius']),np.array(df['pressure']),label='hse')\n",
    "\n",
    "plt.xlabel(\"radius [cm]\")\n",
    "plt.ylabel(\"pressure [Pa]\")\n",
    "plt.legend()\n",
    "plt.ylim(5e20,2e28)\n",
    "plt.grid()\n",
    "plt.show()"
   ]
  },
  {
   "cell_type": "code",
   "execution_count": 18,
   "metadata": {},
   "outputs": [
    {
     "data": {
      "image/png": "[encoded data removed]",
      "text/plain": [
       "<Figure size 432x288 with 1 Axes>"
      ]
     },
     "metadata": {},
     "output_type": "display_data"
    }
   ],
   "source": [
    "rho = np.power(10,np.array(a[\"logRho\"]))\n",
    "\n",
    "vol = []\n",
    "r1 = r_cm[::-1]\n",
    "vol.append(4/3*np.pi*r1[0]*r1[0]*r1[0])\n",
    "\n",
    "for i in range(1, r1.shape[0]):\n",
    "    vol.append(4/3*np.pi*r1[i]*r1[i]*r1[i]-4/3*np.pi*r1[i-1]*r1[i-1]*r1[i-1])\n",
    "\n",
    "dv = dm/rho\n",
    "\n",
    "#plt.plot(radius,dv)\n",
    "#plt.plot(radius,vol[::-1])\n",
    "plt.plot(radius*r_sun,rho,label='mesa')\n",
    "\n",
    "plt.plot(np.array(df['radius']),np.array(df['density']),label='hse')\n",
    "\n",
    "plt.xlabel(\"radius [cm]\")\n",
    "plt.ylabel(\"density [g/cm3]\")\n",
    "plt.legend()\n",
    "plt.grid()\n",
    "#plt.show()\n",
    "plt.savefig(\"density_initial_model.png\")"
   ]
  },
  {
   "cell_type": "code",
   "execution_count": 13,
   "metadata": {},
   "outputs": [
    {
     "data": {
      "image/png": "[encoded data removed]",
      "text/plain": [
       "<Figure size 432x288 with 1 Axes>"
      ]
     },
     "metadata": {},
     "output_type": "display_data"
    }
   ],
   "source": [
    "plt.semilogy(radius*r_sun,rho,label='mesa')\n",
    "\n",
    "plt.semilogy(np.array(df['radius']),np.array(df['density']),label='hse')\n",
    "\n",
    "plt.xlabel(\"radius [cm]\")\n",
    "plt.ylabel(\"density [g/cm3]\")\n",
    "plt.grid()\n",
    "plt.show()"
   ]
  },
  {
   "cell_type": "code",
   "execution_count": 30,
   "metadata": {},
   "outputs": [
    {
     "data": {
      "image/png": "[encoded data removed]",
      "text/plain": [
       "<Figure size 432x288 with 1 Axes>"
      ]
     },
     "metadata": {},
     "output_type": "display_data"
    }
   ],
   "source": [
    "dmm = []\n",
    "mass1 = mass[::-1]\n",
    "dmm.append(mass1[0])\n",
    "\n",
    "for i in range(1, mass1.shape[0]):\n",
    "    dmm.append(mass1[i]-mass1[i-1])\n",
    "\n",
    "dmmm = np.array(dmm)\n",
    "\n",
    "plt.plot(radius*r_sun,dm)\n",
    "plt.plot(radius*r_sun,dmmm[::-1]*m_sun)\n",
    "plt.xlabel(\"radius [cm]\")\n",
    "plt.ylabel(\"m_per_zone [g]\")\n",
    "plt.grid()\n",
    "plt.show()"
   ]
  },
  {
   "cell_type": "code",
   "execution_count": 10,
   "metadata": {},
   "outputs": [
    {
     "data": {
      "image/png": "[encoded data removed]",
      "text/plain": [
       "<Figure size 432x288 with 1 Axes>"
      ]
     },
     "metadata": {},
     "output_type": "display_data"
    }
   ],
   "source": [
    "r_center = []\n",
    "\n",
    "for i in range(r_cm.shape[0]-1):\n",
    "    r_center.append((r_cm[i]+r_cm[i+1])/2)\n",
    "\n",
    "r_center.append(r_cm[-1]/2)\n",
    "\n",
    "plt.plot(r_center)\n",
    "plt.plot(r_cm)\n",
    "plt.show()"
   ]
  },
  {
   "cell_type": "code",
   "execution_count": 260,
   "metadata": {
    "scrolled": true
   },
   "outputs": [
    {
     "data": {
      "text/html": [
       "<div>\n",
       "<style scoped>\n",
       "    .dataframe tbody tr th:only-of-type {\n",
       "        vertical-align: middle;\n",
       "    }\n",
       "\n",
       "    .dataframe tbody tr th {\n",
       "        vertical-align: top;\n",
       "    }\n",
       "\n",
       "    .dataframe thead th {\n",
       "        text-align: right;\n",
       "    }\n",
       "</style>\n",
       "<table border=\"1\" class=\"dataframe\">\n",
       "  <thead>\n",
       "    <tr style=\"text-align: right;\">\n",
       "      <th></th>\n",
       "      <th>r_center [cm]</th>\n",
       "      <th>density [g/cm3]</th>\n",
       "      <th>temperature [K]</th>\n",
       "      <th>pressure</th>\n",
       "      <th>neon-20</th>\n",
       "      <th>oxygen-16</th>\n",
       "    </tr>\n",
       "  </thead>\n",
       "  <tbody>\n",
       "    <tr>\n",
       "      <th>0</th>\n",
       "      <td>2119.370293</td>\n",
       "      <td>8.357089e+09</td>\n",
       "      <td>6.565769e+08</td>\n",
       "      <td>7.360446e+27</td>\n",
       "      <td>0.4</td>\n",
       "      <td>0.6</td>\n",
       "    </tr>\n",
       "    <tr>\n",
       "      <th>1</th>\n",
       "      <td>4285.066756</td>\n",
       "      <td>8.357088e+09</td>\n",
       "      <td>6.565813e+08</td>\n",
       "      <td>7.360446e+27</td>\n",
       "      <td>0.4</td>\n",
       "      <td>0.6</td>\n",
       "    </tr>\n",
       "    <tr>\n",
       "      <th>2</th>\n",
       "      <td>4375.817692</td>\n",
       "      <td>8.357088e+09</td>\n",
       "      <td>6.565818e+08</td>\n",
       "      <td>7.360446e+27</td>\n",
       "      <td>0.4</td>\n",
       "      <td>0.6</td>\n",
       "    </tr>\n",
       "    <tr>\n",
       "      <th>3</th>\n",
       "      <td>4450.954786</td>\n",
       "      <td>8.357088e+09</td>\n",
       "      <td>6.565822e+08</td>\n",
       "      <td>7.360446e+27</td>\n",
       "      <td>0.4</td>\n",
       "      <td>0.6</td>\n",
       "    </tr>\n",
       "    <tr>\n",
       "      <th>4</th>\n",
       "      <td>4511.489139</td>\n",
       "      <td>8.357088e+09</td>\n",
       "      <td>6.565826e+08</td>\n",
       "      <td>7.360446e+27</td>\n",
       "      <td>0.4</td>\n",
       "      <td>0.6</td>\n",
       "    </tr>\n",
       "  </tbody>\n",
       "</table>\n",
       "</div>"
      ],
      "text/plain": [
       "   r_center [cm]  density [g/cm3]  temperature [K]      pressure  neon-20  \\\n",
       "0    2119.370293     8.357089e+09     6.565769e+08  7.360446e+27      0.4   \n",
       "1    4285.066756     8.357088e+09     6.565813e+08  7.360446e+27      0.4   \n",
       "2    4375.817692     8.357088e+09     6.565818e+08  7.360446e+27      0.4   \n",
       "3    4450.954786     8.357088e+09     6.565822e+08  7.360446e+27      0.4   \n",
       "4    4511.489139     8.357088e+09     6.565826e+08  7.360446e+27      0.4   \n",
       "\n",
       "   oxygen-16  \n",
       "0        0.6  \n",
       "1        0.6  \n",
       "2        0.6  \n",
       "3        0.6  \n",
       "4        0.6  "
      ]
     },
     "execution_count": 260,
     "metadata": {},
     "output_type": "execute_result"
    }
   ],
   "source": [
    "data = pd.DataFrame(columns = ['r_center [cm]'],data = r_center[::-1])\n",
    "data['density [g/cm3]'] = rho[::-1]\n",
    "data['temperature [K]'] = temp[::-1]\n",
    "data['pressure'] = pressure[::-1]\n",
    "data['neon-20'] = 0.4\n",
    "data['oxygen-16'] = 0.6\n",
    "#data['ash'] = 0\n",
    "data.head()"
   ]
  },
  {
   "cell_type": "code",
   "execution_count": 262,
   "metadata": {},
   "outputs": [
    {
     "data": {
      "text/plain": [
       "(1903, 6)"
      ]
     },
     "execution_count": 262,
     "metadata": {},
     "output_type": "execute_result"
    }
   ],
   "source": [
    "data.shape"
   ]
  },
  {
   "cell_type": "code",
   "execution_count": 261,
   "metadata": {},
   "outputs": [],
   "source": [
    "f = open(\"/Users/sailor/Desktop/asro_work/zingale_mesa/kepler_zingale_ONe6040-final.raw\", \"w\") \n",
    "\n",
    "for i in range(1903):\n",
    "    for j in data.columns:\n",
    "        f.write(str(data[j][i]))\n",
    "        f.write(' ')\n",
    "    f.write('\\n')\n",
    "f.close()"
   ]
  },
  {
   "cell_type": "code",
   "execution_count": 13,
   "metadata": {},
   "outputs": [
    {
     "data": {
      "text/plain": [
       "'2119.37029311318'"
      ]
     },
     "execution_count": 13,
     "metadata": {},
     "output_type": "execute_result"
    }
   ],
   "source": [
    "str(data[data.columns[0]][0])"
   ]
  },
  {
   "cell_type": "code",
   "execution_count": 14,
   "metadata": {},
   "outputs": [
    {
     "data": {
      "text/plain": [
       "array([1.47652019e+08, 1.47629896e+08, 1.47617818e+08, ...,\n",
       "       4.42024246e+03, 4.33139293e+03, 4.23874059e+03])"
      ]
     },
     "execution_count": 14,
     "metadata": {},
     "output_type": "execute_result"
    }
   ],
   "source": [
    "r_cm"
   ]
  },
  {
   "cell_type": "code",
   "execution_count": 15,
   "metadata": {},
   "outputs": [
    {
     "data": {
      "image/png": "[encoded data removed]",
      "text/plain": [
       "<Figure size 432x288 with 1 Axes>"
      ]
     },
     "metadata": {},
     "output_type": "display_data"
    }
   ],
   "source": [
    "#plt.plot(r_cm, label='r_cm')\n",
    "plt.semilogy(r_cm/1e5, T, label='r_cm/r_sun')\n",
    "plt.xlim(0,1.5e3)\n",
    "plt.ylim(1e6,2e9)\n",
    "plt.xlabel(\"radius [km]\")\n",
    "plt.ylabel(\"temperature [K]\")\n",
    "plt.grid()"
   ]
  },
  {
   "cell_type": "code",
   "execution_count": 16,
   "metadata": {},
   "outputs": [
    {
     "data": {
      "image/png": "[encoded data removed]",
      "text/plain": [
       "<Figure size 432x288 with 1 Axes>"
      ]
     },
     "metadata": {},
     "output_type": "display_data"
    }
   ],
   "source": [
    "#plt.plot(r_cm, label='r_cm')\n",
    "plt.plot(r_cm/1e5, T, label='r_cm/r_sun')\n",
    "plt.xlim(0,1.5e3)\n",
    "#plt.ylim(1e6,2e9)\n",
    "plt.xlabel(\"radius [km]\")\n",
    "plt.ylabel(\"temperature [K]\")\n",
    "plt.grid()"
   ]
  },
  {
   "cell_type": "code",
   "execution_count": 51,
   "metadata": {},
   "outputs": [
    {
     "data": {
      "image/png": "[encoded data removed]",
      "text/plain": [
       "<Figure size 432x288 with 1 Axes>"
      ]
     },
     "metadata": {},
     "output_type": "display_data"
    }
   ],
   "source": [
    "rho = np.power(10,np.array(a[\"logRho\"]))\n",
    "eps_nuc = a.eps_nuc\n",
    "\n",
    "plt.semilogy(radius*r_sun,eps_nuc)\n",
    "plt.xlabel(\"radius [cm]\")\n",
    "plt.ylabel(\"eps_nuc [erg/s]\")\n",
    "plt.ylim(1e-39,1e11)\n",
    "plt.xlim(0,1.5e8)\n",
    "plt.grid()\n",
    "plt.title(\"MESA energy generation rate\")\n",
    "#plt.show()\n",
    "plt.savefig(\"MESA_enuc.png\")"
   ]
  },
  {
   "cell_type": "code",
   "execution_count": 3,
   "metadata": {},
   "outputs": [
    {
     "ename": "NameError",
     "evalue": "name 'r_center' is not defined",
     "output_type": "error",
     "traceback": [
      "\u001b[0;31m---------------------------------------------------------------------------\u001b[0m",
      "\u001b[0;31mNameError\u001b[0m                                 Traceback (most recent call last)",
      "\u001b[0;32m<ipython-input-3-3e64e4278cf7>\u001b[0m in \u001b[0;36m<module>\u001b[0;34m()\u001b[0m\n\u001b[0;32m----> 1\u001b[0;31m \u001b[0mdata\u001b[0m \u001b[0;34m=\u001b[0m \u001b[0mpd\u001b[0m\u001b[0;34m.\u001b[0m\u001b[0mDataFrame\u001b[0m\u001b[0;34m(\u001b[0m\u001b[0mcolumns\u001b[0m \u001b[0;34m=\u001b[0m \u001b[0;34m[\u001b[0m\u001b[0;34m'r_center [cm]'\u001b[0m\u001b[0;34m]\u001b[0m\u001b[0;34m,\u001b[0m\u001b[0mdata\u001b[0m \u001b[0;34m=\u001b[0m \u001b[0mr_center\u001b[0m\u001b[0;34m[\u001b[0m\u001b[0;34m:\u001b[0m\u001b[0;34m:\u001b[0m\u001b[0;34m-\u001b[0m\u001b[0;36m1\u001b[0m\u001b[0;34m]\u001b[0m\u001b[0;34m)\u001b[0m\u001b[0;34m\u001b[0m\u001b[0m\n\u001b[0m\u001b[1;32m      2\u001b[0m \u001b[0mdata\u001b[0m\u001b[0;34m[\u001b[0m\u001b[0;34m'density [g/cm3]'\u001b[0m\u001b[0;34m]\u001b[0m \u001b[0;34m=\u001b[0m \u001b[0mrho\u001b[0m\u001b[0;34m[\u001b[0m\u001b[0;34m:\u001b[0m\u001b[0;34m:\u001b[0m\u001b[0;34m-\u001b[0m\u001b[0;36m1\u001b[0m\u001b[0;34m]\u001b[0m\u001b[0;34m\u001b[0m\u001b[0m\n\u001b[1;32m      3\u001b[0m \u001b[0mdata\u001b[0m\u001b[0;34m[\u001b[0m\u001b[0;34m'temperature [K]'\u001b[0m\u001b[0;34m]\u001b[0m \u001b[0;34m=\u001b[0m \u001b[0mtemp\u001b[0m\u001b[0;34m[\u001b[0m\u001b[0;34m:\u001b[0m\u001b[0;34m:\u001b[0m\u001b[0;34m-\u001b[0m\u001b[0;36m1\u001b[0m\u001b[0;34m]\u001b[0m\u001b[0;34m\u001b[0m\u001b[0m\n\u001b[1;32m      4\u001b[0m \u001b[0mdata\u001b[0m\u001b[0;34m[\u001b[0m\u001b[0;34m'pressure'\u001b[0m\u001b[0;34m]\u001b[0m \u001b[0;34m=\u001b[0m \u001b[0mpressure\u001b[0m\u001b[0;34m[\u001b[0m\u001b[0;34m:\u001b[0m\u001b[0;34m:\u001b[0m\u001b[0;34m-\u001b[0m\u001b[0;36m1\u001b[0m\u001b[0;34m]\u001b[0m\u001b[0;34m\u001b[0m\u001b[0m\n\u001b[1;32m      5\u001b[0m \u001b[0mdata\u001b[0m\u001b[0;34m[\u001b[0m\u001b[0;34m'neon-20'\u001b[0m\u001b[0;34m]\u001b[0m \u001b[0;34m=\u001b[0m \u001b[0;36m0.4\u001b[0m\u001b[0;34m\u001b[0m\u001b[0m\n",
      "\u001b[0;31mNameError\u001b[0m: name 'r_center' is not defined"
     ]
    }
   ],
   "source": []
  },
  {
   "cell_type": "code",
   "execution_count": 214,
   "metadata": {},
   "outputs": [],
   "source": [
    "rang = 3.e8"
   ]
  },
  {
   "cell_type": "code",
   "execution_count": 215,
   "metadata": {},
   "outputs": [
    {
     "data": {
      "text/plain": [
       "11.71875"
      ]
     },
     "execution_count": 215,
     "metadata": {},
     "output_type": "execute_result"
    }
   ],
   "source": [
    "s = rang/256/100000\n",
    "s"
   ]
  },
  {
   "cell_type": "code",
   "execution_count": 216,
   "metadata": {},
   "outputs": [
    {
     "data": {
      "text/plain": [
       "1500.0"
      ]
     },
     "execution_count": 216,
     "metadata": {},
     "output_type": "execute_result"
    }
   ],
   "source": [
    "t = rang/2/100000\n",
    "t"
   ]
  },
  {
   "cell_type": "code",
   "execution_count": 217,
   "metadata": {},
   "outputs": [
    {
     "data": {
      "text/plain": [
       "2.0036104743262015"
      ]
     },
     "execution_count": 217,
     "metadata": {},
     "output_type": "execute_result"
    }
   ],
   "source": [
    "(t-max(r_cm)/100000)/s"
   ]
  },
  {
   "cell_type": "code",
   "execution_count": 231,
   "metadata": {},
   "outputs": [
    {
     "data": {
      "text/plain": [
       "147652018.975399"
      ]
     },
     "execution_count": 231,
     "metadata": {},
     "output_type": "execute_result"
    }
   ],
   "source": [
    "max(r_cm)"
   ]
  },
  {
   "cell_type": "code",
   "execution_count": 264,
   "metadata": {},
   "outputs": [
    {
     "data": {
      "text/plain": [
       "58582.305898437495"
      ]
     },
     "execution_count": 264,
     "metadata": {},
     "output_type": "execute_result"
    }
   ],
   "source": [
    "149970703.1/2560"
   ]
  },
  {
   "cell_type": "code",
   "execution_count": 292,
   "metadata": {},
   "outputs": [
    {
     "data": {
      "text/plain": [
       "48828.125"
      ]
     },
     "execution_count": 292,
     "metadata": {},
     "output_type": "execute_result"
    }
   ],
   "source": [
    "k=2.5e8/5120\n",
    "k"
   ]
  },
  {
   "cell_type": "code",
   "execution_count": 293,
   "metadata": {},
   "outputs": [
    {
     "data": {
      "text/plain": [
       "32.0"
      ]
     },
     "execution_count": 293,
     "metadata": {},
     "output_type": "execute_result"
    }
   ],
   "source": [
    "1562500/k"
   ]
  },
  {
   "cell_type": "code",
   "execution_count": 290,
   "metadata": {},
   "outputs": [
    {
     "data": {
      "text/plain": [
       "1.7066666666666668"
      ]
     },
     "execution_count": 290,
     "metadata": {},
     "output_type": "execute_result"
    }
   ],
   "source": [
    "2560/1500"
   ]
  },
  {
   "cell_type": "code",
   "execution_count": 289,
   "metadata": {},
   "outputs": [
    {
     "data": {
      "text/plain": [
       "2.048"
      ]
     },
     "execution_count": 289,
     "metadata": {},
     "output_type": "execute_result"
    }
   ],
   "source": [
    "5120/2500"
   ]
  },
  {
   "cell_type": "code",
   "execution_count": 288,
   "metadata": {},
   "outputs": [
    {
     "data": {
      "text/plain": [
       "1.2892953929539295"
      ]
     },
     "execution_count": 288,
     "metadata": {},
     "output_type": "execute_result"
    }
   ],
   "source": [
    "1903/1476"
   ]
  },
  {
   "cell_type": "code",
   "execution_count": 307,
   "metadata": {},
   "outputs": [
    {
     "data": {
      "text/plain": [
       "48828.125"
      ]
     },
     "execution_count": 307,
     "metadata": {},
     "output_type": "execute_result"
    }
   ],
   "source": [
    "250000000/5120"
   ]
  },
  {
   "cell_type": "code",
   "execution_count": 308,
   "metadata": {},
   "outputs": [
    {
     "data": {
      "text/plain": [
       "32.0"
      ]
     },
     "execution_count": 308,
     "metadata": {},
     "output_type": "execute_result"
    }
   ],
   "source": [
    "1562500.000/48828.125"
   ]
  },
  {
   "cell_type": "code",
   "execution_count": 309,
   "metadata": {},
   "outputs": [
    {
     "data": {
      "text/plain": [
       "16.0"
      ]
     },
     "execution_count": 309,
     "metadata": {},
     "output_type": "execute_result"
    }
   ],
   "source": [
    "781250/48828.125"
   ]
  },
  {
   "cell_type": "code",
   "execution_count": 311,
   "metadata": {},
   "outputs": [
    {
     "data": {
      "text/plain": [
       "7812500.0"
      ]
     },
     "execution_count": 311,
     "metadata": {},
     "output_type": "execute_result"
    }
   ],
   "source": [
    "5e8/128*2"
   ]
  },
  {
   "cell_type": "code",
   "execution_count": 312,
   "metadata": {},
   "outputs": [
    {
     "data": {
      "text/plain": [
       "15625000.0"
      ]
     },
     "execution_count": 312,
     "metadata": {},
     "output_type": "execute_result"
    }
   ],
   "source": [
    "5e8/64*2"
   ]
  },
  {
   "cell_type": "code",
   "execution_count": 313,
   "metadata": {},
   "outputs": [
    {
     "data": {
      "text/plain": [
       "390625.0"
      ]
     },
     "execution_count": 313,
     "metadata": {},
     "output_type": "execute_result"
    }
   ],
   "source": [
    "5e8/1280"
   ]
  },
  {
   "cell_type": "code",
   "execution_count": 315,
   "metadata": {},
   "outputs": [
    {
     "data": {
      "text/plain": [
       "390625.0"
      ]
     },
     "execution_count": 315,
     "metadata": {},
     "output_type": "execute_result"
    }
   ],
   "source": [
    "5e8/256*2/10"
   ]
  },
  {
   "cell_type": "code",
   "execution_count": 326,
   "metadata": {},
   "outputs": [
    {
     "data": {
      "text/plain": [
       "390625.0"
      ]
     },
     "execution_count": 326,
     "metadata": {},
     "output_type": "execute_result"
    }
   ],
   "source": [
    "5e8/256*2/10"
   ]
  },
  {
   "cell_type": "code",
   "execution_count": 318,
   "metadata": {},
   "outputs": [
    {
     "data": {
      "text/plain": [
       "11.71875"
      ]
     },
     "execution_count": 318,
     "metadata": {},
     "output_type": "execute_result"
    }
   ],
   "source": [
    "3e8/256/1e2/1e3"
   ]
  },
  {
   "cell_type": "code",
   "execution_count": 329,
   "metadata": {},
   "outputs": [
    {
     "data": {
      "text/plain": [
       "48828.125"
      ]
     },
     "execution_count": 329,
     "metadata": {},
     "output_type": "execute_result"
    }
   ],
   "source": [
    "2.5e8/5120"
   ]
  },
  {
   "cell_type": "code",
   "execution_count": 322,
   "metadata": {},
   "outputs": [
    {
     "data": {
      "text/plain": [
       "48828.125"
      ]
     },
     "execution_count": 322,
     "metadata": {},
     "output_type": "execute_result"
    }
   ],
   "source": [
    "2.5e8/5120"
   ]
  },
  {
   "cell_type": "code",
   "execution_count": 328,
   "metadata": {},
   "outputs": [
    {
     "data": {
      "text/plain": [
       "1953125.0"
      ]
     },
     "execution_count": 328,
     "metadata": {},
     "output_type": "execute_result"
    }
   ],
   "source": [
    "5e8/256"
   ]
  },
  {
   "cell_type": "code",
   "execution_count": 330,
   "metadata": {},
   "outputs": [
    {
     "data": {
      "text/plain": [
       "8.0"
      ]
     },
     "execution_count": 330,
     "metadata": {},
     "output_type": "execute_result"
    }
   ],
   "source": [
    "390625/48828.125"
   ]
  },
  {
   "cell_type": "code",
   "execution_count": 333,
   "metadata": {},
   "outputs": [
    {
     "data": {
      "text/plain": [
       "13.671875"
      ]
     },
     "execution_count": 333,
     "metadata": {},
     "output_type": "execute_result"
    }
   ],
   "source": [
    "3500/256"
   ]
  },
  {
   "cell_type": "code",
   "execution_count": 335,
   "metadata": {},
   "outputs": [
    {
     "data": {
      "text/plain": [
       "16.0"
      ]
     },
     "execution_count": 335,
     "metadata": {},
     "output_type": "execute_result"
    }
   ],
   "source": [
    "195312.5000/12207.03125"
   ]
  },
  {
   "cell_type": "code",
   "execution_count": 336,
   "metadata": {},
   "outputs": [
    {
     "data": {
      "text/plain": [
       "166.66666666666666"
      ]
     },
     "execution_count": 336,
     "metadata": {},
     "output_type": "execute_result"
    }
   ],
   "source": [
    "1e4/60"
   ]
  },
  {
   "cell_type": "code",
   "execution_count": 8,
   "metadata": {},
   "outputs": [
    {
     "data": {
      "text/plain": [
       "4238.74058622636"
      ]
     },
     "execution_count": 8,
     "metadata": {},
     "output_type": "execute_result"
    }
   ],
   "source": [
    "min(r_cm)"
   ]
  },
  {
   "cell_type": "code",
   "execution_count": null,
   "metadata": {},
   "outputs": [],
   "source": []
  }
 ],
 "metadata": {
  "kernelspec": {
   "display_name": "Python 3",
   "language": "python",
   "name": "python3"
  },
  "language_info": {
   "codemirror_mode": {
    "name": "ipython",
    "version": 3
   },
   "file_extension": ".py",
   "mimetype": "text/x-python",
   "name": "python",
   "nbconvert_exporter": "python",
   "pygments_lexer": "ipython3",
   "version": "3.6.5"
  }
 },
 "nbformat": 4,
 "nbformat_minor": 2
}
