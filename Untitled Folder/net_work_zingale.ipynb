{
 "cells": [
  {
   "cell_type": "code",
   "execution_count": 1,
   "metadata": {},
   "outputs": [],
   "source": [
    "import pynucastro as pyna\n",
    "from pynucastro.networks import StarKillerNetwork\n",
    "\n",
    "library_file = \"20180319default2\"\n",
    "mylibrary = pyna.rates.Library(library_file)\n",
    "\n",
    "data_list = mylibrary.get_rates()\n",
    "\n",
    "all_nuclei = [\"p\",\"he4\",\"ne20\",\"o20\",\"f20\",\"mg24\",\"al27\",\"o16\",\"si28\",\"s32\",\"p31\"]\n",
    "\n",
    "escn_library = mylibrary.linking_nuclei(all_nuclei,with_reverse=True)\n",
    "escn_tabular = [\"f20--o20-toki\",\"ne20--f20-toki\"]"
   ]
  },
  {
   "cell_type": "code",
   "execution_count": null,
   "metadata": {},
   "outputs": [],
   "source": []
  }
 ],
 "metadata": {
  "kernelspec": {
   "display_name": "Python 3",
   "language": "python",
   "name": "python3"
  },
  "language_info": {
   "codemirror_mode": {
    "name": "ipython",
    "version": 3
   },
   "file_extension": ".py",
   "mimetype": "text/x-python",
   "name": "python",
   "nbconvert_exporter": "python",
   "pygments_lexer": "ipython3",
   "version": "3.6.5"
  }
 },
 "nbformat": 4,
 "nbformat_minor": 2
}
