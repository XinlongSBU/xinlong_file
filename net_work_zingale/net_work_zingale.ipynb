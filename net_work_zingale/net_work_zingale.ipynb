{
 "cells": [
  {
   "cell_type": "code",
   "execution_count": 1,
   "metadata": {},
   "outputs": [],
   "source": [
    "import pynucastro as pyna\n",
    "from pynucastro.networks import StarKillerNetwork\n",
    "\n",
    "library_file = \"20180319default2\"\n",
    "mylibrary = pyna.rates.Library(library_file)\n",
    "\n",
    "data_list = mylibrary.get_rates()\n",
    "\n",
    "all_nuclei = [\"p\",\"he4\",\"ne20\",\"o20\",\"f20\",\"mg24\",\"al27\",\"o16\",\"si28\",\"s32\",\"p31\"]\n",
    "\n",
    "escn_library = mylibrary.linking_nuclei(all_nuclei,with_reverse=True)\n",
    "escn_tabular = [\"f20--o20-toki\",\"ne20--f20-toki\"]"
   ]
  },
  {
   "cell_type": "code",
   "execution_count": 11,
   "metadata": {},
   "outputs": [],
   "source": [
    "rc = pyna.RateCollection(libraries=[escn_library])   #,rate_files=escn_tabular)\n",
    "#rc = pyna.RateCollection(libraries=[escn_library])\n",
    "\n",
    "comp = pyna.Composition(rc.get_nuclei())\n",
    "comp.set_nuc(\"o16\", 0.5)\n",
    "comp.set_nuc(\"ne20\", 0.3)\n",
    "comp.set_nuc(\"mg24\", 0.1)\n",
    "comp.set_nuc(\"o20\", 1.e-5)\n",
    "comp.set_nuc(\"f20\", 1.e-5)\n",
    "comp.set_nuc(\"p\", 1.e-5)\n",
    "comp.set_nuc(\"he4\", 1.e-2)\n",
    "comp.set_nuc(\"al27\", 1.e-2)\n",
    "comp.set_nuc(\"si28\", 1.e-2)\n",
    "comp.set_nuc(\"s32\", 1.e-2)\n",
    "comp.set_nuc(\"p31\", 1.e-2)\n",
    "comp.normalize()"
   ]
  },
  {
   "cell_type": "code",
   "execution_count": 12,
   "metadata": {},
   "outputs": [
    {
     "data": {
      "image/png": "[encoded data removed]",
      "text/plain": [
       "<Figure size 576x432 with 2 Axes>"
      ]
     },
     "metadata": {},
     "output_type": "display_data"
    }
   ],
   "source": [
    "rc.plot(outfile=\"ecsn.png\", rho=7.e9, T=1.e9, comp=comp, rate_value=1.e-20)"
   ]
  },
  {
   "cell_type": "code",
   "execution_count": 13,
   "metadata": {},
   "outputs": [],
   "source": [
    "new_rate_list = []\n",
    "ydots = rc.evaluate_rates(rho=7.e9, T=1.e9, composition=comp)\n",
    "for rate in rc.rates:\n",
    "  if ydots[rate] >= 1.e-20:\n",
    "    new_rate_list.append(rate)\n",
    "    \n",
    "rc_new = pyna.RateCollection(rates=new_rate_list)"
   ]
  },
  {
   "cell_type": "code",
   "execution_count": null,
   "metadata": {
    "scrolled": false
   },
   "outputs": [],
   "source": [
    "rc_new.plot(outfile=\"ecsn.png\", rho=7.e9, T=1.e9, comp=comp)"
   ]
  },
  {
   "cell_type": "code",
   "execution_count": 6,
   "metadata": {},
   "outputs": [
    {
     "data": {
      "text/plain": [
       "OrderedDict([(o20 --> f20, 2.702249897457067e-08),\n",
       "             (f20 --> ne20, 3.286505102773197e-08),\n",
       "             (ne20 --> he4 + o16, 4.631669519815501e-18),\n",
       "             (o16 + he4 --> ne20, 2163.4896055892013),\n",
       "             (ne20 + he4 --> mg24, 470.4657166295948),\n",
       "             (mg24 + he4 --> si28, 65.33425925449087),\n",
       "             (al27 + p --> si28, 3786.5889540808494),\n",
       "             (al27 + he4 --> p31, 0.057635811259143355),\n",
       "             (si28 + he4 --> s32, 0.08322738610569617),\n",
       "             (p31 + p --> s32, 2375.130496403913),\n",
       "             (o16 + o16 --> p + p31, 7.154939895463953e-17),\n",
       "             (o16 + o16 --> he4 + si28, 2.5949312230335836e-17),\n",
       "             (mg24 + he4 --> p + al27, 0.2543862399303774),\n",
       "             (al27 + p --> he4 + mg24, 5920.818449985262),\n",
       "             (si28 + he4 --> p + p31, 0.00019528201299493395),\n",
       "             (p31 + p --> he4 + si28, 5491.96044267561),\n",
       "             (f20 --> o20, 6.765696872730337e-08),\n",
       "             (ne20 --> f20, 0.00046418797301137863)])"
      ]
     },
     "execution_count": 6,
     "metadata": {},
     "output_type": "execute_result"
    }
   ],
   "source": [
    "rc_new.evaluate_rates(rho=7.e9, T=1.e9, composition=comp)"
   ]
  },
  {
   "cell_type": "code",
   "execution_count": 7,
   "metadata": {},
   "outputs": [
    {
     "data": {
      "text/plain": [
       "OrderedDict([(o20 --> f20, 2.702249897457067e-08),\n",
       "             (f20 --> ne20, 3.286505102773197e-08),\n",
       "             (ne20 --> he4 + o16, 4.631669519815501e-18),\n",
       "             (mg24 --> he4 + ne20, 4.744790037605823e-42),\n",
       "             (si28 --> p + al27, 2.2702059658516468e-49),\n",
       "             (si28 --> he4 + mg24, 9.17815550598163e-47),\n",
       "             (p31 --> he4 + al27, 9.75972961036992e-47),\n",
       "             (s32 --> p + p31, 2.504262075058157e-36),\n",
       "             (s32 --> he4 + si28, 2.4655741369058092e-33),\n",
       "             (o16 + he4 --> ne20, 2163.4896055892013),\n",
       "             (ne20 + he4 --> mg24, 470.4657166295948),\n",
       "             (mg24 + he4 --> si28, 65.33425925449087),\n",
       "             (al27 + p --> si28, 3786.5889540808494),\n",
       "             (al27 + he4 --> p31, 0.057635811259143355),\n",
       "             (si28 + he4 --> s32, 0.08322738610569617),\n",
       "             (p31 + p --> s32, 2375.130496403913),\n",
       "             (o16 + o16 --> p + p31, 7.154939895463953e-17),\n",
       "             (o16 + o16 --> he4 + si28, 2.5949312230335836e-17),\n",
       "             (mg24 + he4 --> p + al27, 0.2543862399303774),\n",
       "             (al27 + p --> he4 + mg24, 5920.818449985262),\n",
       "             (si28 + he4 --> p + p31, 0.00019528201299493395),\n",
       "             (si28 + he4 --> o16 + o16, 3.6751483463473784e-68),\n",
       "             (p31 + p --> he4 + si28, 5491.96044267561),\n",
       "             (p31 + p --> o16 + o16, 2.816922965073605e-60),\n",
       "             (f20 --> o20, 6.765696872730337e-08),\n",
       "             (ne20 --> f20, 0.00046418797301137863)])"
      ]
     },
     "execution_count": 7,
     "metadata": {},
     "output_type": "execute_result"
    }
   ],
   "source": [
    "rc.evaluate_rates(rho=7.e9, T=1.e9, composition=comp)"
   ]
  },
  {
   "cell_type": "code",
   "execution_count": 8,
   "metadata": {},
   "outputs": [],
   "source": [
    "wd_net = StarKillerNetwork(rates=new_rate_list)"
   ]
  },
  {
   "cell_type": "code",
   "execution_count": 9,
   "metadata": {},
   "outputs": [
    {
     "data": {
      "text/plain": [
       "[o20 --> f20,\n",
       " f20 --> ne20,\n",
       " ne20 --> he4 + o16,\n",
       " o16 + he4 --> ne20,\n",
       " ne20 + he4 --> mg24,\n",
       " mg24 + he4 --> si28,\n",
       " al27 + p --> si28,\n",
       " al27 + he4 --> p31,\n",
       " si28 + he4 --> s32,\n",
       " p31 + p --> s32,\n",
       " o16 + o16 --> p + p31,\n",
       " o16 + o16 --> he4 + si28,\n",
       " mg24 + he4 --> p + al27,\n",
       " al27 + p --> he4 + mg24,\n",
       " si28 + he4 --> p + p31,\n",
       " p31 + p --> he4 + si28,\n",
       " f20 --> o20,\n",
       " ne20 --> f20]"
      ]
     },
     "execution_count": 9,
     "metadata": {},
     "output_type": "execute_result"
    }
   ],
   "source": [
    "wd_net.rates"
   ]
  },
  {
   "cell_type": "code",
   "execution_count": 10,
   "metadata": {},
   "outputs": [],
   "source": [
    "wd_net.write_network(use_cse=True)"
   ]
  },
  {
   "cell_type": "code",
   "execution_count": null,
   "metadata": {},
   "outputs": [],
   "source": []
  }
 ],
 "metadata": {
  "kernelspec": {
   "display_name": "Python 3",
   "language": "python",
   "name": "python3"
  },
  "language_info": {
   "codemirror_mode": {
    "name": "ipython",
    "version": 3
   },
   "file_extension": ".py",
   "mimetype": "text/x-python",
   "name": "python",
   "nbconvert_exporter": "python",
   "pygments_lexer": "ipython3",
   "version": "3.6.5"
  }
 },
 "nbformat": 4,
 "nbformat_minor": 2
}
