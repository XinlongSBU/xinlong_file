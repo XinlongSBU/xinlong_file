{
 "cells": [
  {
   "cell_type": "code",
   "execution_count": 1,
   "metadata": {},
   "outputs": [
    {
     "ename": "Exception",
     "evalue": "File 20180319default2 not found in the working directory, /Users/sailor/.local/lib/python3.6/site-packages/pynucastro-1.3.0-py3.6.egg/pynucastro/library, or /Users/sailor/.local/lib/python3.6/site-packages/pynucastro-1.3.0-py3.6.egg/pynucastro/library/tabular",
     "output_type": "error",
     "traceback": [
      "\u001b[0;31m---------------------------------------------------------------------------\u001b[0m",
      "\u001b[0;31mException\u001b[0m                                 Traceback (most recent call last)",
      "\u001b[0;32m<ipython-input-1-2ff921b23f4b>\u001b[0m in \u001b[0;36m<module>\u001b[0;34m()\u001b[0m\n\u001b[1;32m      3\u001b[0m \u001b[0;34m\u001b[0m\u001b[0m\n\u001b[1;32m      4\u001b[0m \u001b[0mlibrary_file\u001b[0m \u001b[0;34m=\u001b[0m \u001b[0;34m\"20180319default2\"\u001b[0m\u001b[0;34m\u001b[0m\u001b[0m\n\u001b[0;32m----> 5\u001b[0;31m \u001b[0mmylibrary\u001b[0m \u001b[0;34m=\u001b[0m \u001b[0mpyna\u001b[0m\u001b[0;34m.\u001b[0m\u001b[0mrates\u001b[0m\u001b[0;34m.\u001b[0m\u001b[0mLibrary\u001b[0m\u001b[0;34m(\u001b[0m\u001b[0mlibrary_file\u001b[0m\u001b[0;34m)\u001b[0m\u001b[0;34m\u001b[0m\u001b[0m\n\u001b[0m\u001b[1;32m      6\u001b[0m \u001b[0;34m\u001b[0m\u001b[0m\n\u001b[1;32m      7\u001b[0m \u001b[0mdata_list\u001b[0m \u001b[0;34m=\u001b[0m \u001b[0mmylibrary\u001b[0m\u001b[0;34m.\u001b[0m\u001b[0mget_rates\u001b[0m\u001b[0;34m(\u001b[0m\u001b[0;34m)\u001b[0m\u001b[0;34m\u001b[0m\u001b[0m\n",
      "\u001b[0;32m~/.local/lib/python3.6/site-packages/pynucastro-1.3.0-py3.6.egg/pynucastro/rates/rate.py\u001b[0m in \u001b[0;36m__init__\u001b[0;34m(self, libfile, rates, read_library)\u001b[0m\n\u001b[1;32m    275\u001b[0m \u001b[0;34m\u001b[0m\u001b[0m\n\u001b[1;32m    276\u001b[0m         \u001b[0;32mif\u001b[0m \u001b[0mself\u001b[0m\u001b[0;34m.\u001b[0m\u001b[0m_library_file\u001b[0m \u001b[0;32mand\u001b[0m \u001b[0mread_library\u001b[0m\u001b[0;34m:\u001b[0m\u001b[0;34m\u001b[0m\u001b[0m\n\u001b[0;32m--> 277\u001b[0;31m             \u001b[0mself\u001b[0m\u001b[0;34m.\u001b[0m\u001b[0m_library_file\u001b[0m \u001b[0;34m=\u001b[0m \u001b[0mself\u001b[0m\u001b[0;34m.\u001b[0m\u001b[0m_find_rate_file\u001b[0m\u001b[0;34m(\u001b[0m\u001b[0mself\u001b[0m\u001b[0;34m.\u001b[0m\u001b[0m_library_file\u001b[0m\u001b[0;34m)\u001b[0m\u001b[0;34m\u001b[0m\u001b[0m\n\u001b[0m\u001b[1;32m    278\u001b[0m             \u001b[0mself\u001b[0m\u001b[0;34m.\u001b[0m\u001b[0m_read_library_file\u001b[0m\u001b[0;34m(\u001b[0m\u001b[0;34m)\u001b[0m\u001b[0;34m\u001b[0m\u001b[0m\n\u001b[1;32m    279\u001b[0m \u001b[0;34m\u001b[0m\u001b[0m\n",
      "\u001b[0;32m~/.local/lib/python3.6/site-packages/pynucastro-1.3.0-py3.6.egg/pynucastro/rates/rate.py\u001b[0m in \u001b[0;36m_find_rate_file\u001b[0;34m(self, ratename)\u001b[0m\n\u001b[1;32m    334\u001b[0m         \u001b[0;31m# notify user we can't find the file\u001b[0m\u001b[0;34m\u001b[0m\u001b[0;34m\u001b[0m\u001b[0m\n\u001b[1;32m    335\u001b[0m         raise Exception('File {} not found in the working directory, {}, or {}'.format(\n\u001b[0;32m--> 336\u001b[0;31m             ratename, self.pynucastro_rates_dir, self.pynucastro_tabular_dir))\n\u001b[0m\u001b[1;32m    337\u001b[0m \u001b[0;34m\u001b[0m\u001b[0m\n\u001b[1;32m    338\u001b[0m     \u001b[0;32mdef\u001b[0m \u001b[0m_read_library_file\u001b[0m\u001b[0;34m(\u001b[0m\u001b[0mself\u001b[0m\u001b[0;34m)\u001b[0m\u001b[0;34m:\u001b[0m\u001b[0;34m\u001b[0m\u001b[0m\n",
      "\u001b[0;31mException\u001b[0m: File 20180319default2 not found in the working directory, /Users/sailor/.local/lib/python3.6/site-packages/pynucastro-1.3.0-py3.6.egg/pynucastro/library, or /Users/sailor/.local/lib/python3.6/site-packages/pynucastro-1.3.0-py3.6.egg/pynucastro/library/tabular"
     ]
    }
   ],
   "source": [
    "import pynucastro as pyna\n",
    "from pynucastro.networks import StarKillerNetwork\n",
    "\n",
    "library_file = \"20180319default2\"\n",
    "mylibrary = pyna.rates.Library(library_file)\n",
    "\n",
    "data_list = mylibrary.get_rates()\n",
    "\n",
    "all_nuclei = [\"p\",\"he4\",\"ne20\",\"o20\",\"f20\",\"mg24\",\"al27\",\"o16\",\"si28\",\"s32\",\"p31\"]\n",
    "\n",
    "escn_library = mylibrary.linking_nuclei(all_nuclei,with_reverse=True)\n",
    "escn_tabular = [\"f20--o20-toki\",\"ne20--f20-toki\",\"o20--f20-toki\",\"f20--ne20-toki\"]"
   ]
  },
  {
   "cell_type": "code",
   "execution_count": null,
   "metadata": {},
   "outputs": [],
   "source": [
    "#rc = pyna.RateCollection(libraries=[escn_library],rate_files=escn_tabular)\n",
    "rc = pyna.RateCollection(libraries=[escn_library])\n",
    "\n",
    "comp = pyna.Composition(rc.get_nuclei())\n",
    "comp.set_nuc(\"o16\", 0.5)\n",
    "comp.set_nuc(\"ne20\", 0.3)\n",
    "comp.set_nuc(\"mg24\", 0.1)\n",
    "comp.set_nuc(\"o20\", 1.e-5)\n",
    "comp.set_nuc(\"f20\", 1.e-5)\n",
    "comp.set_nuc(\"p\", 1.e-5)\n",
    "comp.set_nuc(\"he4\", 1.e-2)\n",
    "comp.set_nuc(\"al27\", 1.e-2)\n",
    "comp.set_nuc(\"si28\", 1.e-2)\n",
    "comp.set_nuc(\"s32\", 1.e-2)\n",
    "comp.set_nuc(\"p31\", 1.e-2)\n",
    "comp.normalize()"
   ]
  },
  {
   "cell_type": "code",
   "execution_count": null,
   "metadata": {},
   "outputs": [],
   "source": [
    "rc.plot(outfile=\"ecsn.png\", T=1.e9, comp=comp)"
   ]
  },
  {
   "cell_type": "code",
   "execution_count": null,
   "metadata": {},
   "outputs": [],
   "source": [
    "new_rate_list = []\n",
    "ydots = rc.evaluate_rates(rho=7.e9, T=1.e9, composition=comp)\n",
    "for rate in rc.rates:\n",
    "    if ydots[rate] >= 1.e-20 and rate.weak == False:\n",
    "        new_rate_list.append(rate)\n",
    "\n",
    "        \n",
    "rc_new = pyna.RateCollection(rates=new_rate_list, rate_files=escn_tabular)"
   ]
  },
  {
   "cell_type": "code",
   "execution_count": null,
   "metadata": {
    "scrolled": false
   },
   "outputs": [],
   "source": [
    "rc_new.plot(outfile=\"ecsn1.png\", T=1.e9, comp=comp)"
   ]
  },
  {
   "cell_type": "code",
   "execution_count": null,
   "metadata": {},
   "outputs": [],
   "source": [
    "rc_new.evaluate_rates(rho=7.e9, T=1.e9, composition=comp)"
   ]
  },
  {
   "cell_type": "code",
   "execution_count": null,
   "metadata": {},
   "outputs": [],
   "source": [
    "rc.evaluate_rates(rho=7.e9, T=1.e9, composition=comp)"
   ]
  },
  {
   "cell_type": "code",
   "execution_count": null,
   "metadata": {},
   "outputs": [],
   "source": [
    "wd_net = StarKillerNetwork(rates=new_rate_list, rate_files=escn_tabular)"
   ]
  },
  {
   "cell_type": "code",
   "execution_count": null,
   "metadata": {
    "scrolled": true
   },
   "outputs": [],
   "source": [
    "wd_net.rates"
   ]
  },
  {
   "cell_type": "code",
   "execution_count": null,
   "metadata": {},
   "outputs": [],
   "source": [
    "len(wd_net.rates)"
   ]
  },
  {
   "cell_type": "code",
   "execution_count": null,
   "metadata": {},
   "outputs": [],
   "source": [
    "len(rc_new.rates)"
   ]
  },
  {
   "cell_type": "code",
   "execution_count": null,
   "metadata": {},
   "outputs": [],
   "source": [
    "wd_net.write_network(use_cse=True)"
   ]
  },
  {
   "cell_type": "code",
   "execution_count": null,
   "metadata": {},
   "outputs": [],
   "source": []
  }
 ],
 "metadata": {
  "kernelspec": {
   "display_name": "Python 3",
   "language": "python",
   "name": "python3"
  }
 },
 "nbformat": 4,
 "nbformat_minor": 2
}
