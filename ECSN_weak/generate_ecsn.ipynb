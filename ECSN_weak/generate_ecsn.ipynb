{
 "cells": [
  {
   "cell_type": "code",
   "execution_count": 1,
   "metadata": {},
   "outputs": [],
   "source": [
    "import pynucastro as pyna"
   ]
  },
  {
   "cell_type": "code",
   "execution_count": 2,
   "metadata": {},
   "outputs": [
    {
     "data": {
      "text/plain": [
       "26"
      ]
     },
     "execution_count": 2,
     "metadata": {},
     "output_type": "execute_result"
    }
   ],
   "source": [
    "ecsn_rates = [\"al27-ag-p31-ths8\",\n",
    "         \"al27-pa-mg24-il10\",\n",
    "         \"al27-pg-si28-il10\",\n",
    "         \"mg24-ag-si28-st08\",\n",
    "         \"mg24-ap-al27-il10\",\n",
    "         \"mg24-ga-ne20-il10\",\n",
    "         \"ne20-ag-mg24-il10\",\n",
    "         \"ne20-ga-o16-co10\",\n",
    "         \"o16-ag-ne20-co10\",\n",
    "         \"o16-o16a-si28-cf88\",\n",
    "         \"o16-o16p-p31-cf88\",\n",
    "         \"p31-ga-al27-ths8\",\n",
    "         \"p31-pa-si28-il10\",\n",
    "         \"p31-pg-s32-il10\",\n",
    "         \"p31-po16-o16-cf88\",\n",
    "         \"s32-ga-si28-ths8\",\n",
    "         \"s32-gp-p31-il10\",\n",
    "         \"si28-ag-s32-ths8\",\n",
    "         \"si28-ao16-o16-cf88\",\n",
    "         \"si28-ap-p31-il10\",\n",
    "         \"si28-ga-mg24-st08\",\n",
    "         \"si28-gp-al27-il10\",\n",
    "         \"f20--o20-toki\",\n",
    "         \"ne20--f20-toki\",\n",
    "         \"o20--f20-toki\",\n",
    "         \"f20--ne20-toki\"]\n",
    "len(ecsn_rates)"
   ]
  },
  {
   "cell_type": "code",
   "execution_count": 3,
   "metadata": {},
   "outputs": [],
   "source": [
    "ecsn = pyna.StarKillerNetwork(rate_files=ecsn_rates)\n",
    "comp = pyna.Composition(ecsn.get_nuclei())\n",
    "comp.set_nuc(\"o16\", 0.5)\n",
    "comp.set_nuc(\"ne20\", 0.3)\n",
    "comp.set_nuc(\"mg24\", 0.1)\n",
    "comp.set_nuc(\"o20\", 1.e-5)\n",
    "comp.set_nuc(\"f20\", 1.e-5)\n",
    "comp.set_nuc(\"p\", 1.e-5)\n",
    "comp.set_nuc(\"he4\", 1.e-2)\n",
    "comp.set_nuc(\"al27\", 1.e-2)\n",
    "comp.set_nuc(\"si28\", 1.e-2)\n",
    "comp.set_nuc(\"s32\", 1.e-2)\n",
    "comp.set_nuc(\"p31\", 1.e-2)\n",
    "comp.normalize()"
   ]
  },
  {
   "cell_type": "code",
   "execution_count": 4,
   "metadata": {},
   "outputs": [
    {
     "data": {
      "image/png": "[encoded data removed]",
      "text/plain": [
       "<Figure size 576x432 with 2 Axes>"
      ]
     },
     "metadata": {},
     "output_type": "display_data"
    }
   ],
   "source": [
    "ecsn.plot(T=1.124422e9, rho=7.615707e9, comp=comp, outfile=\"ecsn_reaction.png\")"
   ]
  },
  {
   "cell_type": "code",
   "execution_count": 5,
   "metadata": {},
   "outputs": [
    {
     "name": "stdout",
     "output_type": "stream",
     "text": [
      "al27 + he4 --> p31\n",
      "al27 + p --> he4 + mg24\n",
      "al27 + p --> si28\n",
      "mg24 + he4 --> si28\n",
      "mg24 + he4 --> p + al27\n",
      "mg24 --> he4 + ne20\n",
      "ne20 + he4 --> mg24\n",
      "ne20 --> he4 + o16\n",
      "o16 + he4 --> ne20\n",
      "o16 + o16 --> he4 + si28\n",
      "o16 + o16 --> p + p31\n",
      "p31 --> he4 + al27\n",
      "p31 + p --> he4 + si28\n",
      "p31 + p --> s32\n",
      "p31 + p --> o16 + o16\n",
      "s32 --> he4 + si28\n",
      "s32 --> p + p31\n",
      "si28 + he4 --> s32\n",
      "si28 + he4 --> o16 + o16\n",
      "si28 + he4 --> p + p31\n",
      "si28 --> he4 + mg24\n",
      "si28 --> p + al27\n",
      "f20 --> o20\n",
      "ne20 --> f20\n",
      "o20 --> f20\n",
      "f20 --> ne20\n",
      "\n",
      "The number of reactions in the ECSN network is 26\n"
     ]
    }
   ],
   "source": [
    "print(ecsn)\n",
    "print(\"The number of reactions in the ECSN network is\",len(ecsn.rates))"
   ]
  },
  {
   "cell_type": "code",
   "execution_count": 18,
   "metadata": {
    "scrolled": false
   },
   "outputs": [
    {
     "name": "stdout",
     "output_type": "stream",
     "text": [
      "p\n",
      "  consumed by:\n",
      "     al27 + p --> he4 + mg24\n",
      "     al27 + p --> si28\n",
      "     p31 + p --> he4 + si28\n",
      "     p31 + p --> s32\n",
      "     p31 + p --> o16 + o16\n",
      "  produced by:\n",
      "     mg24 + he4 --> p + al27\n",
      "     o16 + o16 --> p + p31\n",
      "     s32 --> p + p31\n",
      "     si28 + he4 --> p + p31\n",
      "     si28 --> p + al27\n",
      "\n",
      "he4\n",
      "  consumed by:\n",
      "     al27 + he4 --> p31\n",
      "     mg24 + he4 --> si28\n",
      "     mg24 + he4 --> p + al27\n",
      "     ne20 + he4 --> mg24\n",
      "     o16 + he4 --> ne20\n",
      "     si28 + he4 --> s32\n",
      "     si28 + he4 --> o16 + o16\n",
      "     si28 + he4 --> p + p31\n",
      "  produced by:\n",
      "     al27 + p --> he4 + mg24\n",
      "     mg24 --> he4 + ne20\n",
      "     ne20 --> he4 + o16\n",
      "     o16 + o16 --> he4 + si28\n",
      "     p31 --> he4 + al27\n",
      "     p31 + p --> he4 + si28\n",
      "     s32 --> he4 + si28\n",
      "     si28 --> he4 + mg24\n",
      "\n",
      "o16\n",
      "  consumed by:\n",
      "     o16 + he4 --> ne20\n",
      "     o16 + o16 --> he4 + si28\n",
      "     o16 + o16 --> p + p31\n",
      "  produced by:\n",
      "     ne20 --> he4 + o16\n",
      "     p31 + p --> o16 + o16\n",
      "     si28 + he4 --> o16 + o16\n",
      "\n",
      "o20\n",
      "  consumed by:\n",
      "     o20 --> f20\n",
      "  produced by:\n",
      "     f20 --> o20\n",
      "\n",
      "f20\n",
      "  consumed by:\n",
      "     f20 --> o20\n",
      "     f20 --> ne20\n",
      "  produced by:\n",
      "     ne20 --> f20\n",
      "     o20 --> f20\n",
      "\n",
      "ne20\n",
      "  consumed by:\n",
      "     ne20 + he4 --> mg24\n",
      "     ne20 --> he4 + o16\n",
      "     ne20 --> f20\n",
      "  produced by:\n",
      "     mg24 --> he4 + ne20\n",
      "     o16 + he4 --> ne20\n",
      "     f20 --> ne20\n",
      "\n",
      "mg24\n",
      "  consumed by:\n",
      "     mg24 + he4 --> si28\n",
      "     mg24 + he4 --> p + al27\n",
      "     mg24 --> he4 + ne20\n",
      "  produced by:\n",
      "     al27 + p --> he4 + mg24\n",
      "     ne20 + he4 --> mg24\n",
      "     si28 --> he4 + mg24\n",
      "\n",
      "al27\n",
      "  consumed by:\n",
      "     al27 + he4 --> p31\n",
      "     al27 + p --> he4 + mg24\n",
      "     al27 + p --> si28\n",
      "  produced by:\n",
      "     mg24 + he4 --> p + al27\n",
      "     p31 --> he4 + al27\n",
      "     si28 --> p + al27\n",
      "\n",
      "si28\n",
      "  consumed by:\n",
      "     si28 + he4 --> s32\n",
      "     si28 + he4 --> o16 + o16\n",
      "     si28 + he4 --> p + p31\n",
      "     si28 --> he4 + mg24\n",
      "     si28 --> p + al27\n",
      "  produced by:\n",
      "     al27 + p --> si28\n",
      "     mg24 + he4 --> si28\n",
      "     o16 + o16 --> he4 + si28\n",
      "     p31 + p --> he4 + si28\n",
      "     s32 --> he4 + si28\n",
      "\n",
      "p31\n",
      "  consumed by:\n",
      "     p31 --> he4 + al27\n",
      "     p31 + p --> he4 + si28\n",
      "     p31 + p --> s32\n",
      "     p31 + p --> o16 + o16\n",
      "  produced by:\n",
      "     al27 + he4 --> p31\n",
      "     o16 + o16 --> p + p31\n",
      "     s32 --> p + p31\n",
      "     si28 + he4 --> p + p31\n",
      "\n",
      "s32\n",
      "  consumed by:\n",
      "     s32 --> he4 + si28\n",
      "     s32 --> p + p31\n",
      "  produced by:\n",
      "     p31 + p --> s32\n",
      "     si28 + he4 --> s32\n",
      "\n",
      "\n"
     ]
    }
   ],
   "source": [
    "print(ecsn.network_overview())"
   ]
  },
  {
   "cell_type": "code",
   "execution_count": 19,
   "metadata": {},
   "outputs": [],
   "source": [
    "ecsn.write_network(use_cse=True)"
   ]
  },
  {
   "cell_type": "code",
   "execution_count": null,
   "metadata": {},
   "outputs": [],
   "source": []
  },
  {
   "cell_type": "code",
   "execution_count": null,
   "metadata": {},
   "outputs": [],
   "source": []
  },
  {
   "cell_type": "code",
   "execution_count": null,
   "metadata": {},
   "outputs": [],
   "source": []
  },
  {
   "cell_type": "code",
   "execution_count": null,
   "metadata": {},
   "outputs": [],
   "source": []
  },
  {
   "cell_type": "code",
   "execution_count": null,
   "metadata": {},
   "outputs": [],
   "source": []
  },
  {
   "cell_type": "code",
   "execution_count": 8,
   "metadata": {},
   "outputs": [],
   "source": [
    "new_rate_list = []\n",
    "ydots = ecsn.evaluate_rates(T=1.124422e9, rho=7.615707e9, composition=comp)\n",
    "for rate in ecsn.rates:\n",
    "    if ydots[rate] >= 1.e-30 and rate.weak == False:\n",
    "    #if rate.weak == False:\n",
    "        new_rate_list.append(rate)\n",
    "        \n",
    "ecsn_net = pyna.StarKillerNetwork(rates=new_rate_list)"
   ]
  },
  {
   "cell_type": "code",
   "execution_count": 9,
   "metadata": {},
   "outputs": [
    {
     "name": "stdout",
     "output_type": "stream",
     "text": [
      "al27 + he4 --> p31\n",
      "al27 + p --> he4 + mg24\n",
      "al27 + p --> si28\n",
      "mg24 + he4 --> si28\n",
      "mg24 + he4 --> p + al27\n",
      "ne20 + he4 --> mg24\n",
      "ne20 --> he4 + o16\n",
      "o16 + he4 --> ne20\n",
      "o16 + o16 --> he4 + si28\n",
      "o16 + o16 --> p + p31\n",
      "p31 + p --> he4 + si28\n",
      "p31 + p --> s32\n",
      "s32 --> he4 + si28\n",
      "si28 + he4 --> s32\n",
      "si28 + he4 --> p + p31\n",
      "f20 --> o20\n",
      "ne20 --> f20\n",
      "o20 --> f20\n",
      "f20 --> ne20\n",
      "\n",
      "The number of reactions in the ECSN network is 19\n"
     ]
    }
   ],
   "source": [
    "print(ecsn_net)\n",
    "print(\"The number of reactions in the ECSN network is\",len(ecsn_net.rates))"
   ]
  },
  {
   "cell_type": "code",
   "execution_count": 10,
   "metadata": {
    "scrolled": true
   },
   "outputs": [
    {
     "data": {
      "image/png": "[encoded data removed]",
      "text/plain": [
       "<Figure size 576x432 with 2 Axes>"
      ]
     },
     "metadata": {},
     "output_type": "display_data"
    }
   ],
   "source": [
    "ecsn_net.plot(T=1.124422e9, rho=7.615707e9, comp=comp, outfile=\"ecsn_reaction.png\")"
   ]
  },
  {
   "cell_type": "code",
   "execution_count": 11,
   "metadata": {},
   "outputs": [
    {
     "name": "stdout",
     "output_type": "stream",
     "text": [
      "p\n",
      "  consumed by:\n",
      "     al27 + p --> he4 + mg24\n",
      "     al27 + p --> si28\n",
      "     p31 + p --> he4 + si28\n",
      "     p31 + p --> s32\n",
      "  produced by:\n",
      "     mg24 + he4 --> p + al27\n",
      "     o16 + o16 --> p + p31\n",
      "     si28 + he4 --> p + p31\n",
      "\n",
      "he4\n",
      "  consumed by:\n",
      "     al27 + he4 --> p31\n",
      "     mg24 + he4 --> si28\n",
      "     mg24 + he4 --> p + al27\n",
      "     ne20 + he4 --> mg24\n",
      "     o16 + he4 --> ne20\n",
      "     si28 + he4 --> s32\n",
      "     si28 + he4 --> p + p31\n",
      "  produced by:\n",
      "     al27 + p --> he4 + mg24\n",
      "     ne20 --> he4 + o16\n",
      "     o16 + o16 --> he4 + si28\n",
      "     p31 + p --> he4 + si28\n",
      "     s32 --> he4 + si28\n",
      "\n",
      "o16\n",
      "  consumed by:\n",
      "     o16 + he4 --> ne20\n",
      "     o16 + o16 --> he4 + si28\n",
      "     o16 + o16 --> p + p31\n",
      "  produced by:\n",
      "     ne20 --> he4 + o16\n",
      "\n",
      "o20\n",
      "  consumed by:\n",
      "     o20 --> f20\n",
      "  produced by:\n",
      "     f20 --> o20\n",
      "\n",
      "f20\n",
      "  consumed by:\n",
      "     f20 --> o20\n",
      "     f20 --> ne20\n",
      "  produced by:\n",
      "     ne20 --> f20\n",
      "     o20 --> f20\n",
      "\n",
      "ne20\n",
      "  consumed by:\n",
      "     ne20 + he4 --> mg24\n",
      "     ne20 --> he4 + o16\n",
      "     ne20 --> f20\n",
      "  produced by:\n",
      "     o16 + he4 --> ne20\n",
      "     f20 --> ne20\n",
      "\n",
      "mg24\n",
      "  consumed by:\n",
      "     mg24 + he4 --> si28\n",
      "     mg24 + he4 --> p + al27\n",
      "  produced by:\n",
      "     al27 + p --> he4 + mg24\n",
      "     ne20 + he4 --> mg24\n",
      "\n",
      "al27\n",
      "  consumed by:\n",
      "     al27 + he4 --> p31\n",
      "     al27 + p --> he4 + mg24\n",
      "     al27 + p --> si28\n",
      "  produced by:\n",
      "     mg24 + he4 --> p + al27\n",
      "\n",
      "si28\n",
      "  consumed by:\n",
      "     si28 + he4 --> s32\n",
      "     si28 + he4 --> p + p31\n",
      "  produced by:\n",
      "     al27 + p --> si28\n",
      "     mg24 + he4 --> si28\n",
      "     o16 + o16 --> he4 + si28\n",
      "     p31 + p --> he4 + si28\n",
      "     s32 --> he4 + si28\n",
      "\n",
      "p31\n",
      "  consumed by:\n",
      "     p31 + p --> he4 + si28\n",
      "     p31 + p --> s32\n",
      "  produced by:\n",
      "     al27 + he4 --> p31\n",
      "     o16 + o16 --> p + p31\n",
      "     si28 + he4 --> p + p31\n",
      "\n",
      "s32\n",
      "  consumed by:\n",
      "     s32 --> he4 + si28\n",
      "  produced by:\n",
      "     p31 + p --> s32\n",
      "     si28 + he4 --> s32\n",
      "\n",
      "\n"
     ]
    }
   ],
   "source": [
    "print(ecsn_net.network_overview())"
   ]
  },
  {
   "cell_type": "code",
   "execution_count": 12,
   "metadata": {
    "scrolled": true
   },
   "outputs": [],
   "source": [
    "ecsn_net.write_network(use_cse=True)"
   ]
  },
  {
   "cell_type": "code",
   "execution_count": null,
   "metadata": {},
   "outputs": [],
   "source": []
  },
  {
   "cell_type": "code",
   "execution_count": null,
   "metadata": {},
   "outputs": [],
   "source": []
  }
 ],
 "metadata": {
  "kernelspec": {
   "display_name": "Python 3",
   "language": "python",
   "name": "python3"
  },
  "language_info": {
   "codemirror_mode": {
    "name": "ipython",
    "version": 3
   },
   "file_extension": ".py",
   "mimetype": "text/x-python",
   "name": "python",
   "nbconvert_exporter": "python",
   "pygments_lexer": "ipython3",
   "version": "3.6.5"
  }
 },
 "nbformat": 4,
 "nbformat_minor": 2
}
