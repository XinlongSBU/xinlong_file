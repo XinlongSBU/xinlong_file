{
 "cells": [
  {
   "cell_type": "code",
   "execution_count": 1,
   "metadata": {},
   "outputs": [
    {
     "name": "stderr",
     "output_type": "stream",
     "text": [
      "/anaconda3/lib/python3.6/site-packages/h5py/__init__.py:36: FutureWarning: Conversion of the second argument of issubdtype from `float` to `np.floating` is deprecated. In future, it will be treated as `np.float64 == np.dtype(float).type`.\n",
      "  from ._conv import register_converters as _register_converters\n"
     ]
    }
   ],
   "source": [
    "import yt\n",
    "import numpy as np\n",
    "import argparse\n",
    "import pandas as pd\n",
    "import matplotlib.pyplot as plt\n",
    "import re"
   ]
  },
  {
   "cell_type": "code",
   "execution_count": 2,
   "metadata": {},
   "outputs": [
    {
     "name": "stderr",
     "output_type": "stream",
     "text": [
      "yt : [INFO     ] 2019-05-01 22:06:12,150 Parameters: current_time              = 0.00020636587839206343\n",
      "yt : [INFO     ] 2019-05-01 22:06:12,151 Parameters: domain_dimensions         = [256 256 256]\n",
      "yt : [INFO     ] 2019-05-01 22:06:12,152 Parameters: domain_left_edge          = [0. 0. 0.]\n",
      "yt : [INFO     ] 2019-05-01 22:06:12,153 Parameters: domain_right_edge         = [4.e+08 4.e+08 4.e+08]\n"
     ]
    },
    {
     "data": {
      "text/html": [
       "<div>\n",
       "<style scoped>\n",
       "    .dataframe tbody tr th:only-of-type {\n",
       "        vertical-align: middle;\n",
       "    }\n",
       "\n",
       "    .dataframe tbody tr th {\n",
       "        vertical-align: top;\n",
       "    }\n",
       "\n",
       "    .dataframe thead th {\n",
       "        text-align: right;\n",
       "    }\n",
       "</style>\n",
       "<table border=\"1\" class=\"dataframe\">\n",
       "  <thead>\n",
       "    <tr style=\"text-align: right;\">\n",
       "      <th></th>\n",
       "      <th>radius</th>\n",
       "      <th>density</th>\n",
       "      <th>temperature</th>\n",
       "      <th>pressure</th>\n",
       "      <th>ne20</th>\n",
       "      <th>o16</th>\n",
       "      <th>o20</th>\n",
       "      <th>mg24</th>\n",
       "      <th>f29</th>\n",
       "      <th>he4</th>\n",
       "      <th>al27</th>\n",
       "      <th>si28</th>\n",
       "      <th>s32</th>\n",
       "      <th>p31</th>\n",
       "      <th>h1</th>\n",
       "    </tr>\n",
       "  </thead>\n",
       "  <tbody>\n",
       "    <tr>\n",
       "      <th>0</th>\n",
       "      <td>4882.8125</td>\n",
       "      <td>8.348568e+09</td>\n",
       "      <td>6.565856e+08</td>\n",
       "      <td>7.367389e+27</td>\n",
       "      <td>0.007297</td>\n",
       "      <td>0.599995</td>\n",
       "      <td>0.392705</td>\n",
       "      <td>4.964888e-16</td>\n",
       "      <td>2.021104e-09</td>\n",
       "      <td>1.000000e-20</td>\n",
       "      <td>1.000000e-20</td>\n",
       "      <td>0.000004</td>\n",
       "      <td>1.000000e-20</td>\n",
       "      <td>1.000000e-20</td>\n",
       "      <td>1.000000e-20</td>\n",
       "    </tr>\n",
       "    <tr>\n",
       "      <th>1</th>\n",
       "      <td>14648.4375</td>\n",
       "      <td>8.348566e+09</td>\n",
       "      <td>6.565866e+08</td>\n",
       "      <td>7.367387e+27</td>\n",
       "      <td>0.007297</td>\n",
       "      <td>0.599995</td>\n",
       "      <td>0.392705</td>\n",
       "      <td>4.965242e-16</td>\n",
       "      <td>2.021143e-09</td>\n",
       "      <td>1.000000e-20</td>\n",
       "      <td>1.000000e-20</td>\n",
       "      <td>0.000004</td>\n",
       "      <td>1.000000e-20</td>\n",
       "      <td>1.000000e-20</td>\n",
       "      <td>1.000000e-20</td>\n",
       "    </tr>\n",
       "    <tr>\n",
       "      <th>2</th>\n",
       "      <td>24414.0625</td>\n",
       "      <td>8.348562e+09</td>\n",
       "      <td>6.565888e+08</td>\n",
       "      <td>7.367384e+27</td>\n",
       "      <td>0.007297</td>\n",
       "      <td>0.599995</td>\n",
       "      <td>0.392705</td>\n",
       "      <td>4.965935e-16</td>\n",
       "      <td>2.021225e-09</td>\n",
       "      <td>1.000000e-20</td>\n",
       "      <td>1.000000e-20</td>\n",
       "      <td>0.000004</td>\n",
       "      <td>1.000000e-20</td>\n",
       "      <td>1.000000e-20</td>\n",
       "      <td>1.000000e-20</td>\n",
       "    </tr>\n",
       "    <tr>\n",
       "      <th>3</th>\n",
       "      <td>34179.6875</td>\n",
       "      <td>8.348556e+09</td>\n",
       "      <td>6.565920e+08</td>\n",
       "      <td>7.367378e+27</td>\n",
       "      <td>0.007298</td>\n",
       "      <td>0.599995</td>\n",
       "      <td>0.392704</td>\n",
       "      <td>4.966975e-16</td>\n",
       "      <td>2.021347e-09</td>\n",
       "      <td>1.000000e-20</td>\n",
       "      <td>1.000000e-20</td>\n",
       "      <td>0.000004</td>\n",
       "      <td>1.000000e-20</td>\n",
       "      <td>1.000000e-20</td>\n",
       "      <td>1.000000e-20</td>\n",
       "    </tr>\n",
       "    <tr>\n",
       "      <th>4</th>\n",
       "      <td>43945.3125</td>\n",
       "      <td>8.348548e+09</td>\n",
       "      <td>6.565963e+08</td>\n",
       "      <td>7.367371e+27</td>\n",
       "      <td>0.007299</td>\n",
       "      <td>0.599995</td>\n",
       "      <td>0.392703</td>\n",
       "      <td>4.968362e-16</td>\n",
       "      <td>2.021509e-09</td>\n",
       "      <td>1.000000e-20</td>\n",
       "      <td>1.000000e-20</td>\n",
       "      <td>0.000004</td>\n",
       "      <td>1.000000e-20</td>\n",
       "      <td>1.000000e-20</td>\n",
       "      <td>1.000000e-20</td>\n",
       "    </tr>\n",
       "  </tbody>\n",
       "</table>\n",
       "</div>"
      ],
      "text/plain": [
       "       radius       density   temperature      pressure      ne20       o16  \\\n",
       "0   4882.8125  8.348568e+09  6.565856e+08  7.367389e+27  0.007297  0.599995   \n",
       "1  14648.4375  8.348566e+09  6.565866e+08  7.367387e+27  0.007297  0.599995   \n",
       "2  24414.0625  8.348562e+09  6.565888e+08  7.367384e+27  0.007297  0.599995   \n",
       "3  34179.6875  8.348556e+09  6.565920e+08  7.367378e+27  0.007298  0.599995   \n",
       "4  43945.3125  8.348548e+09  6.565963e+08  7.367371e+27  0.007299  0.599995   \n",
       "\n",
       "        o20          mg24           f29           he4          al27      si28  \\\n",
       "0  0.392705  4.964888e-16  2.021104e-09  1.000000e-20  1.000000e-20  0.000004   \n",
       "1  0.392705  4.965242e-16  2.021143e-09  1.000000e-20  1.000000e-20  0.000004   \n",
       "2  0.392705  4.965935e-16  2.021225e-09  1.000000e-20  1.000000e-20  0.000004   \n",
       "3  0.392704  4.966975e-16  2.021347e-09  1.000000e-20  1.000000e-20  0.000004   \n",
       "4  0.392703  4.968362e-16  2.021509e-09  1.000000e-20  1.000000e-20  0.000004   \n",
       "\n",
       "            s32           p31            h1  \n",
       "0  1.000000e-20  1.000000e-20  1.000000e-20  \n",
       "1  1.000000e-20  1.000000e-20  1.000000e-20  \n",
       "2  1.000000e-20  1.000000e-20  1.000000e-20  \n",
       "3  1.000000e-20  1.000000e-20  1.000000e-20  \n",
       "4  1.000000e-20  1.000000e-20  1.000000e-20  "
      ]
     },
     "execution_count": 2,
     "metadata": {},
     "output_type": "execute_result"
    }
   ],
   "source": [
    "# Read data from mesa data: \n",
    "a = pd.read_excel(\"/Users/sailor/Desktop/asro_work/git_fun/xinlong_file/initial-model_prepare/ONe6040_update.xlsx\")\n",
    "\n",
    "# read data from Maestro data:\n",
    "ds = yt.load(\"ECSN_full/plt0000002/\")\n",
    "name = ds.fullpath.split('/')[-1]\n",
    "\n",
    "# read data form initial model\n",
    "f = open(\"/Users/sailor/Desktop/asro_work/git_fun/xinlong_file/initial-model_prepare/ECSN-ONe6040-final.hse.20480\",\"r\")\n",
    "data = f.readlines()  # data is a list. each element is a line of \"23Ne...dat\"\n",
    "f.close()\n",
    "del data[0:16]\n",
    "\n",
    "data2d = []\n",
    "for i in range(len(data)):\n",
    "    data2d.append(re.split(r\"[ ]\",data[i].strip('\\n')))\n",
    "\n",
    "for i in range(len(data2d)):\n",
    "        while '' in data2d[i]:\n",
    "            data2d[i].remove('')\n",
    "\n",
    "for i in range(len(data2d)-1,-1,-1):\n",
    "    if len(data2d[i]) == 3:\n",
    "        aaaaa = data2d[i].copy()\n",
    "        data2d.pop(i)\n",
    "        i+=1\n",
    "    else:\n",
    "        data2d[i].extend(aaaaa)\n",
    "\n",
    "data3d = np.array(data2d).astype(np.float)\n",
    "\n",
    "df = pd.DataFrame(data3d)\n",
    "df.columns = ['radius','density','temperature','pressure','ne20','o16','o20','mg24','f29','he4','al27','si28','s32','p31','h1']\n",
    "df.head()"
   ]
  },
  {
   "cell_type": "code",
   "execution_count": 3,
   "metadata": {},
   "outputs": [
    {
     "name": "stderr",
     "output_type": "stream",
     "text": [
      "/anaconda3/lib/python3.6/site-packages/matplotlib/ticker.py:2241: UserWarning: Data has no positive values, and therefore cannot be log-scaled.\n",
      "  \"Data has no positive values, and therefore cannot be \"\n"
     ]
    },
    {
     "data": {
      "text/html": [
       "<div>\n",
       "<style scoped>\n",
       "    .dataframe tbody tr th:only-of-type {\n",
       "        vertical-align: middle;\n",
       "    }\n",
       "\n",
       "    .dataframe tbody tr th {\n",
       "        vertical-align: top;\n",
       "    }\n",
       "\n",
       "    .dataframe thead th {\n",
       "        text-align: right;\n",
       "    }\n",
       "</style>\n",
       "<table border=\"1\" class=\"dataframe\">\n",
       "  <thead>\n",
       "    <tr style=\"text-align: right;\">\n",
       "      <th></th>\n",
       "      <th>radius</th>\n",
       "      <th>Hnuc</th>\n",
       "      <th>tfromp</th>\n",
       "      <th>p0</th>\n",
       "      <th>rho</th>\n",
       "      <th>X(h1)</th>\n",
       "      <th>X(he4)</th>\n",
       "      <th>X(o16)</th>\n",
       "      <th>X(o20)</th>\n",
       "      <th>X(f20)</th>\n",
       "      <th>X(ne20)</th>\n",
       "      <th>X(mg24)</th>\n",
       "      <th>X(al27)</th>\n",
       "      <th>X(si28)</th>\n",
       "      <th>X(p31)</th>\n",
       "      <th>X(s32)</th>\n",
       "    </tr>\n",
       "  </thead>\n",
       "  <tbody>\n",
       "    <tr>\n",
       "      <th>0</th>\n",
       "      <td>1562500.0</td>\n",
       "      <td>-2.841907e+07</td>\n",
       "      <td>6.865365e+08</td>\n",
       "      <td>7.314148e+27</td>\n",
       "      <td>8.291049e+09</td>\n",
       "      <td>4.571166e-20</td>\n",
       "      <td>9.904586e-23</td>\n",
       "      <td>0.599988</td>\n",
       "      <td>0.386622</td>\n",
       "      <td>3.519998e-09</td>\n",
       "      <td>0.013382</td>\n",
       "      <td>4.145182e-15</td>\n",
       "      <td>1.000001e-20</td>\n",
       "      <td>7.308992e-06</td>\n",
       "      <td>1.118907e-18</td>\n",
       "      <td>1.000034e-20</td>\n",
       "    </tr>\n",
       "    <tr>\n",
       "      <th>1</th>\n",
       "      <td>4687500.0</td>\n",
       "      <td>-1.500405e+08</td>\n",
       "      <td>7.958167e+08</td>\n",
       "      <td>7.118205e+27</td>\n",
       "      <td>8.023743e+09</td>\n",
       "      <td>8.454395e-18</td>\n",
       "      <td>4.868837e-21</td>\n",
       "      <td>0.599719</td>\n",
       "      <td>0.330883</td>\n",
       "      <td>1.729261e-08</td>\n",
       "      <td>0.069220</td>\n",
       "      <td>4.508708e-12</td>\n",
       "      <td>1.000018e-20</td>\n",
       "      <td>1.774343e-04</td>\n",
       "      <td>2.617911e-16</td>\n",
       "      <td>1.039512e-20</td>\n",
       "    </tr>\n",
       "    <tr>\n",
       "      <th>2</th>\n",
       "      <td>7812500.0</td>\n",
       "      <td>-3.364722e+08</td>\n",
       "      <td>8.224047e+08</td>\n",
       "      <td>6.779708e+27</td>\n",
       "      <td>7.410776e+09</td>\n",
       "      <td>3.806003e-16</td>\n",
       "      <td>7.609711e-20</td>\n",
       "      <td>0.598793</td>\n",
       "      <td>0.122285</td>\n",
       "      <td>4.977039e-08</td>\n",
       "      <td>0.278145</td>\n",
       "      <td>3.338969e-10</td>\n",
       "      <td>1.000099e-20</td>\n",
       "      <td>7.775728e-04</td>\n",
       "      <td>1.179830e-14</td>\n",
       "      <td>3.518871e-19</td>\n",
       "    </tr>\n",
       "    <tr>\n",
       "      <th>3</th>\n",
       "      <td>10937500.0</td>\n",
       "      <td>-1.612812e+07</td>\n",
       "      <td>3.875380e+08</td>\n",
       "      <td>6.337062e+27</td>\n",
       "      <td>6.894002e+09</td>\n",
       "      <td>1.000331e-20</td>\n",
       "      <td>3.981877e-21</td>\n",
       "      <td>0.600000</td>\n",
       "      <td>0.003738</td>\n",
       "      <td>2.710834e-09</td>\n",
       "      <td>0.396262</td>\n",
       "      <td>9.530107e-18</td>\n",
       "      <td>1.000000e-20</td>\n",
       "      <td>1.473317e-11</td>\n",
       "      <td>1.005638e-20</td>\n",
       "      <td>1.000000e-20</td>\n",
       "    </tr>\n",
       "    <tr>\n",
       "      <th>4</th>\n",
       "      <td>14062500.0</td>\n",
       "      <td>0.000000e+00</td>\n",
       "      <td>3.464059e+08</td>\n",
       "      <td>5.813154e+27</td>\n",
       "      <td>6.459124e+09</td>\n",
       "      <td>9.999999e-21</td>\n",
       "      <td>7.601753e-21</td>\n",
       "      <td>0.600000</td>\n",
       "      <td>0.000027</td>\n",
       "      <td>3.369994e-11</td>\n",
       "      <td>0.399973</td>\n",
       "      <td>2.331788e-20</td>\n",
       "      <td>1.000000e-20</td>\n",
       "      <td>5.502760e-16</td>\n",
       "      <td>1.000000e-20</td>\n",
       "      <td>1.000000e-20</td>\n",
       "    </tr>\n",
       "  </tbody>\n",
       "</table>\n",
       "</div>"
      ],
      "text/plain": [
       "       radius          Hnuc        tfromp            p0           rho  \\\n",
       "0   1562500.0 -2.841907e+07  6.865365e+08  7.314148e+27  8.291049e+09   \n",
       "1   4687500.0 -1.500405e+08  7.958167e+08  7.118205e+27  8.023743e+09   \n",
       "2   7812500.0 -3.364722e+08  8.224047e+08  6.779708e+27  7.410776e+09   \n",
       "3  10937500.0 -1.612812e+07  3.875380e+08  6.337062e+27  6.894002e+09   \n",
       "4  14062500.0  0.000000e+00  3.464059e+08  5.813154e+27  6.459124e+09   \n",
       "\n",
       "          X(h1)        X(he4)    X(o16)    X(o20)        X(f20)   X(ne20)  \\\n",
       "0  4.571166e-20  9.904586e-23  0.599988  0.386622  3.519998e-09  0.013382   \n",
       "1  8.454395e-18  4.868837e-21  0.599719  0.330883  1.729261e-08  0.069220   \n",
       "2  3.806003e-16  7.609711e-20  0.598793  0.122285  4.977039e-08  0.278145   \n",
       "3  1.000331e-20  3.981877e-21  0.600000  0.003738  2.710834e-09  0.396262   \n",
       "4  9.999999e-21  7.601753e-21  0.600000  0.000027  3.369994e-11  0.399973   \n",
       "\n",
       "        X(mg24)       X(al27)       X(si28)        X(p31)        X(s32)  \n",
       "0  4.145182e-15  1.000001e-20  7.308992e-06  1.118907e-18  1.000034e-20  \n",
       "1  4.508708e-12  1.000018e-20  1.774343e-04  2.617911e-16  1.039512e-20  \n",
       "2  3.338969e-10  1.000099e-20  7.775728e-04  1.179830e-14  3.518871e-19  \n",
       "3  9.530107e-18  1.000000e-20  1.473317e-11  1.005638e-20  1.000000e-20  \n",
       "4  2.331788e-20  1.000000e-20  5.502760e-16  1.000000e-20  1.000000e-20  "
      ]
     },
     "execution_count": 3,
     "metadata": {},
     "output_type": "execute_result"
    }
   ],
   "source": [
    "# Create a sphere of radius 1500 km in the center of the box.\n",
    "my_sphere = ds.sphere(\"c\", (2000.0, \"km\"))\n",
    "\n",
    "plot = yt.ProfilePlot(my_sphere, \"radius\", \"Hnuc\", weight_field=\"cell_volume\")\n",
    "plot.set_log('radius', False)\n",
    "plot.set_xlim(0, 2.0e8)\n",
    "profile = plot.profiles[0]\n",
    "\n",
    "to_save = pd.DataFrame(columns = ['radius'], data = profile.x)\n",
    "to_save['Hnuc'] = profile['Hnuc']\n",
    "\n",
    "xxl = [\"tfromp\",\"p0\",\"rho\",\"X(h1)\",\"X(he4)\",\"X(o16)\",\"X(o20)\",\"X(f20)\",\"X(ne20)\",\"X(mg24)\",\"X(al27)\",\"X(si28)\",\"X(p31)\",\"X(s32)\"]\n",
    "for xx in xxl:\n",
    "    print(\"dealing with\"+xx)\n",
    "    plot = yt.ProfilePlot(my_sphere, \"radius\", xx, weight_field=\"cell_volume\")\n",
    "    plot.set_log('radius', False)\n",
    "    plot.set_xlim(0, 2.0e8)\n",
    "    profile = plot.profiles[0]\n",
    "    to_save[xx] = profile[xx]\n",
    "\n",
    "to_save.head()\n"
   ]
  },
  {
   "cell_type": "code",
   "execution_count": 15,
   "metadata": {
    "scrolled": false
   },
   "outputs": [
    {
     "data": {
      "image/png": "[encoded data removed]",
      "text/plain": [
       "<Figure size 432x288 with 1 Axes>"
      ]
     },
     "metadata": {},
     "output_type": "display_data"
    }
   ],
   "source": [
    "r_sun = 6.955e10  # cm\n",
    "radius = np.array(a[\"radius\"])\n",
    "eps_nuc2 = a['eps_nuc_mc2']\n",
    "eps_nuc_neu = a['eps_nuc_neu']\n",
    "e_nuc = eps_nuc2-eps_nuc_neu\n",
    "#e_nuc = eps_nuc_neu\n",
    "\n",
    "plt.semilogy(radius*r_sun,e_nuc, label = 'MESA')\n",
    "plt.semilogy(to_save['radius'], -to_save['Hnuc'], label = 'MAESTROeX')\n",
    "plt.xlabel(\"radius [cm]\")\n",
    "plt.ylabel(\"e_nuc [erg/g/s]\")\n",
    "plt.ylim(1e3,1e13)\n",
    "plt.xlim(0,2.0e8)\n",
    "plt.grid()\n",
    "plt.legend()\n",
    "plt.savefig(name+\"_enuc.png\")"
   ]
  },
  {
   "cell_type": "code",
   "execution_count": 8,
   "metadata": {},
   "outputs": [
    {
     "data": {
      "image/png": "[encoded data removed]",
      "text/plain": [
       "<Figure size 432x288 with 1 Axes>"
      ]
     },
     "metadata": {},
     "output_type": "display_data"
    }
   ],
   "source": [
    "temp = np.array(a[\"temperature\"])\n",
    "\n",
    "plt.plot(radius*r_sun, temp, label = 'MESA')\n",
    "plt.plot(to_save['radius'], to_save['tfromp'], label = 'MAESTROeX')\n",
    "plt.plot(df['radius'],df['temperature'],'--', label = 'initial model')\n",
    "plt.xlabel(\"radius [cm]\")\n",
    "plt.ylabel(\"temperature [K]\")\n",
    "#plt.ylim(1e6,1e13)\n",
    "plt.xlim(0,2.0e8)\n",
    "plt.grid()\n",
    "plt.legend()\n",
    "plt.savefig(name+\"_temperature.png\")"
   ]
  },
  {
   "cell_type": "code",
   "execution_count": 9,
   "metadata": {},
   "outputs": [
    {
     "data": {
      "image/png": "[encoded data removed]",
      "text/plain": [
       "<Figure size 432x288 with 1 Axes>"
      ]
     },
     "metadata": {},
     "output_type": "display_data"
    }
   ],
   "source": [
    "press = np.array(a[\"pressure\"])\n",
    "\n",
    "plt.plot(radius*r_sun, press, label = 'MESA')\n",
    "plt.plot(to_save['radius'], to_save['p0'], label = 'MAESTROeX')\n",
    "plt.plot(df['radius'],df['pressure'],'--', label = 'initial model')\n",
    "plt.xlabel(\"radius [cm]\")\n",
    "plt.ylabel(\"pressure [Pa]\")\n",
    "#plt.ylim(1e6,1e13)\n",
    "plt.xlim(0,2.0e8)\n",
    "plt.grid()\n",
    "plt.legend()\n",
    "plt.savefig(name+\"_pressure.png\")"
   ]
  },
  {
   "cell_type": "code",
   "execution_count": 10,
   "metadata": {},
   "outputs": [
    {
     "data": {
      "image/png": "[encoded data removed]",
      "text/plain": [
       "<Figure size 432x288 with 1 Axes>"
      ]
     },
     "metadata": {},
     "output_type": "display_data"
    }
   ],
   "source": [
    "rho = np.power(10,np.array(a[\"logRho\"]))\n",
    "\n",
    "plt.plot(radius*r_sun, rho, label = 'MESA')\n",
    "plt.plot(to_save['radius'], to_save['rho'], label = 'MAESTROeX')\n",
    "plt.plot(df['radius'],df['density'],'--', label = 'initial model')\n",
    "plt.xlabel(\"radius [cm]\")\n",
    "plt.ylabel(\"density [g/cm3]\")\n",
    "#plt.ylim(1e6,1e13)\n",
    "plt.xlim(0,2.0e8)\n",
    "plt.grid()\n",
    "plt.legend()\n",
    "plt.savefig(name+\"_density.png\")"
   ]
  },
  {
   "cell_type": "code",
   "execution_count": 11,
   "metadata": {},
   "outputs": [
    {
     "data": {
      "image/png": "[encoded data removed]",
      "text/plain": [
       "<Figure size 432x288 with 1 Axes>"
      ]
     },
     "metadata": {},
     "output_type": "display_data"
    }
   ],
   "source": [
    "element = 'ne20'\n",
    "y_axis = np.array(a[element])\n",
    "\n",
    "plt.plot(radius*r_sun, y_axis, label = 'MESA')\n",
    "plt.plot(to_save['radius'], to_save[\"X(\"+element+\")\"], label = 'MAESTROeX')\n",
    "plt.plot(df['radius'],df[element],'--', label = 'initial model')\n",
    "plt.xlabel(\"radius [cm]\")\n",
    "plt.ylabel(\"X(\"+element+\")\")\n",
    "#plt.ylim(1e6,1e13)\n",
    "plt.xlim(0,2.e8)\n",
    "plt.grid()\n",
    "plt.legend()\n",
    "plt.savefig(name+\"_\"+element+\"_comp.png\")"
   ]
  },
  {
   "cell_type": "code",
   "execution_count": 12,
   "metadata": {},
   "outputs": [
    {
     "data": {
      "image/png": "[encoded data removed]",
      "text/plain": [
       "<Figure size 432x288 with 1 Axes>"
      ]
     },
     "metadata": {},
     "output_type": "display_data"
    }
   ],
   "source": [
    "element = 'o16'\n",
    "y_axis = np.array(a[element])\n",
    "\n",
    "plt.plot(radius*r_sun, y_axis, label = 'MESA')\n",
    "plt.plot(to_save['radius'], to_save[\"X(\"+element+\")\"], label = 'MAESTROeX')\n",
    "plt.plot(df['radius'],df[element],'--', label = 'initial model')\n",
    "plt.xlabel(\"radius [cm]\")\n",
    "plt.ylabel(\"X(\"+element+\")\")\n",
    "#plt.ylim(1e6,1e13)\n",
    "plt.xlim(0,2.e8)\n",
    "plt.grid()\n",
    "plt.legend()\n",
    "plt.savefig(name+\"_\"+element+\"_comp.png\")"
   ]
  },
  {
   "cell_type": "code",
   "execution_count": 13,
   "metadata": {},
   "outputs": [
    {
     "data": {
      "image/png": "[encoded data removed]",
      "text/plain": [
       "<Figure size 432x288 with 1 Axes>"
      ]
     },
     "metadata": {},
     "output_type": "display_data"
    }
   ],
   "source": [
    "element = 'o20'\n",
    "y_axis = np.array(a[element])\n",
    "\n",
    "plt.plot(radius*r_sun, y_axis, label = 'MESA')\n",
    "plt.plot(to_save['radius'], to_save[\"X(\"+element+\")\"], label = 'MAESTROeX')\n",
    "plt.plot(df['radius'],df[element],'--', label = 'initial model')\n",
    "plt.xlabel(\"radius [cm]\")\n",
    "plt.ylabel(\"X(\"+element+\")\")\n",
    "#plt.ylim(1e6,1e13)\n",
    "plt.xlim(0,2.e8)\n",
    "plt.grid()\n",
    "plt.legend()\n",
    "plt.savefig(name+\"_\"+element+\"_comp.png\")"
   ]
  },
  {
   "cell_type": "code",
   "execution_count": 14,
   "metadata": {},
   "outputs": [
    {
     "data": {
      "image/png": "[encoded data removed]",
      "text/plain": [
       "<Figure size 432x288 with 1 Axes>"
      ]
     },
     "metadata": {},
     "output_type": "display_data"
    }
   ],
   "source": [
    "plot = yt.ProfilePlot(my_sphere, \"radius\", \"omegadot(ne20)\", weight_field=\"cell_volume\")\n",
    "plot.set_log('radius', False)\n",
    "plot.set_xlim(0, 1.5e8)\n",
    "profile = plot.profiles[0]\n",
    "\n",
    "r_sun = 6.955e10  # cm\n",
    "radius = np.array(a[\"radius\"])\n",
    "\n",
    "plt.plot(profile.x, profile['omegadot(ne20)'],label = 'MAESTROeX')\n",
    "plt.xlabel(\"radius [cm]\")\n",
    "plt.ylabel(\"omegadot(ne20)\")\n",
    "plt.xlim(0,1.5e8)\n",
    "plt.grid()\n",
    "plt.legend()\n",
    "plt.savefig(name+\"_ne20_omegadot.png\")"
   ]
  },
  {
   "cell_type": "code",
   "execution_count": 12,
   "metadata": {},
   "outputs": [
    {
     "data": {
      "image/png": "[encoded data removed]",
      "text/plain": [
       "<Figure size 432x288 with 1 Axes>"
      ]
     },
     "metadata": {},
     "output_type": "display_data"
    }
   ],
   "source": [
    "plot = yt.ProfilePlot(my_sphere, \"radius\", \"omegadot(o16)\", weight_field=\"cell_volume\")\n",
    "plot.set_log('radius', False)\n",
    "plot.set_xlim(0, 1.5e8)\n",
    "profile = plot.profiles[0]\n",
    "\n",
    "r_sun = 6.955e10  # cm\n",
    "radius = np.array(a[\"radius\"])\n",
    "\n",
    "plt.plot(profile.x, profile['omegadot(o16)'],label = 'MAESTROeX')\n",
    "plt.xlabel(\"radius [cm]\")\n",
    "plt.ylabel(\"omegadot(o16)\")\n",
    "plt.xlim(0,1.5e8)\n",
    "plt.grid()\n",
    "plt.legend()\n",
    "plt.savefig(name+\"_o16_omegadot.png\")"
   ]
  },
  {
   "cell_type": "code",
   "execution_count": 13,
   "metadata": {},
   "outputs": [
    {
     "data": {
      "image/png": "[encoded data removed]",
      "text/plain": [
       "<Figure size 432x288 with 1 Axes>"
      ]
     },
     "metadata": {},
     "output_type": "display_data"
    }
   ],
   "source": [
    "plot = yt.ProfilePlot(my_sphere, \"radius\", \"omegadot(o20)\", weight_field=\"cell_volume\")\n",
    "plot.set_log('radius', False)\n",
    "plot.set_xlim(0, 1.5e8)\n",
    "profile = plot.profiles[0]\n",
    "\n",
    "r_sun = 6.955e10  # cm\n",
    "radius = np.array(a[\"radius\"])\n",
    "\n",
    "plt.plot(profile.x, profile['omegadot(o20)'],label = 'MAESTROeX')\n",
    "plt.xlabel(\"radius [cm]\")\n",
    "plt.ylabel(\"omegadot(o20)\")\n",
    "plt.xlim(0,1.5e8)\n",
    "plt.grid()\n",
    "plt.legend()\n",
    "plt.savefig(name+\"_o20_omegadot.png\")"
   ]
  },
  {
   "cell_type": "code",
   "execution_count": 20,
   "metadata": {},
   "outputs": [
    {
     "name": "stderr",
     "output_type": "stream",
     "text": [
      "yt : [INFO     ] 2019-04-24 18:38:05,774 xlim = 0.000000 500000000.000000\n",
      "yt : [INFO     ] 2019-04-24 18:38:05,776 ylim = 0.000000 500000000.000000\n",
      "yt : [INFO     ] 2019-04-24 18:38:05,777 xlim = 0.000000 500000000.000000\n",
      "yt : [INFO     ] 2019-04-24 18:38:05,781 ylim = 0.000000 500000000.000000\n",
      "yt : [INFO     ] 2019-04-24 18:38:05,785 Making a fixed resolution buffer of (('boxlib', 'rho')) 800 by 800\n",
      "yt : [INFO     ] 2019-04-24 18:38:06,582 Saving plot plt0000001_rho.png\n"
     ]
    },
    {
     "data": {
      "text/plain": [
       "['plt0000001_rho.png']"
      ]
     },
     "execution_count": 20,
     "metadata": {},
     "output_type": "execute_result"
    }
   ],
   "source": [
    "slc = yt.SlicePlot(ds, 'z', \"rho\")#,center = [0,0,0])#, width=(5000,'km'))\n",
    "slc.save(name+\"_rho.png\")"
   ]
  },
  {
   "cell_type": "code",
   "execution_count": 21,
   "metadata": {},
   "outputs": [
    {
     "name": "stderr",
     "output_type": "stream",
     "text": [
      "yt : [INFO     ] 2019-04-24 18:38:08,562 xlim = 0.000000 500000000.000000\n",
      "yt : [INFO     ] 2019-04-24 18:38:08,563 ylim = 0.000000 500000000.000000\n",
      "yt : [INFO     ] 2019-04-24 18:38:08,565 xlim = 0.000000 500000000.000000\n",
      "yt : [INFO     ] 2019-04-24 18:38:08,566 ylim = 0.000000 500000000.000000\n",
      "yt : [INFO     ] 2019-04-24 18:38:08,569 Making a fixed resolution buffer of (('boxlib', 'tfromp')) 800 by 800\n",
      "yt : [INFO     ] 2019-04-24 18:38:09,051 Saving plot plt0000001_tfromp.png\n"
     ]
    },
    {
     "data": {
      "text/plain": [
       "['plt0000001_tfromp.png']"
      ]
     },
     "execution_count": 21,
     "metadata": {},
     "output_type": "execute_result"
    }
   ],
   "source": [
    "slc = yt.SlicePlot(ds, 'z', \"tfromp\")#, width=(3200,'km'))\n",
    "slc.set_log('tfromp', False)\n",
    "slc.save(name+\"_tfromp.png\")"
   ]
  },
  {
   "cell_type": "code",
   "execution_count": 22,
   "metadata": {},
   "outputs": [
    {
     "name": "stderr",
     "output_type": "stream",
     "text": [
      "yt : [INFO     ] 2019-04-24 18:38:09,619 xlim = 235000000.000000 265000000.000000\n",
      "yt : [INFO     ] 2019-04-24 18:38:09,620 ylim = 235000000.000000 265000000.000000\n",
      "yt : [INFO     ] 2019-04-24 18:38:09,622 xlim = 235000000.000000 265000000.000000\n",
      "yt : [INFO     ] 2019-04-24 18:38:09,623 ylim = 235000000.000000 265000000.000000\n",
      "yt : [INFO     ] 2019-04-24 18:38:09,626 Making a fixed resolution buffer of (('boxlib', 'tfromp')) 800 by 800\n",
      "yt : [INFO     ] 2019-04-24 18:38:10,026 Saving plot plt0000001_tfromp_zoom.png\n"
     ]
    },
    {
     "data": {
      "text/plain": [
       "['plt0000001_tfromp_zoom.png']"
      ]
     },
     "execution_count": 22,
     "metadata": {},
     "output_type": "execute_result"
    }
   ],
   "source": [
    "slc = yt.SlicePlot(ds, 'z', \"tfromp\", width=(300,'km'))\n",
    "slc.set_log('tfromp', False)\n",
    "slc.save(name+\"_tfromp_zoom.png\")"
   ]
  },
  {
   "cell_type": "code",
   "execution_count": 23,
   "metadata": {},
   "outputs": [
    {
     "name": "stderr",
     "output_type": "stream",
     "text": [
      "yt : [INFO     ] 2019-04-24 18:38:12,145 xlim = 0.000000 500000000.000000\n",
      "yt : [INFO     ] 2019-04-24 18:38:12,147 ylim = 0.000000 500000000.000000\n",
      "yt : [INFO     ] 2019-04-24 18:38:12,149 xlim = 0.000000 500000000.000000\n",
      "yt : [INFO     ] 2019-04-24 18:38:12,151 ylim = 0.000000 500000000.000000\n",
      "yt : [INFO     ] 2019-04-24 18:38:12,155 Making a fixed resolution buffer of (('boxlib', 'Pi')) 800 by 800\n",
      "yt : [WARNING  ] 2019-04-24 18:38:12,279 Plot image for field ('boxlib', 'Pi') has no positive values.  Max = -160795245884600.125000.\n",
      "yt : [WARNING  ] 2019-04-24 18:38:12,279 Switching to linear colorbar scaling.\n",
      "yt : [INFO     ] 2019-04-24 18:38:12,545 Saving plot plt0000001_Pi.png\n"
     ]
    },
    {
     "data": {
      "text/plain": [
       "['plt0000001_Pi.png']"
      ]
     },
     "execution_count": 23,
     "metadata": {},
     "output_type": "execute_result"
    }
   ],
   "source": [
    "slc = yt.SlicePlot(ds, 'z', \"Pi\")#, width=(3200,'km'))\n",
    "slc.save(name+\"_Pi.png\")"
   ]
  },
  {
   "cell_type": "code",
   "execution_count": 24,
   "metadata": {},
   "outputs": [
    {
     "name": "stderr",
     "output_type": "stream",
     "text": [
      "yt : [INFO     ] 2019-04-24 18:38:14,159 xlim = 0.000000 500000000.000000\n",
      "yt : [INFO     ] 2019-04-24 18:38:14,160 ylim = 0.000000 500000000.000000\n",
      "yt : [INFO     ] 2019-04-24 18:38:14,162 xlim = 0.000000 500000000.000000\n",
      "yt : [INFO     ] 2019-04-24 18:38:14,164 ylim = 0.000000 500000000.000000\n",
      "yt : [INFO     ] 2019-04-24 18:38:14,167 Making a fixed resolution buffer of (('boxlib', 'Hnuc')) 800 by 800\n",
      "yt : [INFO     ] 2019-04-24 18:38:14,723 Saving plot plt0000001_Hnuc.png\n"
     ]
    },
    {
     "data": {
      "text/plain": [
       "['plt0000001_Hnuc.png']"
      ]
     },
     "execution_count": 24,
     "metadata": {},
     "output_type": "execute_result"
    }
   ],
   "source": [
    "slc = yt.SlicePlot(ds, 'z', \"Hnuc\")#, width=(5000,'km'),center=(2.5e8,2.5e8,2.5e8))\n",
    "slc.save(name+\"_Hnuc.png\")"
   ]
  },
  {
   "cell_type": "code",
   "execution_count": 25,
   "metadata": {},
   "outputs": [
    {
     "name": "stderr",
     "output_type": "stream",
     "text": [
      "yt : [INFO     ] 2019-04-24 18:38:15,477 xlim = 0.000000 500000000.000000\n",
      "yt : [INFO     ] 2019-04-24 18:38:15,478 ylim = 0.000000 500000000.000000\n",
      "yt : [INFO     ] 2019-04-24 18:38:15,479 xlim = 0.000000 500000000.000000\n",
      "yt : [INFO     ] 2019-04-24 18:38:15,481 ylim = 0.000000 500000000.000000\n",
      "yt : [INFO     ] 2019-04-24 18:38:15,485 Making a fixed resolution buffer of (('index', 'radius')) 800 by 800\n",
      "yt : [INFO     ] 2019-04-24 18:38:16,086 Saving plot plt0000001_radius.png\n"
     ]
    },
    {
     "data": {
      "text/plain": [
       "['plt0000001_radius.png']"
      ]
     },
     "execution_count": 25,
     "metadata": {},
     "output_type": "execute_result"
    }
   ],
   "source": [
    "slc = yt.SlicePlot(ds, 'z', \"radius\")#, width=(3200,'km'))\n",
    "slc.set_log('radius', False)\n",
    "slc.save(name+\"_radius.png\")"
   ]
  },
  {
   "cell_type": "code",
   "execution_count": 26,
   "metadata": {},
   "outputs": [
    {
     "name": "stderr",
     "output_type": "stream",
     "text": [
      "yt : [INFO     ] 2019-04-24 18:38:18,239 xlim = 200000000.000000 300000000.000000\n",
      "yt : [INFO     ] 2019-04-24 18:38:18,240 ylim = 200000000.000000 300000000.000000\n",
      "yt : [INFO     ] 2019-04-24 18:38:18,242 xlim = 200000000.000000 300000000.000000\n",
      "yt : [INFO     ] 2019-04-24 18:38:18,243 ylim = 200000000.000000 300000000.000000\n",
      "yt : [INFO     ] 2019-04-24 18:38:18,245 Making a fixed resolution buffer of (('boxlib', 'omegadot(ne20)')) 800 by 800\n",
      "yt : [WARNING  ] 2019-04-24 18:38:18,391 Plot image for field ('boxlib', 'omegadot(ne20)') has both positive and negative values. Min = -0.000001, Max = 0.000000.\n",
      "yt : [WARNING  ] 2019-04-24 18:38:18,393 Switching to symlog colorbar scaling unless linear scaling is specified later\n",
      "yt : [INFO     ] 2019-04-24 18:38:18,791 Saving plot plt0000001_omegadot(ne20).png\n"
     ]
    },
    {
     "data": {
      "text/plain": [
       "['plt0000001_omegadot(ne20).png']"
      ]
     },
     "execution_count": 26,
     "metadata": {},
     "output_type": "execute_result"
    }
   ],
   "source": [
    "slc = yt.SlicePlot(ds, 'z', \"omegadot(ne20)\", width=(1000,'km'))\n",
    "slc.set_log('omegadot(ne20)', False)\n",
    "slc.save(name+\"_omegadot(ne20).png\")"
   ]
  },
  {
   "cell_type": "code",
   "execution_count": 27,
   "metadata": {},
   "outputs": [
    {
     "name": "stderr",
     "output_type": "stream",
     "text": [
      "yt : [INFO     ] 2019-04-24 18:38:19,934 xlim = 200000000.000000 300000000.000000\n",
      "yt : [INFO     ] 2019-04-24 18:38:19,935 ylim = 200000000.000000 300000000.000000\n",
      "yt : [INFO     ] 2019-04-24 18:38:19,938 xlim = 200000000.000000 300000000.000000\n",
      "yt : [INFO     ] 2019-04-24 18:38:19,941 ylim = 200000000.000000 300000000.000000\n",
      "yt : [INFO     ] 2019-04-24 18:38:19,943 Making a fixed resolution buffer of (('boxlib', 'omegadot(o20)')) 800 by 800\n",
      "yt : [WARNING  ] 2019-04-24 18:38:20,077 Plot image for field ('boxlib', 'omegadot(o20)') has both positive and negative values. Min = -0.000000, Max = 0.000000.\n",
      "yt : [WARNING  ] 2019-04-24 18:38:20,078 Switching to symlog colorbar scaling unless linear scaling is specified later\n",
      "yt : [INFO     ] 2019-04-24 18:38:20,415 Saving plot plt0000001_omegadot(o20).png\n"
     ]
    },
    {
     "data": {
      "text/plain": [
       "['plt0000001_omegadot(o20).png']"
      ]
     },
     "execution_count": 27,
     "metadata": {},
     "output_type": "execute_result"
    }
   ],
   "source": [
    "slc = yt.SlicePlot(ds, 'z', \"omegadot(o20)\", width=(1000,'km'))\n",
    "slc.set_log('omegadot(o20)', False)\n",
    "slc.save(name+\"_omegadot(o20).png\")"
   ]
  },
  {
   "cell_type": "code",
   "execution_count": 28,
   "metadata": {},
   "outputs": [
    {
     "name": "stderr",
     "output_type": "stream",
     "text": [
      "yt : [INFO     ] 2019-04-24 18:38:21,628 xlim = 200000000.000000 300000000.000000\n",
      "yt : [INFO     ] 2019-04-24 18:38:21,630 ylim = 200000000.000000 300000000.000000\n",
      "yt : [INFO     ] 2019-04-24 18:38:21,632 xlim = 200000000.000000 300000000.000000\n",
      "yt : [INFO     ] 2019-04-24 18:38:21,633 ylim = 200000000.000000 300000000.000000\n",
      "yt : [INFO     ] 2019-04-24 18:38:21,636 Making a fixed resolution buffer of (('boxlib', 'omegadot(o16)')) 800 by 800\n",
      "yt : [WARNING  ] 2019-04-24 18:38:21,785 Plot image for field ('boxlib', 'omegadot(o16)') has both positive and negative values. Min = -0.000000, Max = 0.000000.\n",
      "yt : [WARNING  ] 2019-04-24 18:38:21,787 Switching to symlog colorbar scaling unless linear scaling is specified later\n",
      "yt : [INFO     ] 2019-04-24 18:38:22,153 Saving plot plt0000001_omegadot(o16).png\n"
     ]
    },
    {
     "data": {
      "text/plain": [
       "['plt0000001_omegadot(o16).png']"
      ]
     },
     "execution_count": 28,
     "metadata": {},
     "output_type": "execute_result"
    }
   ],
   "source": [
    "slc = yt.SlicePlot(ds, 'z', \"omegadot(o16)\", width=(1000,'km'))\n",
    "slc.set_log('omegadot(o16)', False)\n",
    "slc.save(name+\"_omegadot(o16).png\")"
   ]
  },
  {
   "cell_type": "code",
   "execution_count": 29,
   "metadata": {},
   "outputs": [
    {
     "data": {
      "text/html": [
       "<div>\n",
       "<style scoped>\n",
       "    .dataframe tbody tr th:only-of-type {\n",
       "        vertical-align: middle;\n",
       "    }\n",
       "\n",
       "    .dataframe tbody tr th {\n",
       "        vertical-align: top;\n",
       "    }\n",
       "\n",
       "    .dataframe thead th {\n",
       "        text-align: right;\n",
       "    }\n",
       "</style>\n",
       "<table border=\"1\" class=\"dataframe\">\n",
       "  <thead>\n",
       "    <tr style=\"text-align: right;\">\n",
       "      <th></th>\n",
       "      <th>radius</th>\n",
       "      <th>Hnuc [erg/g/s]</th>\n",
       "      <th>h [erg/g]</th>\n",
       "      <th>tfromp</th>\n",
       "      <th>p0</th>\n",
       "      <th>rho</th>\n",
       "      <th>X(h1)</th>\n",
       "      <th>X(he4)</th>\n",
       "      <th>X(o16)</th>\n",
       "      <th>X(o20)</th>\n",
       "      <th>X(f20)</th>\n",
       "      <th>X(ne20)</th>\n",
       "      <th>X(mg24)</th>\n",
       "      <th>X(al27)</th>\n",
       "      <th>X(si28)</th>\n",
       "      <th>X(p31)</th>\n",
       "      <th>X(s32)</th>\n",
       "    </tr>\n",
       "  </thead>\n",
       "  <tbody>\n",
       "    <tr>\n",
       "      <th>0</th>\n",
       "      <td>1171875.0</td>\n",
       "      <td>5.996968e+10</td>\n",
       "      <td>3.318201e+18</td>\n",
       "      <td>6.753616e+08</td>\n",
       "      <td>7.339735e+27</td>\n",
       "      <td>8.319326e+09</td>\n",
       "      <td>9.896163e-11</td>\n",
       "      <td>6.767372e-15</td>\n",
       "      <td>0.599992</td>\n",
       "      <td>0.389997</td>\n",
       "      <td>2.704791e-09</td>\n",
       "      <td>0.010006</td>\n",
       "      <td>1.175195e-10</td>\n",
       "      <td>8.668112e-11</td>\n",
       "      <td>4.995970e-06</td>\n",
       "      <td>8.310088e-11</td>\n",
       "      <td>1.098132e-10</td>\n",
       "    </tr>\n",
       "    <tr>\n",
       "      <th>1</th>\n",
       "      <td>3515625.0</td>\n",
       "      <td>7.083261e+10</td>\n",
       "      <td>3.319842e+18</td>\n",
       "      <td>7.382075e+08</td>\n",
       "      <td>7.230342e+27</td>\n",
       "      <td>8.188654e+09</td>\n",
       "      <td>9.873312e-11</td>\n",
       "      <td>4.052194e-15</td>\n",
       "      <td>0.599956</td>\n",
       "      <td>0.370272</td>\n",
       "      <td>7.404318e-09</td>\n",
       "      <td>0.029744</td>\n",
       "      <td>1.414339e-10</td>\n",
       "      <td>8.389392e-11</td>\n",
       "      <td>2.756156e-05</td>\n",
       "      <td>7.921163e-11</td>\n",
       "      <td>1.107981e-10</td>\n",
       "    </tr>\n",
       "    <tr>\n",
       "      <th>2</th>\n",
       "      <td>5859375.0</td>\n",
       "      <td>9.372812e+10</td>\n",
       "      <td>3.356157e+18</td>\n",
       "      <td>8.629453e+08</td>\n",
       "      <td>7.015789e+27</td>\n",
       "      <td>7.855433e+09</td>\n",
       "      <td>9.816014e-11</td>\n",
       "      <td>1.938353e-15</td>\n",
       "      <td>0.598857</td>\n",
       "      <td>0.283351</td>\n",
       "      <td>3.649090e-08</td>\n",
       "      <td>0.117065</td>\n",
       "      <td>2.435516e-10</td>\n",
       "      <td>7.610581e-11</td>\n",
       "      <td>7.262482e-04</td>\n",
       "      <td>7.016649e-11</td>\n",
       "      <td>1.121569e-10</td>\n",
       "    </tr>\n",
       "    <tr>\n",
       "      <th>3</th>\n",
       "      <td>8203125.0</td>\n",
       "      <td>7.972904e+10</td>\n",
       "      <td>3.453166e+18</td>\n",
       "      <td>7.984187e+08</td>\n",
       "      <td>6.733141e+27</td>\n",
       "      <td>7.324454e+09</td>\n",
       "      <td>9.851828e-11</td>\n",
       "      <td>3.198879e-15</td>\n",
       "      <td>0.598594</td>\n",
       "      <td>0.089990</td>\n",
       "      <td>5.586428e-08</td>\n",
       "      <td>0.310504</td>\n",
       "      <td>3.680630e-10</td>\n",
       "      <td>8.051994e-11</td>\n",
       "      <td>9.120441e-04</td>\n",
       "      <td>7.607417e-11</td>\n",
       "      <td>1.099343e-10</td>\n",
       "    </tr>\n",
       "    <tr>\n",
       "      <th>4</th>\n",
       "      <td>10546875.0</td>\n",
       "      <td>3.239139e+11</td>\n",
       "      <td>3.461040e+18</td>\n",
       "      <td>4.012615e+08</td>\n",
       "      <td>6.407529e+27</td>\n",
       "      <td>6.952497e+09</td>\n",
       "      <td>9.981321e-11</td>\n",
       "      <td>3.356759e-11</td>\n",
       "      <td>0.600000</td>\n",
       "      <td>0.004863</td>\n",
       "      <td>3.537043e-09</td>\n",
       "      <td>0.395137</td>\n",
       "      <td>4.331261e-10</td>\n",
       "      <td>9.750971e-11</td>\n",
       "      <td>1.181562e-10</td>\n",
       "      <td>9.706862e-11</td>\n",
       "      <td>1.024016e-10</td>\n",
       "    </tr>\n",
       "  </tbody>\n",
       "</table>\n",
       "</div>"
      ],
      "text/plain": [
       "       radius  Hnuc [erg/g/s]     h [erg/g]        tfromp            p0  \\\n",
       "0   1171875.0    5.996968e+10  3.318201e+18  6.753616e+08  7.339735e+27   \n",
       "1   3515625.0    7.083261e+10  3.319842e+18  7.382075e+08  7.230342e+27   \n",
       "2   5859375.0    9.372812e+10  3.356157e+18  8.629453e+08  7.015789e+27   \n",
       "3   8203125.0    7.972904e+10  3.453166e+18  7.984187e+08  6.733141e+27   \n",
       "4  10546875.0    3.239139e+11  3.461040e+18  4.012615e+08  6.407529e+27   \n",
       "\n",
       "            rho         X(h1)        X(he4)    X(o16)    X(o20)        X(f20)  \\\n",
       "0  8.319326e+09  9.896163e-11  6.767372e-15  0.599992  0.389997  2.704791e-09   \n",
       "1  8.188654e+09  9.873312e-11  4.052194e-15  0.599956  0.370272  7.404318e-09   \n",
       "2  7.855433e+09  9.816014e-11  1.938353e-15  0.598857  0.283351  3.649090e-08   \n",
       "3  7.324454e+09  9.851828e-11  3.198879e-15  0.598594  0.089990  5.586428e-08   \n",
       "4  6.952497e+09  9.981321e-11  3.356759e-11  0.600000  0.004863  3.537043e-09   \n",
       "\n",
       "    X(ne20)       X(mg24)       X(al27)       X(si28)        X(p31)  \\\n",
       "0  0.010006  1.175195e-10  8.668112e-11  4.995970e-06  8.310088e-11   \n",
       "1  0.029744  1.414339e-10  8.389392e-11  2.756156e-05  7.921163e-11   \n",
       "2  0.117065  2.435516e-10  7.610581e-11  7.262482e-04  7.016649e-11   \n",
       "3  0.310504  3.680630e-10  8.051994e-11  9.120441e-04  7.607417e-11   \n",
       "4  0.395137  4.331261e-10  9.750971e-11  1.181562e-10  9.706862e-11   \n",
       "\n",
       "         X(s32)  \n",
       "0  1.098132e-10  \n",
       "1  1.107981e-10  \n",
       "2  1.121569e-10  \n",
       "3  1.099343e-10  \n",
       "4  1.024016e-10  "
      ]
     },
     "execution_count": 29,
     "metadata": {},
     "output_type": "execute_result"
    }
   ],
   "source": [
    "to_save.head()"
   ]
  },
  {
   "cell_type": "code",
   "execution_count": 30,
   "metadata": {},
   "outputs": [],
   "source": [
    "to_save.to_csv('/Users/sailor/Desktop/asro_work/test/csv_result/'+name+\".csv\",index = False)"
   ]
  },
  {
   "cell_type": "code",
   "execution_count": null,
   "metadata": {},
   "outputs": [],
   "source": []
  }
 ],
 "metadata": {
  "kernelspec": {
   "display_name": "Python 3",
   "language": "python",
   "name": "python3"
  },
  "language_info": {
   "codemirror_mode": {
    "name": "ipython",
    "version": 3
   },
   "file_extension": ".py",
   "mimetype": "text/x-python",
   "name": "python",
   "nbconvert_exporter": "python",
   "pygments_lexer": "ipython3",
   "version": "3.6.5"
  }
 },
 "nbformat": 4,
 "nbformat_minor": 2
}
