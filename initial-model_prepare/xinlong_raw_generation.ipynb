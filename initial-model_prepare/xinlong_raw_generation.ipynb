{
 "cells": [
  {
   "cell_type": "code",
   "execution_count": 8,
   "metadata": {},
   "outputs": [],
   "source": [
    "import pandas as pd\n",
    "import numpy as np\n",
    "import matplotlib.pyplot as plt\n",
    "import re\n",
    "\n",
    "# Read data from mesa data: \n",
    "a = pd.read_excel('ONe6040_helm_update.xlsx')"
   ]
  },
  {
   "cell_type": "code",
   "execution_count": 9,
   "metadata": {},
   "outputs": [],
   "source": [
    "r_cm = np.array(a[\"radius_cm\"])\n",
    "rho = np.power(10,np.array(a[\"logRho\"]))\n",
    "temp = np.array(a[\"temperature\"])\n",
    "pressure = np.array(a['pressure'])"
   ]
  },
  {
   "cell_type": "code",
   "execution_count": 10,
   "metadata": {},
   "outputs": [],
   "source": [
    "data = pd.DataFrame(columns = ['r_center [cm]'],data = r_cm[::-1])\n",
    "data['density [g/cm3]'] = rho[::-1]\n",
    "data['temperature [K]'] = temp[::-1]\n",
    "data['pressure'] = pressure[::-1]\n",
    "data['neon20'] = 0.4\n",
    "data['oxygen16'] =  0.55\n",
    "data['oxygen20'] =  0.05\n",
    "data['magnesium24'] =  0.0\n",
    "data['fluorine20'] =  0.0\n",
    "data['helium4'] =  0.0\n",
    "data['aluminum27'] = 0.0\n",
    "data['silicon28'] =  0.0\n",
    "data['sulfur32'] = 0.0\n",
    "data['phosphorus31'] = 0.0\n",
    "data['hydrogen1'] =  0.0"
   ]
  },
  {
   "cell_type": "code",
   "execution_count": 11,
   "metadata": {
    "scrolled": true
   },
   "outputs": [
    {
     "data": {
      "text/html": [
       "<div>\n",
       "<style scoped>\n",
       "    .dataframe tbody tr th:only-of-type {\n",
       "        vertical-align: middle;\n",
       "    }\n",
       "\n",
       "    .dataframe tbody tr th {\n",
       "        vertical-align: top;\n",
       "    }\n",
       "\n",
       "    .dataframe thead th {\n",
       "        text-align: right;\n",
       "    }\n",
       "</style>\n",
       "<table border=\"1\" class=\"dataframe\">\n",
       "  <thead>\n",
       "    <tr style=\"text-align: right;\">\n",
       "      <th></th>\n",
       "      <th>r_center [cm]</th>\n",
       "      <th>density [g/cm3]</th>\n",
       "      <th>temperature [K]</th>\n",
       "      <th>pressure</th>\n",
       "      <th>neon20</th>\n",
       "      <th>oxygen16</th>\n",
       "      <th>oxygen20</th>\n",
       "      <th>magnesium24</th>\n",
       "      <th>fluorine20</th>\n",
       "      <th>helium4</th>\n",
       "      <th>aluminum27</th>\n",
       "      <th>silicon28</th>\n",
       "      <th>sulfur32</th>\n",
       "      <th>phosphorus31</th>\n",
       "      <th>hydrogen1</th>\n",
       "    </tr>\n",
       "  </thead>\n",
       "  <tbody>\n",
       "    <tr>\n",
       "      <th>0</th>\n",
       "      <td>4226.946083</td>\n",
       "      <td>8.348568e+09</td>\n",
       "      <td>6.565855e+08</td>\n",
       "      <td>7.367388e+27</td>\n",
       "      <td>0.4</td>\n",
       "      <td>0.55</td>\n",
       "      <td>0.05</td>\n",
       "      <td>0.0</td>\n",
       "      <td>0.0</td>\n",
       "      <td>0.0</td>\n",
       "      <td>0.0</td>\n",
       "      <td>0.0</td>\n",
       "      <td>0.0</td>\n",
       "      <td>0.0</td>\n",
       "      <td>0.0</td>\n",
       "    </tr>\n",
       "    <tr>\n",
       "      <th>1</th>\n",
       "      <td>4384.531853</td>\n",
       "      <td>8.348568e+09</td>\n",
       "      <td>6.565856e+08</td>\n",
       "      <td>7.367388e+27</td>\n",
       "      <td>0.4</td>\n",
       "      <td>0.55</td>\n",
       "      <td>0.05</td>\n",
       "      <td>0.0</td>\n",
       "      <td>0.0</td>\n",
       "      <td>0.0</td>\n",
       "      <td>0.0</td>\n",
       "      <td>0.0</td>\n",
       "      <td>0.0</td>\n",
       "      <td>0.0</td>\n",
       "      <td>0.0</td>\n",
       "    </tr>\n",
       "    <tr>\n",
       "      <th>2</th>\n",
       "      <td>4459.320035</td>\n",
       "      <td>8.348568e+09</td>\n",
       "      <td>6.565856e+08</td>\n",
       "      <td>7.367388e+27</td>\n",
       "      <td>0.4</td>\n",
       "      <td>0.55</td>\n",
       "      <td>0.05</td>\n",
       "      <td>0.0</td>\n",
       "      <td>0.0</td>\n",
       "      <td>0.0</td>\n",
       "      <td>0.0</td>\n",
       "      <td>0.0</td>\n",
       "      <td>0.0</td>\n",
       "      <td>0.0</td>\n",
       "      <td>0.0</td>\n",
       "    </tr>\n",
       "  </tbody>\n",
       "</table>\n",
       "</div>"
      ],
      "text/plain": [
       "   r_center [cm]  density [g/cm3]  temperature [K]      pressure  neon20  \\\n",
       "0    4226.946083     8.348568e+09     6.565855e+08  7.367388e+27     0.4   \n",
       "1    4384.531853     8.348568e+09     6.565856e+08  7.367388e+27     0.4   \n",
       "2    4459.320035     8.348568e+09     6.565856e+08  7.367388e+27     0.4   \n",
       "\n",
       "   oxygen16  oxygen20  magnesium24  fluorine20  helium4  aluminum27  \\\n",
       "0      0.55      0.05          0.0         0.0      0.0         0.0   \n",
       "1      0.55      0.05          0.0         0.0      0.0         0.0   \n",
       "2      0.55      0.05          0.0         0.0      0.0         0.0   \n",
       "\n",
       "   silicon28  sulfur32  phosphorus31  hydrogen1  \n",
       "0        0.0       0.0           0.0        0.0  \n",
       "1        0.0       0.0           0.0        0.0  \n",
       "2        0.0       0.0           0.0        0.0  "
      ]
     },
     "execution_count": 11,
     "metadata": {},
     "output_type": "execute_result"
    }
   ],
   "source": [
    "data.head(3)"
   ]
  },
  {
   "cell_type": "code",
   "execution_count": 12,
   "metadata": {},
   "outputs": [
    {
     "data": {
      "text/plain": [
       "7266059.69601861"
      ]
     },
     "execution_count": 12,
     "metadata": {},
     "output_type": "execute_result"
    }
   ],
   "source": [
    "df_max = data[data['temperature [K]'] == max(data['temperature [K]'])]\n",
    "r0 = float(df_max['r_center [cm]'])\n",
    "r0"
   ]
  },
  {
   "cell_type": "code",
   "execution_count": 35,
   "metadata": {},
   "outputs": [],
   "source": [
    "def generate_shape(maxi, radius, width=5200000000000,co = 0.0000005):\n",
    "    result = maxi*np.exp(-(radius-r0)**2/width)\n",
    "    lr = 0\n",
    "    for i in range(len(radius)):\n",
    "        if radius[i]<=1e6 and radius[i]>lr:\n",
    "            lr = radius[i]\n",
    "            lr_value = result[i]\n",
    "    offset = lr_value-co*lr**2\n",
    "    for i in range(len(radius)):\n",
    "        if radius[i]<=1e6:\n",
    "            result[i]= co*radius[i]**2+offset\n",
    "    return result"
   ]
  },
  {
   "cell_type": "code",
   "execution_count": 36,
   "metadata": {},
   "outputs": [
    {
     "data": {
      "image/png": "[encoded data removed]",
      "text/plain": [
       "<Figure size 432x288 with 1 Axes>"
      ]
     },
     "metadata": {},
     "output_type": "display_data"
    }
   ],
   "source": [
    "#data['temperature [K]'] = max(temp[::-1])*np.exp(-(data['r_center [cm]']**2)/(60000000)**2)\n",
    "data['temperature [K]'] = generate_shape(max(temp[::-1]),data['r_center [cm]'])\n",
    "\n",
    "plt.semilogy(data['r_center [cm]'],data['temperature [K]'],label='initial-model')\n",
    "#plt.plot(df['r_center [cm]'],df['temperature [K]'],':',label='df')\n",
    "#plt.plot(df['r_center [cm]'],df['temp'],':',label='df_temp')\n",
    "#plt.plot(data['r_center [cm]'],dn['temp'],'o:',label='dn')\n",
    "plt.semilogy(r_cm,temp,\":\",label=\"MESA\")\n",
    "plt.xlim(0e6,2e6)\n",
    "plt.ylim(1.e4,11.5e8)\n",
    "plt.grid()\n",
    "plt.xlabel(\"radius [cm]\")\n",
    "plt.ylabel(\"Temperature [K]\")\n",
    "plt.legend()\n",
    "plt.savefig(\"temperature.png\")"
   ]
  },
  {
   "cell_type": "code",
   "execution_count": 37,
   "metadata": {},
   "outputs": [
    {
     "data": {
      "text/html": [
       "<div>\n",
       "<style scoped>\n",
       "    .dataframe tbody tr th:only-of-type {\n",
       "        vertical-align: middle;\n",
       "    }\n",
       "\n",
       "    .dataframe tbody tr th {\n",
       "        vertical-align: top;\n",
       "    }\n",
       "\n",
       "    .dataframe thead th {\n",
       "        text-align: right;\n",
       "    }\n",
       "</style>\n",
       "<table border=\"1\" class=\"dataframe\">\n",
       "  <thead>\n",
       "    <tr style=\"text-align: right;\">\n",
       "      <th></th>\n",
       "      <th>r_center [cm]</th>\n",
       "      <th>density [g/cm3]</th>\n",
       "      <th>temperature [K]</th>\n",
       "      <th>pressure</th>\n",
       "      <th>neon20</th>\n",
       "      <th>oxygen16</th>\n",
       "      <th>oxygen20</th>\n",
       "      <th>magnesium24</th>\n",
       "      <th>fluorine20</th>\n",
       "      <th>helium4</th>\n",
       "      <th>aluminum27</th>\n",
       "      <th>silicon28</th>\n",
       "      <th>sulfur32</th>\n",
       "      <th>phosphorus31</th>\n",
       "      <th>hydrogen1</th>\n",
       "    </tr>\n",
       "  </thead>\n",
       "  <tbody>\n",
       "    <tr>\n",
       "      <th>0</th>\n",
       "      <td>4226.946083</td>\n",
       "      <td>8.348568e+09</td>\n",
       "      <td>1.124422e+09</td>\n",
       "      <td>7.367388e+27</td>\n",
       "      <td>0.4</td>\n",
       "      <td>0.55</td>\n",
       "      <td>0.05</td>\n",
       "      <td>0.0</td>\n",
       "      <td>0.0</td>\n",
       "      <td>0.0</td>\n",
       "      <td>0.0</td>\n",
       "      <td>0.0</td>\n",
       "      <td>0.0</td>\n",
       "      <td>0.0</td>\n",
       "      <td>0.0</td>\n",
       "    </tr>\n",
       "    <tr>\n",
       "      <th>1</th>\n",
       "      <td>4384.531853</td>\n",
       "      <td>8.348568e+09</td>\n",
       "      <td>1.124422e+09</td>\n",
       "      <td>7.367388e+27</td>\n",
       "      <td>0.4</td>\n",
       "      <td>0.55</td>\n",
       "      <td>0.05</td>\n",
       "      <td>0.0</td>\n",
       "      <td>0.0</td>\n",
       "      <td>0.0</td>\n",
       "      <td>0.0</td>\n",
       "      <td>0.0</td>\n",
       "      <td>0.0</td>\n",
       "      <td>0.0</td>\n",
       "      <td>0.0</td>\n",
       "    </tr>\n",
       "    <tr>\n",
       "      <th>2</th>\n",
       "      <td>4459.320035</td>\n",
       "      <td>8.348568e+09</td>\n",
       "      <td>1.124422e+09</td>\n",
       "      <td>7.367388e+27</td>\n",
       "      <td>0.4</td>\n",
       "      <td>0.55</td>\n",
       "      <td>0.05</td>\n",
       "      <td>0.0</td>\n",
       "      <td>0.0</td>\n",
       "      <td>0.0</td>\n",
       "      <td>0.0</td>\n",
       "      <td>0.0</td>\n",
       "      <td>0.0</td>\n",
       "      <td>0.0</td>\n",
       "      <td>0.0</td>\n",
       "    </tr>\n",
       "  </tbody>\n",
       "</table>\n",
       "</div>"
      ],
      "text/plain": [
       "   r_center [cm]  density [g/cm3]  temperature [K]      pressure  neon20  \\\n",
       "0    4226.946083     8.348568e+09     1.124422e+09  7.367388e+27     0.4   \n",
       "1    4384.531853     8.348568e+09     1.124422e+09  7.367388e+27     0.4   \n",
       "2    4459.320035     8.348568e+09     1.124422e+09  7.367388e+27     0.4   \n",
       "\n",
       "   oxygen16  oxygen20  magnesium24  fluorine20  helium4  aluminum27  \\\n",
       "0      0.55      0.05          0.0         0.0      0.0         0.0   \n",
       "1      0.55      0.05          0.0         0.0      0.0         0.0   \n",
       "2      0.55      0.05          0.0         0.0      0.0         0.0   \n",
       "\n",
       "   silicon28  sulfur32  phosphorus31  hydrogen1  \n",
       "0        0.0       0.0           0.0        0.0  \n",
       "1        0.0       0.0           0.0        0.0  \n",
       "2        0.0       0.0           0.0        0.0  "
      ]
     },
     "execution_count": 37,
     "metadata": {},
     "output_type": "execute_result"
    }
   ],
   "source": [
    "data.head(3)"
   ]
  },
  {
   "cell_type": "code",
   "execution_count": 36,
   "metadata": {},
   "outputs": [],
   "source": [
    "f = open(\"xinlong.raw\", \"w\")\n",
    "\n",
    "npts = str(data.shape[0])\n",
    "\n",
    "header = '# npts = '+npts+'\\n# num of variables = 14\\n# density\\n# temperature\\n# pressure\\n# neon-20\\n# oxygen-16\\n# oxygen-20\\n# magnesium-24\\n# fluorine-20\\n# helium-4\\n# aluminum-27\\n# silicon-28\\n# sulfur-32\\n# phosphorus-31\\n# hydrogen-1\\n'\n",
    "f.write(header)\n",
    "\n",
    "for i in range(data.shape[0]):\n",
    "    for j in data.columns:\n",
    "        f.write(str(data[j][i]))\n",
    "        f.write(' ')\n",
    "    f.write('\\n')\n",
    "f.close()"
   ]
  },
  {
   "cell_type": "code",
   "execution_count": 43,
   "metadata": {},
   "outputs": [
    {
     "data": {
      "text/plain": [
       "156250.0"
      ]
     },
     "execution_count": 43,
     "metadata": {},
     "output_type": "execute_result"
    }
   ],
   "source": [
    "4e8/128/2/2/5"
   ]
  },
  {
   "cell_type": "code",
   "execution_count": 45,
   "metadata": {},
   "outputs": [
    {
     "data": {
      "text/plain": [
       "156250.0"
      ]
     },
     "execution_count": 45,
     "metadata": {},
     "output_type": "execute_result"
    }
   ],
   "source": [
    "2e8/1280"
   ]
  },
  {
   "cell_type": "code",
   "execution_count": null,
   "metadata": {},
   "outputs": [],
   "source": []
  }
 ],
 "metadata": {
  "kernelspec": {
   "display_name": "Python 3",
   "language": "python",
   "name": "python3"
  },
  "language_info": {
   "codemirror_mode": {
    "name": "ipython",
    "version": 3
   },
   "file_extension": ".py",
   "mimetype": "text/x-python",
   "name": "python",
   "nbconvert_exporter": "python",
   "pygments_lexer": "ipython3",
   "version": "3.6.5"
  }
 },
 "nbformat": 4,
 "nbformat_minor": 2
}
