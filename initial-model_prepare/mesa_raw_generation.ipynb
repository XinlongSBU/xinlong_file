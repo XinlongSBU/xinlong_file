{
 "cells": [
  {
   "cell_type": "code",
   "execution_count": 5,
   "metadata": {},
   "outputs": [],
   "source": [
    "import pandas as pd\n",
    "import numpy as np\n",
    "import matplotlib.pyplot as plt\n",
    "import re\n",
    "import math\n",
    "\n",
    "# Read data from mesa data: \n",
    "a = pd.read_excel('ONe6040_helm_update.xlsx')"
   ]
  },
  {
   "cell_type": "code",
   "execution_count": 6,
   "metadata": {},
   "outputs": [],
   "source": [
    "r_cm = np.array(a[\"radius_cm\"])\n",
    "rho = np.power(10,np.array(a[\"logRho\"]))\n",
    "temp = np.array(a[\"temperature\"])\n",
    "pressure = np.array(a['pressure'])"
   ]
  },
  {
   "cell_type": "code",
   "execution_count": 7,
   "metadata": {},
   "outputs": [],
   "source": [
    "data = pd.DataFrame(columns = ['r_center [cm]'],data = r_cm[::-1])\n",
    "data['density [g/cm3]'] = rho[::-1]\n",
    "data['temperature [K]'] = temp[::-1]\n",
    "data['pressure'] = pressure[::-1]\n",
    "data['neon20'] = np.array(a['ne20'])[::-1]\n",
    "data['oxygen16'] =  np.array(a['o16'])[::-1]\n",
    "data['oxygen20'] =  np.array(a['o20'])[::-1]\n",
    "data['magnesium24'] =  np.array(a['mg24'])[::-1]\n",
    "data['fluorine20'] =  np.array(a['f20'])[::-1]\n",
    "data['helium4'] =  np.array(a['he4'])[::-1]\n",
    "data['aluminum27'] = 0.0\n",
    "data['silicon28'] =  np.array(a['si28'])[::-1]\n",
    "data['sulfur32'] = 0.0\n",
    "data['phosphorus31'] = 0.0\n",
    "data['hydrogen1'] =  np.array(a['h1'])[::-1]"
   ]
  },
  {
   "cell_type": "code",
   "execution_count": 8,
   "metadata": {
    "scrolled": true
   },
   "outputs": [
    {
     "data": {
      "text/html": [
       "<div>\n",
       "<style scoped>\n",
       "    .dataframe tbody tr th:only-of-type {\n",
       "        vertical-align: middle;\n",
       "    }\n",
       "\n",
       "    .dataframe tbody tr th {\n",
       "        vertical-align: top;\n",
       "    }\n",
       "\n",
       "    .dataframe thead th {\n",
       "        text-align: right;\n",
       "    }\n",
       "</style>\n",
       "<table border=\"1\" class=\"dataframe\">\n",
       "  <thead>\n",
       "    <tr style=\"text-align: right;\">\n",
       "      <th></th>\n",
       "      <th>r_center [cm]</th>\n",
       "      <th>density [g/cm3]</th>\n",
       "      <th>temperature [K]</th>\n",
       "      <th>pressure</th>\n",
       "      <th>neon20</th>\n",
       "      <th>oxygen16</th>\n",
       "      <th>oxygen20</th>\n",
       "      <th>magnesium24</th>\n",
       "      <th>fluorine20</th>\n",
       "      <th>helium4</th>\n",
       "      <th>aluminum27</th>\n",
       "      <th>silicon28</th>\n",
       "      <th>sulfur32</th>\n",
       "      <th>phosphorus31</th>\n",
       "      <th>hydrogen1</th>\n",
       "    </tr>\n",
       "  </thead>\n",
       "  <tbody>\n",
       "    <tr>\n",
       "      <th>0</th>\n",
       "      <td>4226.946083</td>\n",
       "      <td>8.348568e+09</td>\n",
       "      <td>6.565855e+08</td>\n",
       "      <td>7.367388e+27</td>\n",
       "      <td>0.007297</td>\n",
       "      <td>0.599994</td>\n",
       "      <td>0.392705</td>\n",
       "      <td>4.964879e-16</td>\n",
       "      <td>2.021100e-09</td>\n",
       "      <td>8.924793e-23</td>\n",
       "      <td>0.0</td>\n",
       "      <td>0.000004</td>\n",
       "      <td>0.0</td>\n",
       "      <td>0.0</td>\n",
       "      <td>0.0</td>\n",
       "    </tr>\n",
       "    <tr>\n",
       "      <th>1</th>\n",
       "      <td>4384.531853</td>\n",
       "      <td>8.348568e+09</td>\n",
       "      <td>6.565856e+08</td>\n",
       "      <td>7.367388e+27</td>\n",
       "      <td>0.007297</td>\n",
       "      <td>0.599994</td>\n",
       "      <td>0.392705</td>\n",
       "      <td>4.964889e-16</td>\n",
       "      <td>2.021100e-09</td>\n",
       "      <td>8.924807e-23</td>\n",
       "      <td>0.0</td>\n",
       "      <td>0.000004</td>\n",
       "      <td>0.0</td>\n",
       "      <td>0.0</td>\n",
       "      <td>0.0</td>\n",
       "    </tr>\n",
       "    <tr>\n",
       "      <th>2</th>\n",
       "      <td>4459.320035</td>\n",
       "      <td>8.348568e+09</td>\n",
       "      <td>6.565856e+08</td>\n",
       "      <td>7.367388e+27</td>\n",
       "      <td>0.007297</td>\n",
       "      <td>0.599994</td>\n",
       "      <td>0.392705</td>\n",
       "      <td>4.964890e-16</td>\n",
       "      <td>2.021100e-09</td>\n",
       "      <td>8.924809e-23</td>\n",
       "      <td>0.0</td>\n",
       "      <td>0.000004</td>\n",
       "      <td>0.0</td>\n",
       "      <td>0.0</td>\n",
       "      <td>0.0</td>\n",
       "    </tr>\n",
       "  </tbody>\n",
       "</table>\n",
       "</div>"
      ],
      "text/plain": [
       "   r_center [cm]  density [g/cm3]  temperature [K]      pressure    neon20  \\\n",
       "0    4226.946083     8.348568e+09     6.565855e+08  7.367388e+27  0.007297   \n",
       "1    4384.531853     8.348568e+09     6.565856e+08  7.367388e+27  0.007297   \n",
       "2    4459.320035     8.348568e+09     6.565856e+08  7.367388e+27  0.007297   \n",
       "\n",
       "   oxygen16  oxygen20   magnesium24    fluorine20       helium4  aluminum27  \\\n",
       "0  0.599994  0.392705  4.964879e-16  2.021100e-09  8.924793e-23         0.0   \n",
       "1  0.599994  0.392705  4.964889e-16  2.021100e-09  8.924807e-23         0.0   \n",
       "2  0.599994  0.392705  4.964890e-16  2.021100e-09  8.924809e-23         0.0   \n",
       "\n",
       "   silicon28  sulfur32  phosphorus31  hydrogen1  \n",
       "0   0.000004       0.0           0.0        0.0  \n",
       "1   0.000004       0.0           0.0        0.0  \n",
       "2   0.000004       0.0           0.0        0.0  "
      ]
     },
     "execution_count": 8,
     "metadata": {},
     "output_type": "execute_result"
    }
   ],
   "source": [
    "data.head(3)"
   ]
  },
  {
   "cell_type": "code",
   "execution_count": 9,
   "metadata": {},
   "outputs": [],
   "source": [
    "f = open(\"mesa.raw\", \"w\")\n",
    "\n",
    "npts = str(data.shape[0])\n",
    "\n",
    "header = '# npts = '+npts+'\\n# num of variables = 14\\n# density\\n# temperature\\n# pressure\\n# neon-20\\n# oxygen-16\\n# oxygen-20\\n# magnesium-24\\n# fluorine-20\\n# helium-4\\n# aluminum-27\\n# silicon-28\\n# sulfur-32\\n# phosphorus-31\\n# hydrogen-1\\n'\n",
    "f.write(header)\n",
    "\n",
    "for i in range(data.shape[0]):\n",
    "    for j in data.columns:\n",
    "        f.write(str(data[j][i]))\n",
    "        f.write(' ')\n",
    "    f.write('\\n')\n",
    "f.close()"
   ]
  },
  {
   "cell_type": "code",
   "execution_count": null,
   "metadata": {},
   "outputs": [],
   "source": []
  }
 ],
 "metadata": {
  "kernelspec": {
   "display_name": "Python 3",
   "language": "python",
   "name": "python3"
  },
  "language_info": {
   "codemirror_mode": {
    "name": "ipython",
    "version": 3
   },
   "file_extension": ".py",
   "mimetype": "text/x-python",
   "name": "python",
   "nbconvert_exporter": "python",
   "pygments_lexer": "ipython3",
   "version": "3.6.5"
  }
 },
 "nbformat": 4,
 "nbformat_minor": 2
}
