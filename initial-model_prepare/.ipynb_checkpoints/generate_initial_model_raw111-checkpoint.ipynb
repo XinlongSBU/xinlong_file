{
 "cells": [
  {
   "cell_type": "code",
   "execution_count": 17,
   "metadata": {
    "scrolled": true
   },
   "outputs": [
    {
     "data": {
      "text/html": [
       "<div>\n",
       "<style scoped>\n",
       "    .dataframe tbody tr th:only-of-type {\n",
       "        vertical-align: middle;\n",
       "    }\n",
       "\n",
       "    .dataframe tbody tr th {\n",
       "        vertical-align: top;\n",
       "    }\n",
       "\n",
       "    .dataframe thead th {\n",
       "        text-align: right;\n",
       "    }\n",
       "</style>\n",
       "<table border=\"1\" class=\"dataframe\">\n",
       "  <thead>\n",
       "    <tr style=\"text-align: right;\">\n",
       "      <th></th>\n",
       "      <th>radius</th>\n",
       "      <th>density</th>\n",
       "      <th>temperature</th>\n",
       "      <th>pressure</th>\n",
       "      <th>ne20</th>\n",
       "      <th>o16</th>\n",
       "      <th>o20</th>\n",
       "      <th>mg24</th>\n",
       "      <th>f29</th>\n",
       "      <th>he4</th>\n",
       "      <th>al27</th>\n",
       "      <th>si28</th>\n",
       "      <th>s32</th>\n",
       "      <th>p31</th>\n",
       "      <th>h1</th>\n",
       "    </tr>\n",
       "  </thead>\n",
       "  <tbody>\n",
       "    <tr>\n",
       "      <th>0</th>\n",
       "      <td>24414.0625</td>\n",
       "      <td>8.348562e+09</td>\n",
       "      <td>6.565888e+08</td>\n",
       "      <td>7.367384e+27</td>\n",
       "      <td>0.007297</td>\n",
       "      <td>0.599995</td>\n",
       "      <td>0.392705</td>\n",
       "      <td>1.000000e-10</td>\n",
       "      <td>2.021225e-09</td>\n",
       "      <td>1.000000e-10</td>\n",
       "      <td>1.000000e-10</td>\n",
       "      <td>0.000004</td>\n",
       "      <td>1.000000e-10</td>\n",
       "      <td>1.000000e-10</td>\n",
       "      <td>1.000000e-10</td>\n",
       "    </tr>\n",
       "    <tr>\n",
       "      <th>1</th>\n",
       "      <td>73242.1875</td>\n",
       "      <td>8.348514e+09</td>\n",
       "      <td>6.566158e+08</td>\n",
       "      <td>7.367337e+27</td>\n",
       "      <td>0.007301</td>\n",
       "      <td>0.599995</td>\n",
       "      <td>0.392701</td>\n",
       "      <td>1.000000e-10</td>\n",
       "      <td>2.022241e-09</td>\n",
       "      <td>1.000000e-10</td>\n",
       "      <td>1.000000e-10</td>\n",
       "      <td>0.000004</td>\n",
       "      <td>1.000000e-10</td>\n",
       "      <td>1.000000e-10</td>\n",
       "      <td>1.000000e-10</td>\n",
       "    </tr>\n",
       "    <tr>\n",
       "      <th>2</th>\n",
       "      <td>122070.3125</td>\n",
       "      <td>8.348418e+09</td>\n",
       "      <td>6.566697e+08</td>\n",
       "      <td>7.367244e+27</td>\n",
       "      <td>0.007309</td>\n",
       "      <td>0.599995</td>\n",
       "      <td>0.392693</td>\n",
       "      <td>1.000000e-10</td>\n",
       "      <td>2.024275e-09</td>\n",
       "      <td>1.000000e-10</td>\n",
       "      <td>1.000000e-10</td>\n",
       "      <td>0.000004</td>\n",
       "      <td>1.000000e-10</td>\n",
       "      <td>1.000000e-10</td>\n",
       "      <td>1.000000e-10</td>\n",
       "    </tr>\n",
       "    <tr>\n",
       "      <th>3</th>\n",
       "      <td>170898.4375</td>\n",
       "      <td>8.348275e+09</td>\n",
       "      <td>6.567506e+08</td>\n",
       "      <td>7.367105e+27</td>\n",
       "      <td>0.007321</td>\n",
       "      <td>0.599995</td>\n",
       "      <td>0.392681</td>\n",
       "      <td>1.000000e-10</td>\n",
       "      <td>2.027329e-09</td>\n",
       "      <td>1.000000e-10</td>\n",
       "      <td>1.000000e-10</td>\n",
       "      <td>0.000004</td>\n",
       "      <td>1.000000e-10</td>\n",
       "      <td>1.000000e-10</td>\n",
       "      <td>1.000000e-10</td>\n",
       "    </tr>\n",
       "    <tr>\n",
       "      <th>4</th>\n",
       "      <td>219726.5625</td>\n",
       "      <td>8.348083e+09</td>\n",
       "      <td>6.568585e+08</td>\n",
       "      <td>7.366919e+27</td>\n",
       "      <td>0.007337</td>\n",
       "      <td>0.599995</td>\n",
       "      <td>0.392665</td>\n",
       "      <td>1.000000e-10</td>\n",
       "      <td>2.031405e-09</td>\n",
       "      <td>1.000000e-10</td>\n",
       "      <td>1.000000e-10</td>\n",
       "      <td>0.000004</td>\n",
       "      <td>1.000000e-10</td>\n",
       "      <td>1.000000e-10</td>\n",
       "      <td>1.000000e-10</td>\n",
       "    </tr>\n",
       "  </tbody>\n",
       "</table>\n",
       "</div>"
      ],
      "text/plain": [
       "        radius       density   temperature      pressure      ne20       o16  \\\n",
       "0   24414.0625  8.348562e+09  6.565888e+08  7.367384e+27  0.007297  0.599995   \n",
       "1   73242.1875  8.348514e+09  6.566158e+08  7.367337e+27  0.007301  0.599995   \n",
       "2  122070.3125  8.348418e+09  6.566697e+08  7.367244e+27  0.007309  0.599995   \n",
       "3  170898.4375  8.348275e+09  6.567506e+08  7.367105e+27  0.007321  0.599995   \n",
       "4  219726.5625  8.348083e+09  6.568585e+08  7.366919e+27  0.007337  0.599995   \n",
       "\n",
       "        o20          mg24           f29           he4          al27      si28  \\\n",
       "0  0.392705  1.000000e-10  2.021225e-09  1.000000e-10  1.000000e-10  0.000004   \n",
       "1  0.392701  1.000000e-10  2.022241e-09  1.000000e-10  1.000000e-10  0.000004   \n",
       "2  0.392693  1.000000e-10  2.024275e-09  1.000000e-10  1.000000e-10  0.000004   \n",
       "3  0.392681  1.000000e-10  2.027329e-09  1.000000e-10  1.000000e-10  0.000004   \n",
       "4  0.392665  1.000000e-10  2.031405e-09  1.000000e-10  1.000000e-10  0.000004   \n",
       "\n",
       "            s32           p31            h1  \n",
       "0  1.000000e-10  1.000000e-10  1.000000e-10  \n",
       "1  1.000000e-10  1.000000e-10  1.000000e-10  \n",
       "2  1.000000e-10  1.000000e-10  1.000000e-10  \n",
       "3  1.000000e-10  1.000000e-10  1.000000e-10  \n",
       "4  1.000000e-10  1.000000e-10  1.000000e-10  "
      ]
     },
     "execution_count": 17,
     "metadata": {},
     "output_type": "execute_result"
    }
   ],
   "source": [
    "import pandas as pd\n",
    "import numpy as np\n",
    "import matplotlib.pyplot as plt\n",
    "import re\n",
    "\n",
    "# Read data from mesa data: \n",
    "a = pd.read_excel(\"ONe6040_helm_update.xlsx\")\n",
    "\n",
    "# Read data after the initial module\n",
    "f = open(\"kepler_xinlong_ONe6040-final.hse.5120\",\"r\")\n",
    "data = f.readlines()  # data is a list. each element is a line of \"23Ne...dat\"\n",
    "f.close()\n",
    "del data[0:16]\n",
    "\n",
    "data2d = []\n",
    "for i in range(len(data)):\n",
    "    data2d.append(re.split(r\"[ ]\",data[i].strip('\\n')))\n",
    "\n",
    "for i in range(len(data2d)):\n",
    "        while '' in data2d[i]:\n",
    "            data2d[i].remove('')\n",
    "\n",
    "for i in range(len(data2d)-1,-1,-1):\n",
    "    if len(data2d[i]) == 3:\n",
    "        data2d.pop(i)\n",
    "        #ll.append(i)\n",
    "        i+=1\n",
    "    else:\n",
    "        data2d[i].append('0.9999999989999999E-10')\n",
    "        data2d[i].append('0.9999999989999999E-10')\n",
    "        data2d[i].append('0.9999999989999999E-10')\n",
    "        #data2d[i].append('0.9999999989999999E-10')\n",
    "        #mm.append(i)\n",
    "\n",
    "data3d = np.array(data2d).astype(np.float)\n",
    "\n",
    "df = pd.DataFrame(data3d)\n",
    "df.columns = ['radius','density','temperature','pressure','ne20','o16','o20','mg24','f29','he4','al27','si28','s32','p31','h1']\n",
    "df.head()"
   ]
  },
  {
   "cell_type": "code",
   "execution_count": 18,
   "metadata": {},
   "outputs": [
    {
     "data": {
      "text/html": [
       "<div>\n",
       "<style scoped>\n",
       "    .dataframe tbody tr th:only-of-type {\n",
       "        vertical-align: middle;\n",
       "    }\n",
       "\n",
       "    .dataframe tbody tr th {\n",
       "        vertical-align: top;\n",
       "    }\n",
       "\n",
       "    .dataframe thead th {\n",
       "        text-align: right;\n",
       "    }\n",
       "</style>\n",
       "<table border=\"1\" class=\"dataframe\">\n",
       "  <thead>\n",
       "    <tr style=\"text-align: right;\">\n",
       "      <th></th>\n",
       "      <th>zone</th>\n",
       "      <th>logT</th>\n",
       "      <th>logRho</th>\n",
       "      <th>logP</th>\n",
       "      <th>logR</th>\n",
       "      <th>luminosity</th>\n",
       "      <th>conv_vel</th>\n",
       "      <th>grav</th>\n",
       "      <th>eps_grav</th>\n",
       "      <th>log_abs_eps_grav_dm_div_L</th>\n",
       "      <th>...</th>\n",
       "      <th>delta_T</th>\n",
       "      <th>delta_rho</th>\n",
       "      <th>delta_eps_nuc</th>\n",
       "      <th>delta_mu</th>\n",
       "      <th>nz_minus_k</th>\n",
       "      <th>eps_nuc_mc2</th>\n",
       "      <th>eps_nuc_neu</th>\n",
       "      <th>eps_nuc_eos</th>\n",
       "      <th>log_rate_r_n20_wk_f20</th>\n",
       "      <th>log_rate_r1616</th>\n",
       "    </tr>\n",
       "  </thead>\n",
       "  <tbody>\n",
       "    <tr>\n",
       "      <th>0</th>\n",
       "      <td>1</td>\n",
       "      <td>6.448874</td>\n",
       "      <td>-2.049883</td>\n",
       "      <td>12.115357</td>\n",
       "      <td>-2.672968</td>\n",
       "      <td>722.982911</td>\n",
       "      <td>0.0</td>\n",
       "      <td>8.463004e+09</td>\n",
       "      <td>3.437780e+13</td>\n",
       "      <td>-3.174277</td>\n",
       "      <td>...</td>\n",
       "      <td>20.066670</td>\n",
       "      <td>1.089847e-09</td>\n",
       "      <td>1.737045e-198</td>\n",
       "      <td>-3.087866e-08</td>\n",
       "      <td>1901</td>\n",
       "      <td>2.615704e-195</td>\n",
       "      <td>0.0</td>\n",
       "      <td>-6.463711e-210</td>\n",
       "      <td>-99.0</td>\n",
       "      <td>-99.0</td>\n",
       "    </tr>\n",
       "    <tr>\n",
       "      <th>1</th>\n",
       "      <td>2</td>\n",
       "      <td>6.541615</td>\n",
       "      <td>-1.786732</td>\n",
       "      <td>12.473212</td>\n",
       "      <td>-2.673033</td>\n",
       "      <td>722.498905</td>\n",
       "      <td>0.0</td>\n",
       "      <td>8.465537e+09</td>\n",
       "      <td>4.310480e+13</td>\n",
       "      <td>-3.075739</td>\n",
       "      <td>...</td>\n",
       "      <td>18.514640</td>\n",
       "      <td>-3.419231e-08</td>\n",
       "      <td>4.847296e-190</td>\n",
       "      <td>-1.520606e-08</td>\n",
       "      <td>1900</td>\n",
       "      <td>1.057621e-186</td>\n",
       "      <td>0.0</td>\n",
       "      <td>-2.449538e-201</td>\n",
       "      <td>-99.0</td>\n",
       "      <td>-99.0</td>\n",
       "    </tr>\n",
       "    <tr>\n",
       "      <th>2</th>\n",
       "      <td>3</td>\n",
       "      <td>6.582567</td>\n",
       "      <td>-1.629925</td>\n",
       "      <td>12.666756</td>\n",
       "      <td>-2.673069</td>\n",
       "      <td>721.892031</td>\n",
       "      <td>0.0</td>\n",
       "      <td>8.466919e+09</td>\n",
       "      <td>4.440637e+13</td>\n",
       "      <td>-3.062454</td>\n",
       "      <td>...</td>\n",
       "      <td>18.388760</td>\n",
       "      <td>-5.938884e-08</td>\n",
       "      <td>1.925168e-186</td>\n",
       "      <td>-1.321616e-08</td>\n",
       "      <td>1899</td>\n",
       "      <td>4.806687e-183</td>\n",
       "      <td>0.0</td>\n",
       "      <td>-1.170552e-197</td>\n",
       "      <td>-99.0</td>\n",
       "      <td>-99.0</td>\n",
       "    </tr>\n",
       "    <tr>\n",
       "      <th>3</th>\n",
       "      <td>4</td>\n",
       "      <td>6.609359</td>\n",
       "      <td>-1.519802</td>\n",
       "      <td>12.800191</td>\n",
       "      <td>-2.673093</td>\n",
       "      <td>721.266833</td>\n",
       "      <td>0.0</td>\n",
       "      <td>8.467883e+09</td>\n",
       "      <td>3.698882e+13</td>\n",
       "      <td>-3.141453</td>\n",
       "      <td>...</td>\n",
       "      <td>18.750679</td>\n",
       "      <td>-8.333518e-08</td>\n",
       "      <td>3.965955e-184</td>\n",
       "      <td>-1.279658e-08</td>\n",
       "      <td>1898</td>\n",
       "      <td>1.055797e-180</td>\n",
       "      <td>0.0</td>\n",
       "      <td>-2.140439e-195</td>\n",
       "      <td>-99.0</td>\n",
       "      <td>-99.0</td>\n",
       "    </tr>\n",
       "    <tr>\n",
       "      <th>4</th>\n",
       "      <td>5</td>\n",
       "      <td>6.629340</td>\n",
       "      <td>-1.435086</td>\n",
       "      <td>12.902136</td>\n",
       "      <td>-2.673113</td>\n",
       "      <td>720.746066</td>\n",
       "      <td>0.0</td>\n",
       "      <td>8.468631e+09</td>\n",
       "      <td>3.128806e+13</td>\n",
       "      <td>-3.213831</td>\n",
       "      <td>...</td>\n",
       "      <td>19.206350</td>\n",
       "      <td>-1.060787e-07</td>\n",
       "      <td>2.000535e-182</td>\n",
       "      <td>-1.280010e-08</td>\n",
       "      <td>1897</td>\n",
       "      <td>5.533502e-179</td>\n",
       "      <td>0.0</td>\n",
       "      <td>-1.232893e-193</td>\n",
       "      <td>-99.0</td>\n",
       "      <td>-99.0</td>\n",
       "    </tr>\n",
       "  </tbody>\n",
       "</table>\n",
       "<p>5 rows × 148 columns</p>\n",
       "</div>"
      ],
      "text/plain": [
       "   zone      logT    logRho       logP      logR  luminosity  conv_vel  \\\n",
       "0     1  6.448874 -2.049883  12.115357 -2.672968  722.982911       0.0   \n",
       "1     2  6.541615 -1.786732  12.473212 -2.673033  722.498905       0.0   \n",
       "2     3  6.582567 -1.629925  12.666756 -2.673069  721.892031       0.0   \n",
       "3     4  6.609359 -1.519802  12.800191 -2.673093  721.266833       0.0   \n",
       "4     5  6.629340 -1.435086  12.902136 -2.673113  720.746066       0.0   \n",
       "\n",
       "           grav      eps_grav  log_abs_eps_grav_dm_div_L       ...        \\\n",
       "0  8.463004e+09  3.437780e+13                  -3.174277       ...         \n",
       "1  8.465537e+09  4.310480e+13                  -3.075739       ...         \n",
       "2  8.466919e+09  4.440637e+13                  -3.062454       ...         \n",
       "3  8.467883e+09  3.698882e+13                  -3.141453       ...         \n",
       "4  8.468631e+09  3.128806e+13                  -3.213831       ...         \n",
       "\n",
       "     delta_T     delta_rho  delta_eps_nuc      delta_mu  nz_minus_k  \\\n",
       "0  20.066670  1.089847e-09  1.737045e-198 -3.087866e-08        1901   \n",
       "1  18.514640 -3.419231e-08  4.847296e-190 -1.520606e-08        1900   \n",
       "2  18.388760 -5.938884e-08  1.925168e-186 -1.321616e-08        1899   \n",
       "3  18.750679 -8.333518e-08  3.965955e-184 -1.279658e-08        1898   \n",
       "4  19.206350 -1.060787e-07  2.000535e-182 -1.280010e-08        1897   \n",
       "\n",
       "     eps_nuc_mc2  eps_nuc_neu    eps_nuc_eos  log_rate_r_n20_wk_f20  \\\n",
       "0  2.615704e-195          0.0 -6.463711e-210                  -99.0   \n",
       "1  1.057621e-186          0.0 -2.449538e-201                  -99.0   \n",
       "2  4.806687e-183          0.0 -1.170552e-197                  -99.0   \n",
       "3  1.055797e-180          0.0 -2.140439e-195                  -99.0   \n",
       "4  5.533502e-179          0.0 -1.232893e-193                  -99.0   \n",
       "\n",
       "   log_rate_r1616  \n",
       "0           -99.0  \n",
       "1           -99.0  \n",
       "2           -99.0  \n",
       "3           -99.0  \n",
       "4           -99.0  \n",
       "\n",
       "[5 rows x 148 columns]"
      ]
     },
     "execution_count": 18,
     "metadata": {},
     "output_type": "execute_result"
    }
   ],
   "source": [
    "a.head()"
   ]
  },
  {
   "cell_type": "code",
   "execution_count": 19,
   "metadata": {
    "scrolled": false
   },
   "outputs": [
    {
     "data": {
      "image/png": "[encoded data removed]",
      "text/plain": [
       "<Figure size 432x288 with 1 Axes>"
      ]
     },
     "metadata": {},
     "output_type": "display_data"
    }
   ],
   "source": [
    "r_sun = 6.955e10  # cm\n",
    "m_sun = 1.989e33  # gram\n",
    "radius = np.array(a[\"radius\"])\n",
    "R = np.power(10,np.array(a[\"logR\"]))\n",
    "r_cm = np.array(a[\"radius_cm\"])\n",
    "\n",
    "r_interp = np.linspace(radius[-1], radius[0], 2000)\n",
    "\n",
    "plt.plot(radius*r_sun, label='radius')\n",
    "plt.plot(R*r_sun, label='R')\n",
    "plt.plot(r_cm, label='r_cm')\n",
    "plt.plot(r_interp*r_sun, label='r_interp')\n",
    "\n",
    "\n",
    "plt.plot(np.array(df['radius']), label='IM')\n",
    "\n",
    "\n",
    "plt.legend()\n",
    "plt.xlabel(\"\")\n",
    "plt.ylabel(\"radius [R_sun]\")\n",
    "plt.grid()\n",
    "plt.show()"
   ]
  },
  {
   "cell_type": "code",
   "execution_count": 20,
   "metadata": {
    "scrolled": true
   },
   "outputs": [
    {
     "data": {
      "image/png": "[encoded data removed]",
      "text/plain": [
       "<Figure size 432x288 with 1 Axes>"
      ]
     },
     "metadata": {},
     "output_type": "display_data"
    }
   ],
   "source": [
    "temp = np.array(a[\"temperature\"])\n",
    "T = np.power(10,np.array(a[\"logT\"]))\n",
    "\n",
    "T_interp = np.interp(r_interp, radius[::-1], temp[::-1])\n",
    "\n",
    "plt.plot(radius*r_sun,temp,label='mesa')\n",
    "#plt.plot(R*r_sun,T,\":\")\n",
    "#plt.plot(r_interp*r_sun,T_interp)\n",
    "\n",
    "plt.plot(np.array(df['radius']),np.array(df['temperature']),label='IM')\n",
    "\n",
    "plt.xlabel(\"radius [cm]\")\n",
    "plt.ylabel(\"temperature [K]\")\n",
    "\n",
    "#plt.xlim(0,1000000)\n",
    "\n",
    "\n",
    "plt.grid()\n",
    "plt.legend()\n",
    "plt.show()"
   ]
  },
  {
   "cell_type": "code",
   "execution_count": 21,
   "metadata": {},
   "outputs": [
    {
     "data": {
      "image/png": "[encoded data removed]",
      "text/plain": [
       "<Figure size 432x288 with 1 Axes>"
      ]
     },
     "metadata": {},
     "output_type": "display_data"
    }
   ],
   "source": [
    "temp = np.array(a[\"temperature\"])\n",
    "T = np.power(10,np.array(a[\"logT\"]))\n",
    "\n",
    "T_interp = np.interp(r_interp, radius[::-1], temp[::-1])\n",
    "\n",
    "plt.semilogy(radius*r_sun,temp,label='mesa')\n",
    "#plt.semilogy(R*r_sun,T,\":\")\n",
    "#plt.semilogy(r_interp,T_interp)\n",
    "\n",
    "plt.semilogy(np.array(df['radius']),np.array(df['temperature']),label='hse')\n",
    "\n",
    "plt.xlabel(\"radius [cm]\")\n",
    "plt.ylabel(\"temperature [K]\")\n",
    "plt.legend()\n",
    "plt.grid()\n",
    "#plt.show()\n",
    "plt.savefig(\"temp_initial model\")"
   ]
  },
  {
   "cell_type": "code",
   "execution_count": 22,
   "metadata": {},
   "outputs": [
    {
     "data": {
      "image/png": "[encoded data removed]",
      "text/plain": [
       "<Figure size 432x288 with 1 Axes>"
      ]
     },
     "metadata": {},
     "output_type": "display_data"
    }
   ],
   "source": [
    "mass = np.array(a['mass'])\n",
    "dm = np.array(a['dm'])\n",
    "M = (np.add.accumulate(dm[::-1]))[::-1]\n",
    "#rho = np.power(10,np.array(a[\"logRho\"]))\n",
    "\n",
    "m_interp = np.interp(r_interp, radius[::-1], mass[::-1])\n",
    "\n",
    "plt.plot(R,mass*m_sun)\n",
    "#plt.plot(R,dm)\n",
    "plt.plot(R,M)\n",
    "plt.plot(r_interp,m_interp*m_sun)\n",
    "plt.xlabel(\"radius [R_sun]\")\n",
    "plt.ylabel(\"mass [g]\")\n",
    "plt.grid()\n",
    "plt.show()"
   ]
  },
  {
   "cell_type": "code",
   "execution_count": 23,
   "metadata": {},
   "outputs": [
    {
     "data": {
      "image/png": "[encoded data removed]",
      "text/plain": [
       "<Figure size 432x288 with 1 Axes>"
      ]
     },
     "metadata": {},
     "output_type": "display_data"
    }
   ],
   "source": [
    "pressure = np.array(a['pressure'])\n",
    "P = np.power(10,np.array(a[\"logP\"]))\n",
    "\n",
    "p_interp = np.interp(r_interp, radius[::-1], pressure[::-1])\n",
    "\n",
    "plt.plot(R*r_sun,pressure,label='mesa')\n",
    "plt.plot(R*r_sun,P)\n",
    "plt.plot(r_interp*r_sun,p_interp)\n",
    "\n",
    "plt.plot(np.array(df['radius']),np.array(df['pressure']),label='hse')\n",
    "\n",
    "plt.xlabel(\"radius [cm]\")\n",
    "plt.ylabel(\"pressure [Pa]\")\n",
    "\n",
    "#plt.xlim(0,1000000)\n",
    "#plt.ylim(7e27,9e27)\n",
    "plt.legend()\n",
    "plt.grid()\n",
    "#plt.show()\n",
    "plt.savefig(\"pressure_initial_model\")"
   ]
  },
  {
   "cell_type": "code",
   "execution_count": 24,
   "metadata": {},
   "outputs": [
    {
     "data": {
      "image/png": "[encoded data removed]",
      "text/plain": [
       "<Figure size 432x288 with 1 Axes>"
      ]
     },
     "metadata": {},
     "output_type": "display_data"
    }
   ],
   "source": [
    "pressure = np.array(a['pressure'])\n",
    "P = np.power(10,np.array(a[\"logP\"]))\n",
    "\n",
    "p_interp = np.interp(r_interp, radius[::-1], pressure[::-1])\n",
    "\n",
    "plt.semilogy(R*r_sun,pressure,label='mesa')\n",
    "#plt.semilogy(R*r_sun,P)\n",
    "#plt.semilogy(r_interp*r_sun,p_interp)\n",
    "\n",
    "plt.semilogy(np.array(df['radius']),np.array(df['pressure']),label='hse')\n",
    "\n",
    "plt.xlabel(\"radius [cm]\")\n",
    "plt.ylabel(\"pressure [Pa]\")\n",
    "plt.legend()\n",
    "plt.ylim(5e20,2e28)\n",
    "plt.grid()\n",
    "plt.show()"
   ]
  },
  {
   "cell_type": "code",
   "execution_count": 26,
   "metadata": {},
   "outputs": [
    {
     "data": {
      "image/png": "[encoded data removed]",
      "text/plain": [
       "<Figure size 432x288 with 1 Axes>"
      ]
     },
     "metadata": {},
     "output_type": "display_data"
    }
   ],
   "source": [
    "rho = np.power(10,np.array(a[\"logRho\"]))\n",
    "\n",
    "vol = []\n",
    "r1 = r_cm[::-1]\n",
    "vol.append(4/3*np.pi*r1[0]*r1[0]*r1[0])\n",
    "\n",
    "for i in range(1, r1.shape[0]):\n",
    "    vol.append(4/3*np.pi*r1[i]*r1[i]*r1[i]-4/3*np.pi*r1[i-1]*r1[i-1]*r1[i-1])\n",
    "\n",
    "dv = dm/rho\n",
    "\n",
    "#plt.plot(radius,dv)\n",
    "#plt.plot(radius,vol[::-1])\n",
    "plt.plot(radius*r_sun,rho,label='mesa')\n",
    "\n",
    "plt.plot(np.array(df['radius']),np.array(df['density']),label='hse')\n",
    "\n",
    "plt.xlabel(\"radius [cm]\")\n",
    "plt.ylabel(\"density [g/cm3]\")\n",
    "plt.legend()\n",
    "plt.grid()\n",
    "#plt.show()\n",
    "plt.savefig(\"density_initial_model.png\")"
   ]
  },
  {
   "cell_type": "code",
   "execution_count": 10,
   "metadata": {},
   "outputs": [
    {
     "data": {
      "image/png": "[encoded data removed]",
      "text/plain": [
       "<Figure size 432x288 with 1 Axes>"
      ]
     },
     "metadata": {},
     "output_type": "display_data"
    }
   ],
   "source": [
    "plt.semilogy(radius*r_sun,rho,label='mesa')\n",
    "\n",
    "plt.semilogy(np.array(df['radius']),np.array(df['density']),label='hse')\n",
    "\n",
    "plt.xlabel(\"radius [cm]\")\n",
    "plt.ylabel(\"density [g/cm3]\")\n",
    "plt.grid()\n",
    "plt.show()"
   ]
  },
  {
   "cell_type": "code",
   "execution_count": 11,
   "metadata": {},
   "outputs": [
    {
     "data": {
      "image/png": "[encoded data removed]",
      "text/plain": [
       "<Figure size 432x288 with 1 Axes>"
      ]
     },
     "metadata": {},
     "output_type": "display_data"
    }
   ],
   "source": [
    "dmm = []\n",
    "mass1 = mass[::-1]\n",
    "dmm.append(mass1[0])\n",
    "\n",
    "for i in range(1, mass1.shape[0]):\n",
    "    dmm.append(mass1[i]-mass1[i-1])\n",
    "\n",
    "dmmm = np.array(dmm)\n",
    "\n",
    "plt.plot(radius*r_sun,dm)\n",
    "plt.plot(radius*r_sun,dmmm[::-1]*m_sun)\n",
    "plt.xlabel(\"radius [cm]\")\n",
    "plt.ylabel(\"m_per_zone [g]\")\n",
    "plt.grid()\n",
    "plt.show()"
   ]
  },
  {
   "cell_type": "code",
   "execution_count": 12,
   "metadata": {
    "scrolled": true
   },
   "outputs": [
    {
     "data": {
      "image/png": "[encoded data removed]",
      "text/plain": [
       "<Figure size 432x288 with 1 Axes>"
      ]
     },
     "metadata": {},
     "output_type": "display_data"
    }
   ],
   "source": [
    "r_center = []\n",
    "\n",
    "for i in range(r_cm.shape[0]-1):\n",
    "    r_center.append((r_cm[i]+r_cm[i+1])/2)\n",
    "\n",
    "r_center.append(r_cm[-1]/2)\n",
    "\n",
    "plt.plot(r_center)\n",
    "plt.plot(r_cm)\n",
    "plt.show()"
   ]
  },
  {
   "cell_type": "code",
   "execution_count": 13,
   "metadata": {
    "scrolled": true
   },
   "outputs": [],
   "source": [
    "data = pd.DataFrame(columns = ['r_center [cm]'],data = r_center[::-1])\n",
    "data['density [g/cm3]'] = rho[::-1]\n",
    "data['temperature [K]'] = temp[::-1]\n",
    "data['pressure'] = pressure[::-1]\n",
    "data['neon-20'] = np.array(a['ne20'])[::-1]\n",
    "data['oxygen-16'] =  np.array(a['o16'])[::-1]\n",
    "data['oxygen-20'] =  np.array(a['o20'])[::-1]\n",
    "data['fluorine-20'] =  np.array(a['f20'])[::-1]\n",
    "data['helium-4'] =  np.array(a['he4'])[::-1]\n",
    "data['aluminum-27'] = 0\n",
    "data['silicon-28'] =  np.array(a['si28'])[::-1]\n",
    "data['sulfur-32'] = 0\n",
    "data['phosphorus-31'] = 0\n",
    "data['hydrogen-1'] =  np.array(a['h1'])[::-1]"
   ]
  },
  {
   "cell_type": "code",
   "execution_count": 14,
   "metadata": {
    "scrolled": false
   },
   "outputs": [
    {
     "data": {
      "text/html": [
       "<div>\n",
       "<style scoped>\n",
       "    .dataframe tbody tr th:only-of-type {\n",
       "        vertical-align: middle;\n",
       "    }\n",
       "\n",
       "    .dataframe tbody tr th {\n",
       "        vertical-align: top;\n",
       "    }\n",
       "\n",
       "    .dataframe thead th {\n",
       "        text-align: right;\n",
       "    }\n",
       "</style>\n",
       "<table border=\"1\" class=\"dataframe\">\n",
       "  <thead>\n",
       "    <tr style=\"text-align: right;\">\n",
       "      <th></th>\n",
       "      <th>r_center [cm]</th>\n",
       "      <th>density [g/cm3]</th>\n",
       "      <th>temperature [K]</th>\n",
       "      <th>pressure</th>\n",
       "      <th>neon-20</th>\n",
       "      <th>oxygen-16</th>\n",
       "      <th>oxygen-20</th>\n",
       "      <th>fluorine-20</th>\n",
       "      <th>helium-4</th>\n",
       "      <th>aluminum-27</th>\n",
       "      <th>silicon-28</th>\n",
       "      <th>sulfur-32</th>\n",
       "      <th>phosphorus-31</th>\n",
       "      <th>hydrogen-1</th>\n",
       "    </tr>\n",
       "  </thead>\n",
       "  <tbody>\n",
       "    <tr>\n",
       "      <th>0</th>\n",
       "      <td>2113.473042</td>\n",
       "      <td>8.348568e+09</td>\n",
       "      <td>6.565855e+08</td>\n",
       "      <td>7.367388e+27</td>\n",
       "      <td>0.007297</td>\n",
       "      <td>0.599994</td>\n",
       "      <td>0.392705</td>\n",
       "      <td>2.021100e-09</td>\n",
       "      <td>8.924793e-23</td>\n",
       "      <td>0</td>\n",
       "      <td>0.000004</td>\n",
       "      <td>0</td>\n",
       "      <td>0</td>\n",
       "      <td>0.0</td>\n",
       "    </tr>\n",
       "    <tr>\n",
       "      <th>1</th>\n",
       "      <td>4305.738968</td>\n",
       "      <td>8.348568e+09</td>\n",
       "      <td>6.565856e+08</td>\n",
       "      <td>7.367388e+27</td>\n",
       "      <td>0.007297</td>\n",
       "      <td>0.599994</td>\n",
       "      <td>0.392705</td>\n",
       "      <td>2.021100e-09</td>\n",
       "      <td>8.924807e-23</td>\n",
       "      <td>0</td>\n",
       "      <td>0.000004</td>\n",
       "      <td>0</td>\n",
       "      <td>0</td>\n",
       "      <td>0.0</td>\n",
       "    </tr>\n",
       "    <tr>\n",
       "      <th>2</th>\n",
       "      <td>4421.925944</td>\n",
       "      <td>8.348568e+09</td>\n",
       "      <td>6.565856e+08</td>\n",
       "      <td>7.367388e+27</td>\n",
       "      <td>0.007297</td>\n",
       "      <td>0.599994</td>\n",
       "      <td>0.392705</td>\n",
       "      <td>2.021100e-09</td>\n",
       "      <td>8.924809e-23</td>\n",
       "      <td>0</td>\n",
       "      <td>0.000004</td>\n",
       "      <td>0</td>\n",
       "      <td>0</td>\n",
       "      <td>0.0</td>\n",
       "    </tr>\n",
       "    <tr>\n",
       "      <th>3</th>\n",
       "      <td>4495.428868</td>\n",
       "      <td>8.348568e+09</td>\n",
       "      <td>6.565856e+08</td>\n",
       "      <td>7.367388e+27</td>\n",
       "      <td>0.007297</td>\n",
       "      <td>0.599994</td>\n",
       "      <td>0.392705</td>\n",
       "      <td>2.021100e-09</td>\n",
       "      <td>8.924810e-23</td>\n",
       "      <td>0</td>\n",
       "      <td>0.000004</td>\n",
       "      <td>0</td>\n",
       "      <td>0</td>\n",
       "      <td>0.0</td>\n",
       "    </tr>\n",
       "    <tr>\n",
       "      <th>4</th>\n",
       "      <td>4558.056826</td>\n",
       "      <td>8.348568e+09</td>\n",
       "      <td>6.565856e+08</td>\n",
       "      <td>7.367388e+27</td>\n",
       "      <td>0.007297</td>\n",
       "      <td>0.599994</td>\n",
       "      <td>0.392705</td>\n",
       "      <td>2.021100e-09</td>\n",
       "      <td>8.924811e-23</td>\n",
       "      <td>0</td>\n",
       "      <td>0.000004</td>\n",
       "      <td>0</td>\n",
       "      <td>0</td>\n",
       "      <td>0.0</td>\n",
       "    </tr>\n",
       "  </tbody>\n",
       "</table>\n",
       "</div>"
      ],
      "text/plain": [
       "   r_center [cm]  density [g/cm3]  temperature [K]      pressure   neon-20  \\\n",
       "0    2113.473042     8.348568e+09     6.565855e+08  7.367388e+27  0.007297   \n",
       "1    4305.738968     8.348568e+09     6.565856e+08  7.367388e+27  0.007297   \n",
       "2    4421.925944     8.348568e+09     6.565856e+08  7.367388e+27  0.007297   \n",
       "3    4495.428868     8.348568e+09     6.565856e+08  7.367388e+27  0.007297   \n",
       "4    4558.056826     8.348568e+09     6.565856e+08  7.367388e+27  0.007297   \n",
       "\n",
       "   oxygen-16  oxygen-20   fluorine-20      helium-4  aluminum-27  silicon-28  \\\n",
       "0   0.599994   0.392705  2.021100e-09  8.924793e-23            0    0.000004   \n",
       "1   0.599994   0.392705  2.021100e-09  8.924807e-23            0    0.000004   \n",
       "2   0.599994   0.392705  2.021100e-09  8.924809e-23            0    0.000004   \n",
       "3   0.599994   0.392705  2.021100e-09  8.924810e-23            0    0.000004   \n",
       "4   0.599994   0.392705  2.021100e-09  8.924811e-23            0    0.000004   \n",
       "\n",
       "   sulfur-32  phosphorus-31  hydrogen-1  \n",
       "0          0              0         0.0  \n",
       "1          0              0         0.0  \n",
       "2          0              0         0.0  \n",
       "3          0              0         0.0  \n",
       "4          0              0         0.0  "
      ]
     },
     "execution_count": 14,
     "metadata": {},
     "output_type": "execute_result"
    }
   ],
   "source": [
    "data.head()"
   ]
  },
  {
   "cell_type": "code",
   "execution_count": 15,
   "metadata": {},
   "outputs": [
    {
     "data": {
      "text/plain": [
       "(1901, 14)"
      ]
     },
     "execution_count": 15,
     "metadata": {},
     "output_type": "execute_result"
    }
   ],
   "source": [
    "data.shape"
   ]
  },
  {
   "cell_type": "code",
   "execution_count": 16,
   "metadata": {},
   "outputs": [],
   "source": [
    "f = open(\"/Users/sailor/Desktop/asro_work/zingale_mesa/kepler_zingale_ONe6040-final.raw\", \"w\")\n",
    "\n",
    "header = '# npts = 1901\\n# num of variables = 13\\n# density\\n# temperature\\n# pressure\\n# neon-20\\n# oxygen-16\\n# oxygen-20\\n# fluorine-20\\n# helium-4\\n# aluminum-27\\n# silicon-28\\n# sulfur-32\\n# phosphorus-31\\n# hydrogen-1\\n'\n",
    "f.write(header)\n",
    "\n",
    "for i in range(1901):\n",
    "    for j in data.columns:\n",
    "        f.write(str(data[j][i]))\n",
    "        f.write(' ')\n",
    "    f.write('\\n')\n",
    "f.close()"
   ]
  },
  {
   "cell_type": "code",
   "execution_count": 57,
   "metadata": {},
   "outputs": [
    {
     "data": {
      "image/png": "[encoded data removed]",
      "text/plain": [
       "<Figure size 432x288 with 1 Axes>"
      ]
     },
     "metadata": {},
     "output_type": "display_data"
    }
   ],
   "source": [
    "plt.plot(r_cm, T, label='r_cm/r_sun')\n",
    "plt.plot(data['r_center [cm]'],data['temperature [K]'],\":\")\n",
    "#plt.xlim(0,1.5e3)\n",
    "#plt.ylim(1e6,2e9)\n",
    "plt.xlabel(\"radius [cm]\")\n",
    "plt.ylabel(\"temperature [K]\")\n",
    "plt.grid()"
   ]
  },
  {
   "cell_type": "code",
   "execution_count": 63,
   "metadata": {},
   "outputs": [
    {
     "data": {
      "image/png": "[encoded data removed]",
      "text/plain": [
       "<Figure size 432x288 with 1 Axes>"
      ]
     },
     "metadata": {},
     "output_type": "display_data"
    }
   ],
   "source": [
    "ne20 = a['ne20']\n",
    "plt.plot(r_cm, ne20, label='r_cm/r_sun')\n",
    "plt.plot(data['r_center [cm]'],data['neon-20'],\":\")\n",
    "#plt.xlim(0,1.5e3)\n",
    "#plt.ylim(1e6,2e9)\n",
    "plt.xlabel(\"radius [cm]\")\n",
    "plt.ylabel(\"temperature [K]\")\n",
    "plt.grid()"
   ]
  },
  {
   "cell_type": "code",
   "execution_count": 64,
   "metadata": {},
   "outputs": [
    {
     "data": {
      "image/png": "[encoded data removed]",
      "text/plain": [
       "<Figure size 432x288 with 1 Axes>"
      ]
     },
     "metadata": {},
     "output_type": "display_data"
    }
   ],
   "source": [
    "o16 = a['o16']\n",
    "plt.plot(r_cm, o16, label='r_cm/r_sun')\n",
    "plt.plot(data['r_center [cm]'],data['oxygen-16'],\":\")\n",
    "#plt.xlim(0,1.5e3)\n",
    "#plt.ylim(1e6,2e9)\n",
    "plt.xlabel(\"radius [cm]\")\n",
    "plt.ylabel(\"temperature [K]\")\n",
    "plt.grid()"
   ]
  },
  {
   "cell_type": "code",
   "execution_count": 66,
   "metadata": {},
   "outputs": [
    {
     "data": {
      "image/png": "[encoded data removed]",
      "text/plain": [
       "<Figure size 432x288 with 1 Axes>"
      ]
     },
     "metadata": {},
     "output_type": "display_data"
    }
   ],
   "source": [
    "o20 = a['o20']\n",
    "plt.plot(r_cm, o20, label='r_cm/r_sun')\n",
    "plt.plot(data['r_center [cm]'],data['oxygen-20'],\":\")\n",
    "#plt.xlim(0,1.5e3)\n",
    "#plt.ylim(1e6,2e9)\n",
    "plt.xlabel(\"radius [cm]\")\n",
    "plt.ylabel(\"temperature [K]\")\n",
    "plt.grid()"
   ]
  },
  {
   "cell_type": "code",
   "execution_count": 67,
   "metadata": {},
   "outputs": [
    {
     "data": {
      "image/png": "[encoded data removed]",
      "text/plain": [
       "<Figure size 432x288 with 1 Axes>"
      ]
     },
     "metadata": {},
     "output_type": "display_data"
    }
   ],
   "source": [
    "he4 = a['he4']\n",
    "plt.plot(r_cm, he4, label='r_cm/r_sun')\n",
    "plt.plot(data['r_center [cm]'],data['helium-4'],\":\")\n",
    "#plt.xlim(0,1.5e3)\n",
    "#plt.ylim(1e6,2e9)\n",
    "plt.xlabel(\"radius [cm]\")\n",
    "plt.ylabel(\"temperature [K]\")\n",
    "plt.grid()"
   ]
  },
  {
   "cell_type": "code",
   "execution_count": 51,
   "metadata": {},
   "outputs": [
    {
     "data": {
      "image/png": "[encoded data removed]",
      "text/plain": [
       "<Figure size 432x288 with 1 Axes>"
      ]
     },
     "metadata": {},
     "output_type": "display_data"
    }
   ],
   "source": [
    "rho = np.power(10,np.array(a[\"logRho\"]))\n",
    "eps_nuc = a.eps_nuc\n",
    "\n",
    "plt.semilogy(radius*r_sun,eps_nuc)\n",
    "plt.xlabel(\"radius [cm]\")\n",
    "plt.ylabel(\"eps_nuc [erg/s]\")\n",
    "plt.ylim(1e-39,1e11)\n",
    "plt.xlim(0,1.5e8)\n",
    "plt.grid()\n",
    "plt.title(\"MESA energy generation rate\")\n",
    "#plt.show()\n",
    "plt.savefig(\"MESA_enuc.png\")"
   ]
  },
  {
   "cell_type": "code",
   "execution_count": 3,
   "metadata": {},
   "outputs": [
    {
     "ename": "NameError",
     "evalue": "name 'r_center' is not defined",
     "output_type": "error",
     "traceback": [
      "\u001b[0;31m---------------------------------------------------------------------------\u001b[0m",
      "\u001b[0;31mNameError\u001b[0m                                 Traceback (most recent call last)",
      "\u001b[0;32m<ipython-input-3-3e64e4278cf7>\u001b[0m in \u001b[0;36m<module>\u001b[0;34m()\u001b[0m\n\u001b[0;32m----> 1\u001b[0;31m \u001b[0mdata\u001b[0m \u001b[0;34m=\u001b[0m \u001b[0mpd\u001b[0m\u001b[0;34m.\u001b[0m\u001b[0mDataFrame\u001b[0m\u001b[0;34m(\u001b[0m\u001b[0mcolumns\u001b[0m \u001b[0;34m=\u001b[0m \u001b[0;34m[\u001b[0m\u001b[0;34m'r_center [cm]'\u001b[0m\u001b[0;34m]\u001b[0m\u001b[0;34m,\u001b[0m\u001b[0mdata\u001b[0m \u001b[0;34m=\u001b[0m \u001b[0mr_center\u001b[0m\u001b[0;34m[\u001b[0m\u001b[0;34m:\u001b[0m\u001b[0;34m:\u001b[0m\u001b[0;34m-\u001b[0m\u001b[0;36m1\u001b[0m\u001b[0;34m]\u001b[0m\u001b[0;34m)\u001b[0m\u001b[0;34m\u001b[0m\u001b[0m\n\u001b[0m\u001b[1;32m      2\u001b[0m \u001b[0mdata\u001b[0m\u001b[0;34m[\u001b[0m\u001b[0;34m'density [g/cm3]'\u001b[0m\u001b[0;34m]\u001b[0m \u001b[0;34m=\u001b[0m \u001b[0mrho\u001b[0m\u001b[0;34m[\u001b[0m\u001b[0;34m:\u001b[0m\u001b[0;34m:\u001b[0m\u001b[0;34m-\u001b[0m\u001b[0;36m1\u001b[0m\u001b[0;34m]\u001b[0m\u001b[0;34m\u001b[0m\u001b[0m\n\u001b[1;32m      3\u001b[0m \u001b[0mdata\u001b[0m\u001b[0;34m[\u001b[0m\u001b[0;34m'temperature [K]'\u001b[0m\u001b[0;34m]\u001b[0m \u001b[0;34m=\u001b[0m \u001b[0mtemp\u001b[0m\u001b[0;34m[\u001b[0m\u001b[0;34m:\u001b[0m\u001b[0;34m:\u001b[0m\u001b[0;34m-\u001b[0m\u001b[0;36m1\u001b[0m\u001b[0;34m]\u001b[0m\u001b[0;34m\u001b[0m\u001b[0m\n\u001b[1;32m      4\u001b[0m \u001b[0mdata\u001b[0m\u001b[0;34m[\u001b[0m\u001b[0;34m'pressure'\u001b[0m\u001b[0;34m]\u001b[0m \u001b[0;34m=\u001b[0m \u001b[0mpressure\u001b[0m\u001b[0;34m[\u001b[0m\u001b[0;34m:\u001b[0m\u001b[0;34m:\u001b[0m\u001b[0;34m-\u001b[0m\u001b[0;36m1\u001b[0m\u001b[0;34m]\u001b[0m\u001b[0;34m\u001b[0m\u001b[0m\n\u001b[1;32m      5\u001b[0m \u001b[0mdata\u001b[0m\u001b[0;34m[\u001b[0m\u001b[0;34m'neon-20'\u001b[0m\u001b[0;34m]\u001b[0m \u001b[0;34m=\u001b[0m \u001b[0;36m0.4\u001b[0m\u001b[0;34m\u001b[0m\u001b[0m\n",
      "\u001b[0;31mNameError\u001b[0m: name 'r_center' is not defined"
     ]
    }
   ],
   "source": [
    "plt.plot(data[])"
   ]
  },
  {
   "cell_type": "code",
   "execution_count": 214,
   "metadata": {},
   "outputs": [],
   "source": [
    "rang = 3.e8"
   ]
  },
  {
   "cell_type": "code",
   "execution_count": 215,
   "metadata": {},
   "outputs": [
    {
     "data": {
      "text/plain": [
       "11.71875"
      ]
     },
     "execution_count": 215,
     "metadata": {},
     "output_type": "execute_result"
    }
   ],
   "source": [
    "s = rang/256/100000\n",
    "s"
   ]
  },
  {
   "cell_type": "code",
   "execution_count": 216,
   "metadata": {},
   "outputs": [
    {
     "data": {
      "text/plain": [
       "1500.0"
      ]
     },
     "execution_count": 216,
     "metadata": {},
     "output_type": "execute_result"
    }
   ],
   "source": [
    "t = rang/2/100000\n",
    "t"
   ]
  },
  {
   "cell_type": "code",
   "execution_count": 217,
   "metadata": {},
   "outputs": [
    {
     "data": {
      "text/plain": [
       "2.0036104743262015"
      ]
     },
     "execution_count": 217,
     "metadata": {},
     "output_type": "execute_result"
    }
   ],
   "source": [
    "(t-max(r_cm)/100000)/s"
   ]
  },
  {
   "cell_type": "code",
   "execution_count": 231,
   "metadata": {},
   "outputs": [
    {
     "data": {
      "text/plain": [
       "147652018.975399"
      ]
     },
     "execution_count": 231,
     "metadata": {},
     "output_type": "execute_result"
    }
   ],
   "source": [
    "max(r_cm)"
   ]
  },
  {
   "cell_type": "code",
   "execution_count": 264,
   "metadata": {},
   "outputs": [
    {
     "data": {
      "text/plain": [
       "58582.305898437495"
      ]
     },
     "execution_count": 264,
     "metadata": {},
     "output_type": "execute_result"
    }
   ],
   "source": [
    "149970703.1/2560"
   ]
  },
  {
   "cell_type": "code",
   "execution_count": 292,
   "metadata": {},
   "outputs": [
    {
     "data": {
      "text/plain": [
       "48828.125"
      ]
     },
     "execution_count": 292,
     "metadata": {},
     "output_type": "execute_result"
    }
   ],
   "source": [
    "k=2.5e8/5120\n",
    "k"
   ]
  },
  {
   "cell_type": "code",
   "execution_count": 293,
   "metadata": {},
   "outputs": [
    {
     "data": {
      "text/plain": [
       "32.0"
      ]
     },
     "execution_count": 293,
     "metadata": {},
     "output_type": "execute_result"
    }
   ],
   "source": [
    "1562500/k"
   ]
  },
  {
   "cell_type": "code",
   "execution_count": 290,
   "metadata": {},
   "outputs": [
    {
     "data": {
      "text/plain": [
       "1.7066666666666668"
      ]
     },
     "execution_count": 290,
     "metadata": {},
     "output_type": "execute_result"
    }
   ],
   "source": [
    "2560/1500"
   ]
  },
  {
   "cell_type": "code",
   "execution_count": 289,
   "metadata": {},
   "outputs": [
    {
     "data": {
      "text/plain": [
       "2.048"
      ]
     },
     "execution_count": 289,
     "metadata": {},
     "output_type": "execute_result"
    }
   ],
   "source": [
    "5120/2500"
   ]
  },
  {
   "cell_type": "code",
   "execution_count": 288,
   "metadata": {},
   "outputs": [
    {
     "data": {
      "text/plain": [
       "1.2892953929539295"
      ]
     },
     "execution_count": 288,
     "metadata": {},
     "output_type": "execute_result"
    }
   ],
   "source": [
    "1903/1476"
   ]
  },
  {
   "cell_type": "code",
   "execution_count": 307,
   "metadata": {},
   "outputs": [
    {
     "data": {
      "text/plain": [
       "48828.125"
      ]
     },
     "execution_count": 307,
     "metadata": {},
     "output_type": "execute_result"
    }
   ],
   "source": [
    "250000000/5120"
   ]
  },
  {
   "cell_type": "code",
   "execution_count": 308,
   "metadata": {},
   "outputs": [
    {
     "data": {
      "text/plain": [
       "32.0"
      ]
     },
     "execution_count": 308,
     "metadata": {},
     "output_type": "execute_result"
    }
   ],
   "source": [
    "1562500.000/48828.125"
   ]
  },
  {
   "cell_type": "code",
   "execution_count": 309,
   "metadata": {},
   "outputs": [
    {
     "data": {
      "text/plain": [
       "16.0"
      ]
     },
     "execution_count": 309,
     "metadata": {},
     "output_type": "execute_result"
    }
   ],
   "source": [
    "781250/48828.125"
   ]
  },
  {
   "cell_type": "code",
   "execution_count": 311,
   "metadata": {},
   "outputs": [
    {
     "data": {
      "text/plain": [
       "7812500.0"
      ]
     },
     "execution_count": 311,
     "metadata": {},
     "output_type": "execute_result"
    }
   ],
   "source": [
    "5e8/128*2"
   ]
  },
  {
   "cell_type": "code",
   "execution_count": 312,
   "metadata": {},
   "outputs": [
    {
     "data": {
      "text/plain": [
       "15625000.0"
      ]
     },
     "execution_count": 312,
     "metadata": {},
     "output_type": "execute_result"
    }
   ],
   "source": [
    "5e8/64*2"
   ]
  },
  {
   "cell_type": "code",
   "execution_count": 313,
   "metadata": {},
   "outputs": [
    {
     "data": {
      "text/plain": [
       "390625.0"
      ]
     },
     "execution_count": 313,
     "metadata": {},
     "output_type": "execute_result"
    }
   ],
   "source": [
    "5e8/1280"
   ]
  },
  {
   "cell_type": "code",
   "execution_count": 315,
   "metadata": {},
   "outputs": [
    {
     "data": {
      "text/plain": [
       "390625.0"
      ]
     },
     "execution_count": 315,
     "metadata": {},
     "output_type": "execute_result"
    }
   ],
   "source": [
    "5e8/256*2/10"
   ]
  },
  {
   "cell_type": "code",
   "execution_count": 326,
   "metadata": {},
   "outputs": [
    {
     "data": {
      "text/plain": [
       "390625.0"
      ]
     },
     "execution_count": 326,
     "metadata": {},
     "output_type": "execute_result"
    }
   ],
   "source": [
    "5e8/256*2/10"
   ]
  },
  {
   "cell_type": "code",
   "execution_count": 318,
   "metadata": {},
   "outputs": [
    {
     "data": {
      "text/plain": [
       "11.71875"
      ]
     },
     "execution_count": 318,
     "metadata": {},
     "output_type": "execute_result"
    }
   ],
   "source": [
    "3e8/256/1e2/1e3"
   ]
  },
  {
   "cell_type": "code",
   "execution_count": 329,
   "metadata": {},
   "outputs": [
    {
     "data": {
      "text/plain": [
       "48828.125"
      ]
     },
     "execution_count": 329,
     "metadata": {},
     "output_type": "execute_result"
    }
   ],
   "source": [
    "2.5e8/5120"
   ]
  },
  {
   "cell_type": "code",
   "execution_count": 322,
   "metadata": {},
   "outputs": [
    {
     "data": {
      "text/plain": [
       "48828.125"
      ]
     },
     "execution_count": 322,
     "metadata": {},
     "output_type": "execute_result"
    }
   ],
   "source": [
    "2.5e8/5120"
   ]
  },
  {
   "cell_type": "code",
   "execution_count": 328,
   "metadata": {},
   "outputs": [
    {
     "data": {
      "text/plain": [
       "1953125.0"
      ]
     },
     "execution_count": 328,
     "metadata": {},
     "output_type": "execute_result"
    }
   ],
   "source": [
    "5e8/256"
   ]
  },
  {
   "cell_type": "code",
   "execution_count": 330,
   "metadata": {},
   "outputs": [
    {
     "data": {
      "text/plain": [
       "8.0"
      ]
     },
     "execution_count": 330,
     "metadata": {},
     "output_type": "execute_result"
    }
   ],
   "source": [
    "390625/48828.125"
   ]
  },
  {
   "cell_type": "code",
   "execution_count": 333,
   "metadata": {},
   "outputs": [
    {
     "data": {
      "text/plain": [
       "13.671875"
      ]
     },
     "execution_count": 333,
     "metadata": {},
     "output_type": "execute_result"
    }
   ],
   "source": [
    "3500/256"
   ]
  },
  {
   "cell_type": "code",
   "execution_count": 335,
   "metadata": {},
   "outputs": [
    {
     "data": {
      "text/plain": [
       "16.0"
      ]
     },
     "execution_count": 335,
     "metadata": {},
     "output_type": "execute_result"
    }
   ],
   "source": [
    "195312.5000/12207.03125"
   ]
  },
  {
   "cell_type": "code",
   "execution_count": 336,
   "metadata": {},
   "outputs": [
    {
     "data": {
      "text/plain": [
       "166.66666666666666"
      ]
     },
     "execution_count": 336,
     "metadata": {},
     "output_type": "execute_result"
    }
   ],
   "source": [
    "1e4/60"
   ]
  },
  {
   "cell_type": "code",
   "execution_count": 8,
   "metadata": {},
   "outputs": [
    {
     "data": {
      "text/plain": [
       "4238.74058622636"
      ]
     },
     "execution_count": 8,
     "metadata": {},
     "output_type": "execute_result"
    }
   ],
   "source": [
    "min(r_cm)"
   ]
  },
  {
   "cell_type": "code",
   "execution_count": 4,
   "metadata": {},
   "outputs": [
    {
     "data": {
      "text/plain": [
       "Index(['zone', 'logT', 'logRho', 'logP', 'logR', 'luminosity', 'conv_vel',\n",
       "       'grav', 'eps_grav', 'log_abs_eps_grav_dm_div_L',\n",
       "       ...\n",
       "       'brunt_nonB', 'delta_r', 'delta_L', 'delta_cell_vol', 'delta_entropy',\n",
       "       'delta_T', 'delta_rho', 'delta_eps_nuc', 'delta_mu', 'nz_minus_k'],\n",
       "      dtype='object', length=143)"
      ]
     },
     "execution_count": 4,
     "metadata": {},
     "output_type": "execute_result"
    }
   ],
   "source": [
    "a.columns"
   ]
  },
  {
   "cell_type": "code",
   "execution_count": 5,
   "metadata": {
    "scrolled": false
   },
   "outputs": [
    {
     "name": "stdout",
     "output_type": "stream",
     "text": [
      "zone\n",
      "logT\n",
      "logRho\n",
      "logP\n",
      "logR\n",
      "luminosity\n",
      "conv_vel\n",
      "grav\n",
      "eps_grav\n",
      "log_abs_eps_grav_dm_div_L\n",
      "signed_log_eps_grav\n",
      "net_energy\n",
      "eps_nuc_plus_nuc_neu\n",
      "signed_log_power\n",
      "velocity\n",
      "entropy\n",
      "mixing_type\n",
      "csound\n",
      "v_div_cs\n",
      "scale_height\n",
      "eta\n",
      "mu\n",
      "dm\n",
      "logdq\n",
      "dq_ratio\n",
      "q\n",
      "log_q\n",
      "radius\n",
      "radius_cm\n",
      "rmid\n",
      "temperature\n",
      "tau\n",
      "logtau\n",
      "pressure\n",
      "pgas_div_ptotal\n",
      "logPgas\n",
      "logE\n",
      "grada\n",
      "cv\n",
      "cp\n",
      "gamma3\n",
      "gam\n",
      "free_e\n",
      "chiRho\n",
      "chiT\n",
      "x_mass_fraction_H\n",
      "y_mass_fraction_He\n",
      "z_mass_fraction_metals\n",
      "abar\n",
      "zbar\n",
      "ye\n",
      "log_opacity\n",
      "eps_nuc\n",
      "log_abs_eps_nuc\n",
      "d_lnepsnuc_dlnd\n",
      "d_lnepsnuc_dlnT\n",
      "non_nuc_neu\n",
      "mlt_mixing_length\n",
      "mlt_mixing_type\n",
      "gradT_sub_grada\n",
      "log_mlt_Gamma\n",
      "super_ad\n",
      "log_D_mix\n",
      "log_conv_vel\n",
      "conv_vel_div_csound\n",
      "log_mlt_D_mix\n",
      "pressure_scale_height\n",
      "log_D_conv\n",
      "log_D_soft\n",
      "log_D_semi\n",
      "log_D_ovr\n",
      "log_D_thrm\n",
      "log_D_minimum\n",
      "gradT\n",
      "gradr\n",
      "gradL\n",
      "dlnd\n",
      "dlnT\n",
      "mass\n",
      "logxq\n",
      "logxm\n",
      "x\n",
      "y\n",
      "z\n",
      "h1\n",
      "he3\n",
      "he4\n",
      "c12\n",
      "n14\n",
      "o16\n",
      "o20\n",
      "f20\n",
      "f23\n",
      "ne20\n",
      "ne22\n",
      "ne23\n",
      "ne24\n",
      "ne25\n",
      "na23\n",
      "na24\n",
      "na25\n",
      "mg24\n",
      "mg25\n",
      "si28\n",
      "pp\n",
      "cno\n",
      "tri_alfa\n",
      "burn_c\n",
      "burn_n\n",
      "burn_o\n",
      "burn_ne\n",
      "burn_na\n",
      "burn_mg\n",
      "burn_si\n",
      "burn_s\n",
      "burn_ar\n",
      "burn_ca\n",
      "burn_ti\n",
      "burn_cr\n",
      "burn_fe\n",
      "c12_c12\n",
      "c12_o16\n",
      "o16_o16\n",
      "pnhe4\n",
      "photo\n",
      "ni56_co56\n",
      "co56_fe56\n",
      "other\n",
      "brunt_N2\n",
      "brunt_N2_structure_term\n",
      "brunt_N2_composition_term\n",
      "brunt_N2_dimensionless\n",
      "brunt_B\n",
      "brunt_nonB\n",
      "delta_r\n",
      "delta_L\n",
      "delta_cell_vol\n",
      "delta_entropy\n",
      "delta_T\n",
      "delta_rho\n",
      "delta_eps_nuc\n",
      "delta_mu\n",
      "nz_minus_k\n"
     ]
    }
   ],
   "source": [
    "for name in a.columns:\n",
    "    print(name)"
   ]
  },
  {
   "cell_type": "code",
   "execution_count": 38,
   "metadata": {},
   "outputs": [
    {
     "data": {
      "text/plain": [
       "[<matplotlib.lines.Line2D at 0x111c77ba8>]"
      ]
     },
     "execution_count": 38,
     "metadata": {},
     "output_type": "execute_result"
    },
    {
     "data": {
      "image/png": "[encoded data removed]",
      "text/plain": [
       "<Figure size 432x288 with 1 Axes>"
      ]
     },
     "metadata": {},
     "output_type": "display_data"
    }
   ],
   "source": [
    "plt.plot(r_cm,a['ne20'])"
   ]
  },
  {
   "cell_type": "code",
   "execution_count": 39,
   "metadata": {},
   "outputs": [
    {
     "data": {
      "text/plain": [
       "[<matplotlib.lines.Line2D at 0x1128b13c8>]"
      ]
     },
     "execution_count": 39,
     "metadata": {},
     "output_type": "execute_result"
    },
    {
     "data": {
      "image/png": "[encoded data removed]",
      "text/plain": [
       "<Figure size 432x288 with 1 Axes>"
      ]
     },
     "metadata": {},
     "output_type": "display_data"
    }
   ],
   "source": [
    "plt.plot(r_cm,a['o16'])"
   ]
  },
  {
   "cell_type": "code",
   "execution_count": 40,
   "metadata": {},
   "outputs": [
    {
     "data": {
      "text/plain": [
       "[<matplotlib.lines.Line2D at 0x111d33c88>]"
      ]
     },
     "execution_count": 40,
     "metadata": {},
     "output_type": "execute_result"
    },
    {
     "data": {
      "image/png": "[encoded data removed]",
      "text/plain": [
       "<Figure size 432x288 with 1 Axes>"
      ]
     },
     "metadata": {},
     "output_type": "display_data"
    }
   ],
   "source": [
    "plt.plot(r_cm,a['o20'])"
   ]
  },
  {
   "cell_type": "code",
   "execution_count": 33,
   "metadata": {},
   "outputs": [
    {
     "data": {
      "text/plain": [
       "[<matplotlib.lines.Line2D at 0x120cb86a0>]"
      ]
     },
     "execution_count": 33,
     "metadata": {},
     "output_type": "execute_result"
    },
    {
     "data": {
      "image/png": "[encoded data removed]",
      "text/plain": [
       "<Figure size 432x288 with 1 Axes>"
      ]
     },
     "metadata": {},
     "output_type": "display_data"
    }
   ],
   "source": [
    "plt.plot(data['r_center [cm]'],data['neon-20'])"
   ]
  },
  {
   "cell_type": "code",
   "execution_count": 1,
   "metadata": {},
   "outputs": [
    {
     "data": {
      "text/plain": [
       "'/Users/sailor/Desktop/asro_work/git_fun/xinlong_file/zingale_mesa'"
      ]
     },
     "execution_count": 1,
     "metadata": {},
     "output_type": "execute_result"
    }
   ],
   "source": [
    "pwd\n"
   ]
  },
  {
   "cell_type": "code",
   "execution_count": null,
   "metadata": {},
   "outputs": [],
   "source": []
  }
 ],
 "metadata": {
  "kernelspec": {
   "display_name": "Python 3",
   "language": "python",
   "name": "python3"
  },
  "language_info": {
   "codemirror_mode": {
    "name": "ipython",
    "version": 3
   },
   "file_extension": ".py",
   "mimetype": "text/x-python",
   "name": "python",
   "nbconvert_exporter": "python",
   "pygments_lexer": "ipython3",
   "version": "3.6.5"
  }
 },
 "nbformat": 4,
 "nbformat_minor": 2
}
