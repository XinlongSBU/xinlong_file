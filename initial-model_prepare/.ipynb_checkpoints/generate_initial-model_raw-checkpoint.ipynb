{
 "cells": [
  {
   "cell_type": "code",
   "execution_count": 1,
   "metadata": {},
   "outputs": [],
   "source": [
    "import pandas as pd\n",
    "import numpy as np\n",
    "import matplotlib.pyplot as plt\n",
    "import re\n",
    "\n",
    "# Read data from mesa data: \n",
    "a = pd.read_excel(\"ONe6040_helm_update.xlsx\")"
   ]
  },
  {
   "cell_type": "code",
   "execution_count": 2,
   "metadata": {},
   "outputs": [],
   "source": [
    "r_cm = np.array(a[\"radius_cm\"])\n",
    "r_center = []\n",
    "\n",
    "for i in range(r_cm.shape[0]-1):\n",
    "    r_center.append((r_cm[i]+r_cm[i+1])/2)\n",
    "\n",
    "r_center.append(r_cm[-1]/2)"
   ]
  },
  {
   "cell_type": "code",
   "execution_count": 3,
   "metadata": {},
   "outputs": [],
   "source": [
    "rho = np.power(10,np.array(a[\"logRho\"]))\n",
    "temp = np.array(a[\"temperature\"])\n",
    "pressure = np.array(a['pressure'])"
   ]
  },
  {
   "cell_type": "code",
   "execution_count": 4,
   "metadata": {},
   "outputs": [],
   "source": [
    "data = pd.DataFrame(columns = ['r_center [cm]'],data = r_center[::-1])\n",
    "data['density [g/cm3]'] = rho[::-1]\n",
    "data['temperature [K]'] = temp[::-1]\n",
    "data['pressure'] = pressure[::-1]\n",
    "data['neon-20'] = np.array(a['ne20'])[::-1]\n",
    "data['oxygen-16'] =  np.array(a['o16'])[::-1]\n",
    "data['oxygen-20'] =  np.array(a['o20'])[::-1]\n",
    "data['magnesium-24'] =  np.array(a['mg24'])[::-1]\n",
    "data['fluorine-20'] =  np.array(a['f20'])[::-1]\n",
    "data['helium-4'] =  np.array(a['he4'])[::-1]\n",
    "data['aluminum-27'] = 0.0\n",
    "data['silicon-28'] =  np.array(a['si28'])[::-1]\n",
    "data['sulfur-32'] = 0.0\n",
    "data['phosphorus-31'] = 0.0\n",
    "data['hydrogen-1'] =  np.array(a['h1'])[::-1]"
   ]
  },
  {
   "cell_type": "code",
   "execution_count": 5,
   "metadata": {},
   "outputs": [
    {
     "data": {
      "text/html": [
       "<div>\n",
       "<style scoped>\n",
       "    .dataframe tbody tr th:only-of-type {\n",
       "        vertical-align: middle;\n",
       "    }\n",
       "\n",
       "    .dataframe tbody tr th {\n",
       "        vertical-align: top;\n",
       "    }\n",
       "\n",
       "    .dataframe thead th {\n",
       "        text-align: right;\n",
       "    }\n",
       "</style>\n",
       "<table border=\"1\" class=\"dataframe\">\n",
       "  <thead>\n",
       "    <tr style=\"text-align: right;\">\n",
       "      <th></th>\n",
       "      <th>r_center [cm]</th>\n",
       "      <th>density [g/cm3]</th>\n",
       "      <th>temperature [K]</th>\n",
       "      <th>pressure</th>\n",
       "      <th>neon-20</th>\n",
       "      <th>oxygen-16</th>\n",
       "      <th>oxygen-20</th>\n",
       "      <th>magnesium-24</th>\n",
       "      <th>fluorine-20</th>\n",
       "      <th>helium-4</th>\n",
       "      <th>aluminum-27</th>\n",
       "      <th>silicon-28</th>\n",
       "      <th>sulfur-32</th>\n",
       "      <th>phosphorus-31</th>\n",
       "      <th>hydrogen-1</th>\n",
       "    </tr>\n",
       "  </thead>\n",
       "  <tbody>\n",
       "    <tr>\n",
       "      <th>0</th>\n",
       "      <td>2113.473042</td>\n",
       "      <td>8.348568e+09</td>\n",
       "      <td>6.565855e+08</td>\n",
       "      <td>7.367388e+27</td>\n",
       "      <td>0.007297</td>\n",
       "      <td>0.599994</td>\n",
       "      <td>0.392705</td>\n",
       "      <td>4.964879e-16</td>\n",
       "      <td>2.021100e-09</td>\n",
       "      <td>8.924793e-23</td>\n",
       "      <td>0.0</td>\n",
       "      <td>0.000004</td>\n",
       "      <td>0.0</td>\n",
       "      <td>0.0</td>\n",
       "      <td>0.0</td>\n",
       "    </tr>\n",
       "    <tr>\n",
       "      <th>1</th>\n",
       "      <td>4305.738968</td>\n",
       "      <td>8.348568e+09</td>\n",
       "      <td>6.565856e+08</td>\n",
       "      <td>7.367388e+27</td>\n",
       "      <td>0.007297</td>\n",
       "      <td>0.599994</td>\n",
       "      <td>0.392705</td>\n",
       "      <td>4.964889e-16</td>\n",
       "      <td>2.021100e-09</td>\n",
       "      <td>8.924807e-23</td>\n",
       "      <td>0.0</td>\n",
       "      <td>0.000004</td>\n",
       "      <td>0.0</td>\n",
       "      <td>0.0</td>\n",
       "      <td>0.0</td>\n",
       "    </tr>\n",
       "    <tr>\n",
       "      <th>2</th>\n",
       "      <td>4421.925944</td>\n",
       "      <td>8.348568e+09</td>\n",
       "      <td>6.565856e+08</td>\n",
       "      <td>7.367388e+27</td>\n",
       "      <td>0.007297</td>\n",
       "      <td>0.599994</td>\n",
       "      <td>0.392705</td>\n",
       "      <td>4.964890e-16</td>\n",
       "      <td>2.021100e-09</td>\n",
       "      <td>8.924809e-23</td>\n",
       "      <td>0.0</td>\n",
       "      <td>0.000004</td>\n",
       "      <td>0.0</td>\n",
       "      <td>0.0</td>\n",
       "      <td>0.0</td>\n",
       "    </tr>\n",
       "    <tr>\n",
       "      <th>3</th>\n",
       "      <td>4495.428868</td>\n",
       "      <td>8.348568e+09</td>\n",
       "      <td>6.565856e+08</td>\n",
       "      <td>7.367388e+27</td>\n",
       "      <td>0.007297</td>\n",
       "      <td>0.599994</td>\n",
       "      <td>0.392705</td>\n",
       "      <td>4.964891e-16</td>\n",
       "      <td>2.021100e-09</td>\n",
       "      <td>8.924810e-23</td>\n",
       "      <td>0.0</td>\n",
       "      <td>0.000004</td>\n",
       "      <td>0.0</td>\n",
       "      <td>0.0</td>\n",
       "      <td>0.0</td>\n",
       "    </tr>\n",
       "    <tr>\n",
       "      <th>4</th>\n",
       "      <td>4558.056826</td>\n",
       "      <td>8.348568e+09</td>\n",
       "      <td>6.565856e+08</td>\n",
       "      <td>7.367388e+27</td>\n",
       "      <td>0.007297</td>\n",
       "      <td>0.599994</td>\n",
       "      <td>0.392705</td>\n",
       "      <td>4.964892e-16</td>\n",
       "      <td>2.021100e-09</td>\n",
       "      <td>8.924811e-23</td>\n",
       "      <td>0.0</td>\n",
       "      <td>0.000004</td>\n",
       "      <td>0.0</td>\n",
       "      <td>0.0</td>\n",
       "      <td>0.0</td>\n",
       "    </tr>\n",
       "  </tbody>\n",
       "</table>\n",
       "</div>"
      ],
      "text/plain": [
       "   r_center [cm]  density [g/cm3]  temperature [K]      pressure   neon-20  \\\n",
       "0    2113.473042     8.348568e+09     6.565855e+08  7.367388e+27  0.007297   \n",
       "1    4305.738968     8.348568e+09     6.565856e+08  7.367388e+27  0.007297   \n",
       "2    4421.925944     8.348568e+09     6.565856e+08  7.367388e+27  0.007297   \n",
       "3    4495.428868     8.348568e+09     6.565856e+08  7.367388e+27  0.007297   \n",
       "4    4558.056826     8.348568e+09     6.565856e+08  7.367388e+27  0.007297   \n",
       "\n",
       "   oxygen-16  oxygen-20  magnesium-24   fluorine-20      helium-4  \\\n",
       "0   0.599994   0.392705  4.964879e-16  2.021100e-09  8.924793e-23   \n",
       "1   0.599994   0.392705  4.964889e-16  2.021100e-09  8.924807e-23   \n",
       "2   0.599994   0.392705  4.964890e-16  2.021100e-09  8.924809e-23   \n",
       "3   0.599994   0.392705  4.964891e-16  2.021100e-09  8.924810e-23   \n",
       "4   0.599994   0.392705  4.964892e-16  2.021100e-09  8.924811e-23   \n",
       "\n",
       "   aluminum-27  silicon-28  sulfur-32  phosphorus-31  hydrogen-1  \n",
       "0          0.0    0.000004        0.0            0.0         0.0  \n",
       "1          0.0    0.000004        0.0            0.0         0.0  \n",
       "2          0.0    0.000004        0.0            0.0         0.0  \n",
       "3          0.0    0.000004        0.0            0.0         0.0  \n",
       "4          0.0    0.000004        0.0            0.0         0.0  "
      ]
     },
     "execution_count": 5,
     "metadata": {},
     "output_type": "execute_result"
    }
   ],
   "source": [
    "data.head()"
   ]
  },
  {
   "cell_type": "code",
   "execution_count": 6,
   "metadata": {},
   "outputs": [
    {
     "data": {
      "text/plain": [
       "(1901, 15)"
      ]
     },
     "execution_count": 6,
     "metadata": {},
     "output_type": "execute_result"
    }
   ],
   "source": [
    "data.shape"
   ]
  },
  {
   "cell_type": "code",
   "execution_count": 8,
   "metadata": {},
   "outputs": [],
   "source": [
    "f = open(\"ECSN-ONe6040-final.raw\", \"w\")\n",
    "\n",
    "header = '# npts = 1901\\n# num of variables = 14\\n# density\\n# temperature\\n# pressure\\n# neon-20\\n# oxygen-16\\n# oxygen-20\\n# magnesium-24\\n# fluorine-20\\n# helium-4\\n# aluminum-27\\n# silicon-28\\n# sulfur-32\\n# phosphorus-31\\n# hydrogen-1\\n'\n",
    "f.write(header)\n",
    "\n",
    "for i in range(1901):\n",
    "    for j in data.columns:\n",
    "        f.write(str(data[j][i]))\n",
    "        f.write(' ')\n",
    "    f.write('\\n')\n",
    "f.close()"
   ]
  },
  {
   "cell_type": "code",
   "execution_count": null,
   "metadata": {},
   "outputs": [],
   "source": []
  }
 ],
 "metadata": {
  "kernelspec": {
   "display_name": "Python 3",
   "language": "python",
   "name": "python3"
  },
  "language_info": {
   "codemirror_mode": {
    "name": "ipython",
    "version": 3
   },
   "file_extension": ".py",
   "mimetype": "text/x-python",
   "name": "python",
   "nbconvert_exporter": "python",
   "pygments_lexer": "ipython3",
   "version": "3.6.5"
  }
 },
 "nbformat": 4,
 "nbformat_minor": 2
}
