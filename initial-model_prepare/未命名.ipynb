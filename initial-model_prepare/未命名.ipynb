{
 "cells": [
  {
   "cell_type": "code",
   "execution_count": 2,
   "metadata": {},
   "outputs": [],
   "source": [
    "import pandas as pd\n",
    "import numpy as np\n",
    "import matplotlib.pyplot as plt\n",
    "import re\n",
    "import math\n",
    "\n",
    "# Read data from mesa data: \n",
    "a = pd.read_excel('ONe6040_helm_update.xlsx')"
   ]
  },
  {
   "cell_type": "code",
   "execution_count": 3,
   "metadata": {},
   "outputs": [],
   "source": [
    "r_cm = np.array(a[\"radius_cm\"])\n",
    "rho = np.power(10,np.array(a[\"logRho\"]))\n",
    "temp = np.array(a[\"temperature\"])\n",
    "pressure = np.array(a['pressure'])"
   ]
  },
  {
   "cell_type": "code",
   "execution_count": 4,
   "metadata": {},
   "outputs": [],
   "source": [
    "data = pd.DataFrame(columns = ['r_center [cm]'],data = r_cm[::-1])\n",
    "data['density [g/cm3]'] = rho[::-1]\n",
    "data['temperature [K]'] = temp[::-1]\n",
    "data['pressure'] = pressure[::-1]\n",
    "data['neon20'] = np.array(a['ne20'])[::-1]\n",
    "data['oxygen16'] =  np.array(a['o16'])[::-1]\n",
    "data['oxygen20'] =  np.array(a['o20'])[::-1]\n",
    "data['magnesium24'] =  np.array(a['mg24'])[::-1]\n",
    "data['fluorine20'] =  np.array(a['f20'])[::-1]\n",
    "data['helium4'] =  np.array(a['he4'])[::-1]\n",
    "data['aluminum27'] = 0.0\n",
    "data['silicon28'] =  np.array(a['si28'])[::-1]\n",
    "data['sulfur32'] = 0.0\n",
    "data['phosphorus31'] = 0.0\n",
    "data['hydrogen1'] =  np.array(a['h1'])[::-1]"
   ]
  },
  {
   "cell_type": "code",
   "execution_count": 5,
   "metadata": {},
   "outputs": [],
   "source": [
    "data['conv_vel'] =  np.array(a['conv_vel'])[::-1]\n",
    "data['velocity'] =  np.array(a['velocity'])[::-1]\n",
    "data['zone'] =  np.array(a['zone'])[::-1]"
   ]
  },
  {
   "cell_type": "code",
   "execution_count": 6,
   "metadata": {
    "scrolled": false
   },
   "outputs": [
    {
     "name": "stdout",
     "output_type": "stream",
     "text": [
      "zone\n",
      "logT\n",
      "logRho\n",
      "logP\n",
      "logR\n",
      "luminosity\n",
      "conv_vel\n",
      "grav\n",
      "eps_grav\n",
      "log_abs_eps_grav_dm_div_L\n",
      "signed_log_eps_grav\n",
      "net_energy\n",
      "eps_nuc_plus_nuc_neu\n",
      "signed_log_power\n",
      "velocity\n",
      "entropy\n",
      "mixing_type\n",
      "csound\n",
      "v_div_cs\n",
      "scale_height\n",
      "eta\n",
      "mu\n",
      "dm\n",
      "logdq\n",
      "dq_ratio\n",
      "q\n",
      "log_q\n",
      "radius\n",
      "radius_cm\n",
      "rmid\n",
      "temperature\n",
      "tau\n",
      "logtau\n",
      "pressure\n",
      "pgas_div_ptotal\n",
      "logPgas\n",
      "logE\n",
      "grada\n",
      "cv\n",
      "cp\n",
      "gamma3\n",
      "gam\n",
      "free_e\n",
      "chiRho\n",
      "chiT\n",
      "x_mass_fraction_H\n",
      "y_mass_fraction_He\n",
      "z_mass_fraction_metals\n",
      "abar\n",
      "zbar\n",
      "ye\n",
      "log_opacity\n",
      "eps_nuc\n",
      "log_abs_eps_nuc\n",
      "d_lnepsnuc_dlnd\n",
      "d_lnepsnuc_dlnT\n",
      "non_nuc_neu\n",
      "mlt_mixing_length\n",
      "mlt_mixing_type\n",
      "gradT_sub_grada\n",
      "log_mlt_Gamma\n",
      "super_ad\n",
      "log_D_mix\n",
      "log_conv_vel\n",
      "conv_vel_div_csound\n",
      "log_mlt_D_mix\n",
      "pressure_scale_height\n",
      "log_D_conv\n",
      "log_D_soft\n",
      "log_D_semi\n",
      "log_D_ovr\n",
      "log_D_thrm\n",
      "log_D_minimum\n",
      "gradT\n",
      "gradr\n",
      "gradL\n",
      "dlnd\n",
      "dlnT\n",
      "mass\n",
      "logxq\n",
      "logxm\n",
      "x\n",
      "y\n",
      "z\n",
      "h1\n",
      "he3\n",
      "he4\n",
      "c12\n",
      "n14\n",
      "o16\n",
      "o20\n",
      "f20\n",
      "f23\n",
      "ne20\n",
      "ne22\n",
      "ne23\n",
      "ne24\n",
      "ne25\n",
      "na23\n",
      "na24\n",
      "na25\n",
      "mg24\n",
      "mg25\n",
      "si28\n",
      "pp\n",
      "cno\n",
      "tri_alfa\n",
      "burn_c\n",
      "burn_n\n",
      "burn_o\n",
      "burn_ne\n",
      "burn_na\n",
      "burn_mg\n",
      "burn_si\n",
      "burn_s\n",
      "burn_ar\n",
      "burn_ca\n",
      "burn_ti\n",
      "burn_cr\n",
      "burn_fe\n",
      "c12_c12\n",
      "c12_o16\n",
      "o16_o16\n",
      "pnhe4\n",
      "photo\n",
      "ni56_co56\n",
      "co56_fe56\n",
      "other\n",
      "brunt_N2\n",
      "brunt_N2_structure_term\n",
      "brunt_N2_composition_term\n",
      "brunt_N2_dimensionless\n",
      "brunt_B\n",
      "brunt_nonB\n",
      "delta_r\n",
      "delta_L\n",
      "delta_cell_vol\n",
      "delta_entropy\n",
      "delta_T\n",
      "delta_rho\n",
      "delta_eps_nuc\n",
      "delta_mu\n",
      "nz_minus_k\n",
      "eps_nuc_mc2\n",
      "eps_nuc_neu\n",
      "eps_nuc_eos\n",
      "log_rate_r_n20_wk_f20\n",
      "log_rate_r1616\n"
     ]
    }
   ],
   "source": [
    "for item in a.columns:\n",
    "    print(item)"
   ]
  },
  {
   "cell_type": "code",
   "execution_count": 12,
   "metadata": {},
   "outputs": [
    {
     "data": {
      "image/png": "[encoded data removed]",
      "text/plain": [
       "<Figure size 432x288 with 1 Axes>"
      ]
     },
     "metadata": {},
     "output_type": "display_data"
    }
   ],
   "source": [
    "field = 'conv_vel'\n",
    "vel = np.array([0]*data.shape[0])\n",
    "vel = 120000.*np.exp(-(data['r_center [cm]']-7.5e6)**2/100000000000)\n",
    "plt.plot(data['r_center [cm]'],data[field],label='initial-model')\n",
    "plt.plot(data['r_center [cm]'],vel,label=\"gassian\")\n",
    "plt.xlim(0.6e7,0.82e7)\n",
    "#plt.ylim(5.e8,11.5e8)\n",
    "plt.grid()\n",
    "plt.xlabel(\"radius [cm]\")\n",
    "plt.ylabel(field)\n",
    "plt.legend()\n",
    "plt.savefig(\"velocity.png\")"
   ]
  },
  {
   "cell_type": "code",
   "execution_count": 8,
   "metadata": {},
   "outputs": [
    {
     "data": {
      "image/png": "[encoded data removed]",
      "text/plain": [
       "<Figure size 432x288 with 1 Axes>"
      ]
     },
     "metadata": {},
     "output_type": "display_data"
    }
   ],
   "source": [
    "field = 'conv_vel_div_csound'\n",
    "plt.plot(data['r_center [cm]'],np.array(a[field])[::-1],label='initial-model')\n",
    "plt.xlim(0,1.5e7)\n",
    "#plt.ylim(5.e8,11.5e8)\n",
    "plt.grid()\n",
    "plt.xlabel(\"radius [cm]\")\n",
    "plt.ylabel(field)\n",
    "plt.legend()\n",
    "plt.show()"
   ]
  },
  {
   "cell_type": "code",
   "execution_count": 45,
   "metadata": {},
   "outputs": [
    {
     "data": {
      "text/plain": [
       "-7000000.0"
      ]
     },
     "execution_count": 45,
     "metadata": {},
     "output_type": "execute_result"
    }
   ],
   "source": [
    "30156250**2+15156250**2+17656250**2-38090084.000793435**2"
   ]
  },
  {
   "cell_type": "code",
   "execution_count": 10,
   "metadata": {},
   "outputs": [],
   "source": [
    "a =[1,1,2,3,4,5,5,5,5,5]"
   ]
  },
  {
   "cell_type": "code",
   "execution_count": 12,
   "metadata": {},
   "outputs": [
    {
     "data": {
      "text/plain": [
       "2"
      ]
     },
     "execution_count": 12,
     "metadata": {},
     "output_type": "execute_result"
    }
   ],
   "source": [
    "a.count(1)"
   ]
  },
  {
   "cell_type": "code",
   "execution_count": null,
   "metadata": {},
   "outputs": [],
   "source": []
  }
 ],
 "metadata": {
  "kernelspec": {
   "display_name": "Python 3",
   "language": "python",
   "name": "python3"
  },
  "language_info": {
   "codemirror_mode": {
    "name": "ipython",
    "version": 3
   },
   "file_extension": ".py",
   "mimetype": "text/x-python",
   "name": "python",
   "nbconvert_exporter": "python",
   "pygments_lexer": "ipython3",
   "version": "3.6.5"
  }
 },
 "nbformat": 4,
 "nbformat_minor": 2
}
